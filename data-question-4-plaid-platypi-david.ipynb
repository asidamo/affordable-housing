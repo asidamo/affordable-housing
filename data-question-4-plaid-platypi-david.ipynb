{
 "cells": [
  {
   "cell_type": "code",
   "execution_count": 1,
   "metadata": {},
   "outputs": [],
   "source": [
    "import pandas as pd\n",
    "import numpy as np\n",
    "import seaborn as sns\n",
    "import matplotlib.pyplot as plt\n",
    "import re\n",
    "import psutil\n",
    "import geopandas as gpd\n",
    "from shapely.geometry import Point\n",
    "import folium"
   ]
  },
  {
   "cell_type": "code",
   "execution_count": 2,
   "metadata": {},
   "outputs": [],
   "source": [
    "sf2009 = pd.read_csv('/Users/davidhaines/DataScience/data-question-4-affordable-housing-plaid-platypi-plaidypi/metrodata/2009singlefamily_final_with_sqft.txt')\n",
    "sf2013 = pd.read_csv('/Users/davidhaines/DataScience/data-question-4-affordable-housing-plaid-platypi-plaidypi/metrodata/2013singlefamily_final_with_sqft.txt')\n",
    "sf2017 = pd.read_csv('/Users/davidhaines/DataScience/data-question-4-affordable-housing-plaid-platypi-plaidypi/metrodata/2017singlefamily_final_with_sqft.txt')"
   ]
  },
  {
   "cell_type": "code",
   "execution_count": 31,
   "metadata": {},
   "outputs": [
    {
     "data": {
      "text/html": [
       "<div>\n",
       "<style scoped>\n",
       "    .dataframe tbody tr th:only-of-type {\n",
       "        vertical-align: middle;\n",
       "    }\n",
       "\n",
       "    .dataframe tbody tr th {\n",
       "        vertical-align: top;\n",
       "    }\n",
       "\n",
       "    .dataframe thead th {\n",
       "        text-align: right;\n",
       "    }\n",
       "</style>\n",
       "<table border=\"1\" class=\"dataframe\">\n",
       "  <thead>\n",
       "    <tr style=\"text-align: right;\">\n",
       "      <th></th>\n",
       "      <th>APN</th>\n",
       "      <th>DistrictCode</th>\n",
       "      <th>DistrictNo</th>\n",
       "      <th>Address</th>\n",
       "      <th>City</th>\n",
       "      <th>Zip</th>\n",
       "      <th>LandValue</th>\n",
       "      <th>ImprovementValue</th>\n",
       "      <th>AppraisedValue</th>\n",
       "      <th>2009 TOTAL ASSD</th>\n",
       "      <th>FinishedArea</th>\n",
       "      <th>PricePerSqFt</th>\n",
       "      <th>Yearly_Housing_Spending</th>\n",
       "    </tr>\n",
       "  </thead>\n",
       "  <tbody>\n",
       "    <tr>\n",
       "      <th>0</th>\n",
       "      <td>00200000300</td>\n",
       "      <td>RT</td>\n",
       "      <td>10</td>\n",
       "      <td>1012 OLD BUCK HILL RD</td>\n",
       "      <td>GOODLETTSVILLE</td>\n",
       "      <td>37072</td>\n",
       "      <td>49800.0</td>\n",
       "      <td>65700.0</td>\n",
       "      <td>115500.0</td>\n",
       "      <td>28875.0</td>\n",
       "      <td>1920.0</td>\n",
       "      <td>60.156250</td>\n",
       "      <td>5232.568086</td>\n",
       "    </tr>\n",
       "    <tr>\n",
       "      <th>1</th>\n",
       "      <td>00200000700</td>\n",
       "      <td>RT</td>\n",
       "      <td>10</td>\n",
       "      <td>1109 HIGHLAND AVE</td>\n",
       "      <td>GOODLETTSVILLE</td>\n",
       "      <td>37072</td>\n",
       "      <td>44100.0</td>\n",
       "      <td>88700.0</td>\n",
       "      <td>132800.0</td>\n",
       "      <td>33200.0</td>\n",
       "      <td>1464.0</td>\n",
       "      <td>90.710383</td>\n",
       "      <td>6016.320708</td>\n",
       "    </tr>\n",
       "    <tr>\n",
       "      <th>2</th>\n",
       "      <td>00200001001002</td>\n",
       "      <td>GSD</td>\n",
       "      <td>10</td>\n",
       "      <td>0 SPRINGFIELD HWY</td>\n",
       "      <td>GOODLETTSVILLE</td>\n",
       "      <td>37072</td>\n",
       "      <td>15000.0</td>\n",
       "      <td>137900.0</td>\n",
       "      <td>152900.0</td>\n",
       "      <td>38225.0</td>\n",
       "      <td>3539.0</td>\n",
       "      <td>43.204295</td>\n",
       "      <td>6926.923466</td>\n",
       "    </tr>\n",
       "    <tr>\n",
       "      <th>3</th>\n",
       "      <td>00200001400001</td>\n",
       "      <td>RT</td>\n",
       "      <td>10</td>\n",
       "      <td>133 B EAST END RD</td>\n",
       "      <td>GOODLETTSVILLE</td>\n",
       "      <td>37072</td>\n",
       "      <td>41100.0</td>\n",
       "      <td>27000.0</td>\n",
       "      <td>68100.0</td>\n",
       "      <td>17025.0</td>\n",
       "      <td>736.0</td>\n",
       "      <td>92.527174</td>\n",
       "      <td>3085.176508</td>\n",
       "    </tr>\n",
       "    <tr>\n",
       "      <th>4</th>\n",
       "      <td>00200001600001</td>\n",
       "      <td>RT</td>\n",
       "      <td>10</td>\n",
       "      <td>141 B EAST END RD</td>\n",
       "      <td>GOODLETTSVILLE</td>\n",
       "      <td>37072</td>\n",
       "      <td>25100.0</td>\n",
       "      <td>60900.0</td>\n",
       "      <td>86000.0</td>\n",
       "      <td>21500.0</td>\n",
       "      <td>1301.0</td>\n",
       "      <td>66.102998</td>\n",
       "      <td>3896.111302</td>\n",
       "    </tr>\n",
       "  </tbody>\n",
       "</table>\n",
       "</div>"
      ],
      "text/plain": [
       "              APN DistrictCode  DistrictNo                Address  \\\n",
       "0     00200000300         RT            10  1012 OLD BUCK HILL RD   \n",
       "1     00200000700         RT            10      1109 HIGHLAND AVE   \n",
       "2  00200001001002         GSD           10      0 SPRINGFIELD HWY   \n",
       "3  00200001400001         RT            10      133 B EAST END RD   \n",
       "4  00200001600001         RT            10      141 B EAST END RD   \n",
       "\n",
       "             City    Zip  LandValue  ImprovementValue  AppraisedValue  \\\n",
       "0  GOODLETTSVILLE  37072    49800.0           65700.0        115500.0   \n",
       "1  GOODLETTSVILLE  37072    44100.0           88700.0        132800.0   \n",
       "2  GOODLETTSVILLE  37072    15000.0          137900.0        152900.0   \n",
       "3  GOODLETTSVILLE  37072    41100.0           27000.0         68100.0   \n",
       "4  GOODLETTSVILLE  37072    25100.0           60900.0         86000.0   \n",
       "\n",
       "   2009 TOTAL ASSD  FinishedArea  PricePerSqFt  Yearly_Housing_Spending  \n",
       "0          28875.0        1920.0     60.156250              5232.568086  \n",
       "1          33200.0        1464.0     90.710383              6016.320708  \n",
       "2          38225.0        3539.0     43.204295              6926.923466  \n",
       "3          17025.0         736.0     92.527174              3085.176508  \n",
       "4          21500.0        1301.0     66.102998              3896.111302  "
      ]
     },
     "execution_count": 31,
     "metadata": {},
     "output_type": "execute_result"
    }
   ],
   "source": [
    "sf2009.head()"
   ]
  },
  {
   "cell_type": "code",
   "execution_count": 4,
   "metadata": {},
   "outputs": [],
   "source": [
    "sf2009.rename(columns={'APN':'APN', 'DistrictCode':'DistrictCode', 'Council District':'DistrictNo', 'AddressFullAddress': 'Address', 'AddressCity':'City', 'AddressPostalCode':'Zip', '2009 LAND':'LandValue', '2009 IMPR':'ImprovementValue', '2009 TOTAL APPR':'AppraisedValue', '2009 TOTAL ASSD':'2009 TOTAL ASSD'}, inplace=True)"
   ]
  },
  {
   "cell_type": "code",
   "execution_count": 5,
   "metadata": {},
   "outputs": [],
   "source": [
    "sf2013.rename(columns={'APN':'APN', 'DistrictCode':'DistrictCode', 'Council District':'DistrictNo', 'AddressFullAddress': 'Address', 'AddressCity':'City', 'AddressPostalCode':'Zip', '2013 LAND':'LandValue', '2013 IMPR':'ImprovementValue', '2013 TOTAL APPR':'AppraisedValue', '2013 TOTAL ASSD':'2013 TOTAL ASSD'}, inplace=True)"
   ]
  },
  {
   "cell_type": "code",
   "execution_count": 6,
   "metadata": {},
   "outputs": [],
   "source": [
    "sf2017.rename(columns={'APN':'APN', 'DistrictCode':'DistrictCode', 'Council District':'DistrictNo', 'AddressFullAddress': 'Address', 'AddressCity':'City', 'AddressPostalCode':'Zip', '2017 LAND':'LandValue', '2017 IMPR':'ImprovementValue', '2017 TOTAL APPR':'AppraisedValue', '2017 TOTAL ASSD':'2017 TOTAL ASSD'}, inplace=True)"
   ]
  },
  {
   "cell_type": "code",
   "execution_count": null,
   "metadata": {
    "scrolled": false
   },
   "outputs": [],
   "source": [
    "sf2009.info()"
   ]
  },
  {
   "cell_type": "code",
   "execution_count": null,
   "metadata": {},
   "outputs": [],
   "source": [
    "sf2009.head()"
   ]
  },
  {
   "cell_type": "code",
   "execution_count": 13,
   "metadata": {},
   "outputs": [],
   "source": [
    "nulls09 = sf2009.loc[sf2009['FinishedArea'] == 0].index\n",
    "nulls13 = sf2013.loc[sf2013['FinishedArea'] == 0].index\n",
    "nulls17 = sf2017.loc[sf2017['FinishedArea'] == 0].index"
   ]
  },
  {
   "cell_type": "code",
   "execution_count": 14,
   "metadata": {},
   "outputs": [],
   "source": [
    "sf2009 = sf2009.drop(index=nulls09)\n",
    "sf2013 = sf2013.drop(index=nulls13)\n",
    "sf2017 = sf2017.drop(index=nulls17)"
   ]
  },
  {
   "cell_type": "code",
   "execution_count": 9,
   "metadata": {},
   "outputs": [
    {
     "name": "stdout",
     "output_type": "stream",
     "text": [
      "<class 'pandas.core.frame.DataFrame'>\n",
      "Int64Index: 183101 entries, 0 to 183405\n",
      "Data columns (total 11 columns):\n",
      "APN                 183101 non-null object\n",
      "DistrictCode        183101 non-null object\n",
      "DistrictNo          183101 non-null int64\n",
      "Address             183101 non-null object\n",
      "City                183101 non-null object\n",
      "Zip                 183101 non-null int64\n",
      "LandValue           183101 non-null float64\n",
      "ImprovementValue    183101 non-null float64\n",
      "AppraisedValue      183101 non-null float64\n",
      "2009 TOTAL ASSD     183101 non-null float64\n",
      "FinishedArea        183101 non-null float64\n",
      "dtypes: float64(5), int64(2), object(4)\n",
      "memory usage: 16.8+ MB\n"
     ]
    }
   ],
   "source": [
    "sf2009.info()"
   ]
  },
  {
   "cell_type": "code",
   "execution_count": 15,
   "metadata": {},
   "outputs": [],
   "source": [
    "sf2009['PricePerSqFt'] = sf2009.AppraisedValue/sf2009.FinishedArea\n",
    "sf2013['PricePerSqFt'] = sf2013.AppraisedValue/sf2013.FinishedArea\n",
    "sf2017['PricePerSqFt'] = sf2017.AppraisedValue/sf2017.FinishedArea"
   ]
  },
  {
   "cell_type": "code",
   "execution_count": 18,
   "metadata": {},
   "outputs": [
    {
     "data": {
      "text/html": [
       "<div>\n",
       "<style scoped>\n",
       "    .dataframe tbody tr th:only-of-type {\n",
       "        vertical-align: middle;\n",
       "    }\n",
       "\n",
       "    .dataframe tbody tr th {\n",
       "        vertical-align: top;\n",
       "    }\n",
       "\n",
       "    .dataframe thead th {\n",
       "        text-align: right;\n",
       "    }\n",
       "</style>\n",
       "<table border=\"1\" class=\"dataframe\">\n",
       "  <thead>\n",
       "    <tr style=\"text-align: right;\">\n",
       "      <th></th>\n",
       "      <th>APN</th>\n",
       "      <th>DistrictCode</th>\n",
       "      <th>DistrictNo</th>\n",
       "      <th>Address</th>\n",
       "      <th>City</th>\n",
       "      <th>Zip</th>\n",
       "      <th>LandValue</th>\n",
       "      <th>ImprovementValue</th>\n",
       "      <th>AppraisedValue</th>\n",
       "      <th>2009 TOTAL ASSD</th>\n",
       "      <th>FinishedArea</th>\n",
       "      <th>PricePerSqFt</th>\n",
       "      <th>Yearly_Housing_Spending</th>\n",
       "    </tr>\n",
       "  </thead>\n",
       "  <tbody>\n",
       "    <tr>\n",
       "      <th>138424</th>\n",
       "      <td>14407000500</td>\n",
       "      <td>FH</td>\n",
       "      <td>34</td>\n",
       "      <td>1152 CRATER HILL DR</td>\n",
       "      <td>NASHVILLE</td>\n",
       "      <td>37215</td>\n",
       "      <td>3120000.0</td>\n",
       "      <td>7257000.0</td>\n",
       "      <td>10377000.0</td>\n",
       "      <td>2594250.0</td>\n",
       "      <td>20394.0</td>\n",
       "      <td>508.826125</td>\n",
       "      <td>470115.662578</td>\n",
       "    </tr>\n",
       "  </tbody>\n",
       "</table>\n",
       "</div>"
      ],
      "text/plain": [
       "                APN DistrictCode  DistrictNo              Address       City  \\\n",
       "138424  14407000500         FH            34  1152 CRATER HILL DR  NASHVILLE   \n",
       "\n",
       "          Zip  LandValue  ImprovementValue  AppraisedValue  2009 TOTAL ASSD  \\\n",
       "138424  37215  3120000.0         7257000.0      10377000.0        2594250.0   \n",
       "\n",
       "        FinishedArea  PricePerSqFt  Yearly_Housing_Spending  \n",
       "138424       20394.0    508.826125            470115.662578  "
      ]
     },
     "execution_count": 18,
     "metadata": {},
     "output_type": "execute_result"
    }
   ],
   "source": [
    "sf2009.loc[sf2009.Yearly_Housing_Spending == sf2009.Yearly_Housing_Spending.max()]"
   ]
  },
  {
   "cell_type": "code",
   "execution_count": 11,
   "metadata": {},
   "outputs": [],
   "source": [
    "r=0.0475/12 # monthly interest rate\n",
    "m=30*12 # number of months in 30 years\n",
    "\n",
    "# calculate yearly spending\n",
    "\n",
    "sf2009['Yearly_Housing_Spending']=12*(sf2009.AppraisedValue-sf2009.AppraisedValue*0.05)*((r*(1+r)**m)/((1+r)**(m-1)))\n",
    "sf2013['Yearly_Housing_Spending']=12*(sf2013.AppraisedValue-sf2013.AppraisedValue*0.05)*((r*(1+r)**m)/((1+r)**(m-1)))\n",
    "sf2017['Yearly_Housing_Spending']=12*(sf2017.AppraisedValue-sf2017.AppraisedValue*0.05)*((r*(1+r)**m)/((1+r)**(m-1)))"
   ]
  },
  {
   "cell_type": "code",
   "execution_count": 24,
   "metadata": {},
   "outputs": [
    {
     "name": "stdout",
     "output_type": "stream",
     "text": [
      "30th percentile annual housing cost, 2009: 5191.794828125001\n",
      "30th percentile annual housing cost, 2013: 5024.171434895834\n",
      "30th percentile annual housing cost, 2017: 7280.291700520835\n"
     ]
    }
   ],
   "source": [
    "print('30th percentile annual housing cost, 2009: ' + str(sf2009['Yearly_Housing_Spending'].quantile(0.3)))\n",
    "print('30th percentile annual housing cost, 2013: ' + str(sf2013['Yearly_Housing_Spending'].quantile(0.3)))\n",
    "print('30th percentile annual housing cost, 2017: ' + str(sf2017['Yearly_Housing_Spending'].quantile(0.3)))"
   ]
  },
  {
   "cell_type": "code",
   "execution_count": 57,
   "metadata": {},
   "outputs": [
    {
     "data": {
      "text/html": [
       "<div>\n",
       "<style scoped>\n",
       "    .dataframe tbody tr th:only-of-type {\n",
       "        vertical-align: middle;\n",
       "    }\n",
       "\n",
       "    .dataframe tbody tr th {\n",
       "        vertical-align: top;\n",
       "    }\n",
       "\n",
       "    .dataframe thead th {\n",
       "        text-align: right;\n",
       "    }\n",
       "</style>\n",
       "<table border=\"1\" class=\"dataframe\">\n",
       "  <thead>\n",
       "    <tr style=\"text-align: right;\">\n",
       "      <th></th>\n",
       "      <th>APN</th>\n",
       "      <th>DistrictCode</th>\n",
       "      <th>DistrictNo</th>\n",
       "      <th>Address</th>\n",
       "      <th>City</th>\n",
       "      <th>Zip</th>\n",
       "      <th>LandValue</th>\n",
       "      <th>ImprovementValue</th>\n",
       "      <th>AppraisedValue</th>\n",
       "      <th>2009 TOTAL ASSD</th>\n",
       "      <th>FinishedArea</th>\n",
       "      <th>PricePerSqFt</th>\n",
       "      <th>Yearly_Housing_Spending</th>\n",
       "    </tr>\n",
       "  </thead>\n",
       "  <tbody>\n",
       "    <tr>\n",
       "      <th>138424</th>\n",
       "      <td>14407000500</td>\n",
       "      <td>FH</td>\n",
       "      <td>34</td>\n",
       "      <td>1152 CRATER HILL DR</td>\n",
       "      <td>NASHVILLE</td>\n",
       "      <td>37215</td>\n",
       "      <td>3120000.0</td>\n",
       "      <td>7257000.0</td>\n",
       "      <td>10377000.0</td>\n",
       "      <td>2594250.0</td>\n",
       "      <td>20394.0</td>\n",
       "      <td>508.826125</td>\n",
       "      <td>470115.662578</td>\n",
       "    </tr>\n",
       "  </tbody>\n",
       "</table>\n",
       "</div>"
      ],
      "text/plain": [
       "                APN DistrictCode  DistrictNo              Address       City  \\\n",
       "138424  14407000500         FH            34  1152 CRATER HILL DR  NASHVILLE   \n",
       "\n",
       "          Zip  LandValue  ImprovementValue  AppraisedValue  2009 TOTAL ASSD  \\\n",
       "138424  37215  3120000.0         7257000.0      10377000.0        2594250.0   \n",
       "\n",
       "        FinishedArea  PricePerSqFt  Yearly_Housing_Spending  \n",
       "138424       20394.0    508.826125            470115.662578  "
      ]
     },
     "execution_count": 57,
     "metadata": {},
     "output_type": "execute_result"
    }
   ],
   "source": [
    "sf2009.loc[sf2009.Yearly_Housing_Spending == sf2009.Yearly_Housing_Spending.max()]"
   ]
  },
  {
   "cell_type": "code",
   "execution_count": 12,
   "metadata": {},
   "outputs": [
    {
     "data": {
      "text/plain": [
       "count    183101.000000\n",
       "mean       1784.938334\n",
       "std         987.279617\n",
       "min         175.000000\n",
       "25%        1167.000000\n",
       "50%        1542.000000\n",
       "75%        2106.000000\n",
       "max       40418.000000\n",
       "Name: FinishedArea, dtype: float64"
      ]
     },
     "execution_count": 12,
     "metadata": {},
     "output_type": "execute_result"
    }
   ],
   "source": [
    "sf2009.FinishedArea.describe()"
   ]
  },
  {
   "cell_type": "code",
   "execution_count": 59,
   "metadata": {},
   "outputs": [
    {
     "data": {
      "text/html": [
       "<div>\n",
       "<style scoped>\n",
       "    .dataframe tbody tr th:only-of-type {\n",
       "        vertical-align: middle;\n",
       "    }\n",
       "\n",
       "    .dataframe tbody tr th {\n",
       "        vertical-align: top;\n",
       "    }\n",
       "\n",
       "    .dataframe thead th {\n",
       "        text-align: right;\n",
       "    }\n",
       "</style>\n",
       "<table border=\"1\" class=\"dataframe\">\n",
       "  <thead>\n",
       "    <tr style=\"text-align: right;\">\n",
       "      <th></th>\n",
       "      <th>APN</th>\n",
       "      <th>DistrictCode</th>\n",
       "      <th>DistrictNo</th>\n",
       "      <th>Address</th>\n",
       "      <th>City</th>\n",
       "      <th>Zip</th>\n",
       "      <th>LandValue</th>\n",
       "      <th>ImprovementValue</th>\n",
       "      <th>AppraisedValue</th>\n",
       "      <th>2009 TOTAL ASSD</th>\n",
       "      <th>FinishedArea</th>\n",
       "      <th>PricePerSqFt</th>\n",
       "      <th>Yearly_Housing_Spending</th>\n",
       "    </tr>\n",
       "  </thead>\n",
       "  <tbody>\n",
       "    <tr>\n",
       "      <th>157816</th>\n",
       "      <td>15700000600</td>\n",
       "      <td>FH</td>\n",
       "      <td>34</td>\n",
       "      <td>0 CHICKERING RD</td>\n",
       "      <td>NASHVILLE</td>\n",
       "      <td>37215</td>\n",
       "      <td>2299200.0</td>\n",
       "      <td>5300.0</td>\n",
       "      <td>2304500.0</td>\n",
       "      <td>576125.0</td>\n",
       "      <td>532.0</td>\n",
       "      <td>4331.766917</td>\n",
       "      <td>104402.19181</td>\n",
       "    </tr>\n",
       "  </tbody>\n",
       "</table>\n",
       "</div>"
      ],
      "text/plain": [
       "                APN DistrictCode  DistrictNo          Address       City  \\\n",
       "157816  15700000600         FH            34  0 CHICKERING RD  NASHVILLE   \n",
       "\n",
       "          Zip  LandValue  ImprovementValue  AppraisedValue  2009 TOTAL ASSD  \\\n",
       "157816  37215  2299200.0            5300.0       2304500.0         576125.0   \n",
       "\n",
       "        FinishedArea  PricePerSqFt  Yearly_Housing_Spending  \n",
       "157816         532.0   4331.766917             104402.19181  "
      ]
     },
     "execution_count": 59,
     "metadata": {},
     "output_type": "execute_result"
    }
   ],
   "source": [
    "sf2009.loc[sf2009.PricePerSqFt == sf2009.PricePerSqFt.max()]"
   ]
  },
  {
   "cell_type": "code",
   "execution_count": 56,
   "metadata": {},
   "outputs": [
    {
     "data": {
      "text/plain": [
       "<matplotlib.axes._subplots.AxesSubplot at 0x1a1aa21978>"
      ]
     },
     "execution_count": 56,
     "metadata": {},
     "output_type": "execute_result"
    },
    {
     "data": {
      "image/png": "[encoded data removed]",
      "text/plain": [
       "<Figure size 432x288 with 1 Axes>"
      ]
     },
     "metadata": {},
     "output_type": "display_data"
    }
   ],
   "source": [
    "sf2009.FinishedArea.plot(kind='hist')"
   ]
  },
  {
   "cell_type": "code",
   "execution_count": 52,
   "metadata": {},
   "outputs": [
    {
     "data": {
      "text/plain": [
       "count    183101.000000\n",
       "mean       9132.349789\n",
       "std       10094.401284\n",
       "min         185.744841\n",
       "25%        4883.730214\n",
       "50%        6582.615956\n",
       "75%        9966.796354\n",
       "max      470115.662578\n",
       "Name: Yearly_Housing_Spending, dtype: float64"
      ]
     },
     "execution_count": 52,
     "metadata": {},
     "output_type": "execute_result"
    }
   ],
   "source": [
    "sf2009['Yearly_Housing_Spending'].describe()"
   ]
  },
  {
   "cell_type": "code",
   "execution_count": 11,
   "metadata": {},
   "outputs": [
    {
     "data": {
      "text/plain": [
       "count    186269.000000\n",
       "mean       9108.083731\n",
       "std       10329.934434\n",
       "min          63.425068\n",
       "25%        4684.394286\n",
       "50%        6469.356906\n",
       "75%       10021.160698\n",
       "max      526903.749987\n",
       "Name: Yearly_Housing_Spending, dtype: float64"
      ]
     },
     "execution_count": 11,
     "metadata": {},
     "output_type": "execute_result"
    }
   ],
   "source": [
    "sf2013['Yearly_Housing_Spending'].describe()"
   ]
  },
  {
   "cell_type": "code",
   "execution_count": 13,
   "metadata": {},
   "outputs": [
    {
     "data": {
      "text/plain": [
       "count    197114.000000\n",
       "mean      12599.598931\n",
       "std       12431.198272\n",
       "min         113.259049\n",
       "25%        6781.951883\n",
       "50%        9414.092193\n",
       "75%       14198.154443\n",
       "max      520801.352401\n",
       "Name: Yearly_Housing_Spending, dtype: float64"
      ]
     },
     "execution_count": 13,
     "metadata": {},
     "output_type": "execute_result"
    }
   ],
   "source": [
    "sf2017['Yearly_Housing_Spending'].describe()"
   ]
  },
  {
   "cell_type": "code",
   "execution_count": 16,
   "metadata": {},
   "outputs": [
    {
     "data": {
      "text/plain": [
       "<matplotlib.axes._subplots.AxesSubplot at 0x1a12f2ab00>"
      ]
     },
     "execution_count": 16,
     "metadata": {},
     "output_type": "execute_result"
    },
    {
     "data": {
      "image/png": "[encoded data removed]",
      "text/plain": [
       "<Figure size 432x288 with 1 Axes>"
      ]
     },
     "metadata": {},
     "output_type": "display_data"
    }
   ],
   "source": [
    "sf2009.Yearly_Housing_Spending.plot(kind='hist', bins=150)"
   ]
  },
  {
   "cell_type": "code",
   "execution_count": null,
   "metadata": {
    "scrolled": true
   },
   "outputs": [],
   "source": [
    "sf2013.info()"
   ]
  },
  {
   "cell_type": "code",
   "execution_count": null,
   "metadata": {},
   "outputs": [],
   "source": [
    "sf2017.info()"
   ]
  },
  {
   "cell_type": "code",
   "execution_count": null,
   "metadata": {},
   "outputs": [],
   "source": [
    "sf2009.AppraisedValue.describe()"
   ]
  },
  {
   "cell_type": "code",
   "execution_count": null,
   "metadata": {},
   "outputs": [],
   "source": [
    "sf2009.AppraisedValue.plot()"
   ]
  },
  {
   "cell_type": "code",
   "execution_count": null,
   "metadata": {},
   "outputs": [],
   "source": [
    "sf2013.AppraisedValue.describe()"
   ]
  },
  {
   "cell_type": "code",
   "execution_count": null,
   "metadata": {},
   "outputs": [],
   "source": [
    "sf2013.AppraisedValue.plot()"
   ]
  },
  {
   "cell_type": "code",
   "execution_count": null,
   "metadata": {},
   "outputs": [],
   "source": [
    "sf2017.AppraisedValue.describe()"
   ]
  },
  {
   "cell_type": "code",
   "execution_count": null,
   "metadata": {},
   "outputs": [],
   "source": [
    "sf2017.AppraisedValue.plot()"
   ]
  },
  {
   "cell_type": "code",
   "execution_count": null,
   "metadata": {},
   "outputs": [],
   "source": [
    "sf2009.AppraisedValue.describe()"
   ]
  },
  {
   "cell_type": "code",
   "execution_count": 20,
   "metadata": {},
   "outputs": [],
   "source": [
    "issued = pd.read_csv('/Users/davidhaines/DataScience/data-question-4-affordable-housing-plaid-platypi-plaidypi/metrodata/Building_Permits_Issued.csv', low_memory=False)"
   ]
  },
  {
   "cell_type": "code",
   "execution_count": null,
   "metadata": {},
   "outputs": [],
   "source": [
    "issued.head()"
   ]
  },
  {
   "cell_type": "code",
   "execution_count": 21,
   "metadata": {},
   "outputs": [],
   "source": [
    "issued.rename(columns={'Permit #': 'PermitNo', 'Permit Type Description':'PermTypeDesc', 'Permit Subtype Description': 'PermSubDesc', 'Parcel':'Parcel', 'Date Entered':'EnteredDt', 'Date Issued': 'IssuedDt', 'Const. Cost': 'ConstCost', 'Address':'Address', 'City':'City', 'State':'State', 'Zip':'Zip', 'Subdivision/Lot': 'Subdiv_Lot', 'Contact':'Contact', 'Permit Type': 'PermType', 'Permit Subtype': 'PermSubtype', 'IVR Trk#': 'IVRTrk#', 'Purpose':'Purpose', 'Council Dist':'CouncilDist', 'Census Tract':'CensusTract', 'Mapped Location':'MappedLoc'}, inplace=True)"
   ]
  },
  {
   "cell_type": "code",
   "execution_count": 22,
   "metadata": {},
   "outputs": [],
   "source": [
    "issued['EnteredDt'] = pd.to_datetime(issued['EnteredDt'])\n",
    "issued['IssuedDt'] = pd.to_datetime(issued['IssuedDt'])"
   ]
  },
  {
   "cell_type": "code",
   "execution_count": null,
   "metadata": {},
   "outputs": [],
   "source": [
    "issued.info()"
   ]
  },
  {
   "cell_type": "code",
   "execution_count": null,
   "metadata": {},
   "outputs": [],
   "source": [
    "issued.MappedLoc.unique()"
   ]
  },
  {
   "cell_type": "code",
   "execution_count": null,
   "metadata": {},
   "outputs": [],
   "source": [
    "issued.columns"
   ]
  },
  {
   "cell_type": "code",
   "execution_count": null,
   "metadata": {},
   "outputs": [],
   "source": [
    "issued.PermTypeDesc.unique()"
   ]
  },
  {
   "cell_type": "code",
   "execution_count": null,
   "metadata": {},
   "outputs": [],
   "source": [
    "issued.head()"
   ]
  },
  {
   "cell_type": "code",
   "execution_count": null,
   "metadata": {},
   "outputs": [],
   "source": [
    "permitdecode = pd.DataFrame(issued[['PermTypeDesc','PermType']])"
   ]
  },
  {
   "cell_type": "code",
   "execution_count": null,
   "metadata": {},
   "outputs": [],
   "source": [
    "result = re.findall('-?\\d*\\.\\d*', issued.MappedLoc[1])"
   ]
  },
  {
   "cell_type": "code",
   "execution_count": null,
   "metadata": {},
   "outputs": [],
   "source": [
    "print(result)"
   ]
  },
  {
   "cell_type": "code",
   "execution_count": null,
   "metadata": {},
   "outputs": [],
   "source": [
    "permitdecode.drop_duplicates()"
   ]
  },
  {
   "cell_type": "markdown",
   "metadata": {},
   "source": [
    "CARN, CARR, CADM"
   ]
  },
  {
   "cell_type": "code",
   "execution_count": null,
   "metadata": {},
   "outputs": [],
   "source": [
    "#resnew = pd.DataFrame(issued.loc[issued['PermType'] == 'CARW'])\n",
    "respermits = pd.DataFrame(issued.loc[issued['PermType'].isin(['CARN','CARR'])])"
   ]
  },
  {
   "cell_type": "code",
   "execution_count": null,
   "metadata": {},
   "outputs": [],
   "source": [
    "respermits.info()"
   ]
  },
  {
   "cell_type": "code",
   "execution_count": null,
   "metadata": {},
   "outputs": [],
   "source": [
    "newhomes = respermits.Purpose.str.match(r'[dD]emolition')"
   ]
  },
  {
   "cell_type": "code",
   "execution_count": null,
   "metadata": {},
   "outputs": [],
   "source": [
    "respermits."
   ]
  },
  {
   "cell_type": "code",
   "execution_count": null,
   "metadata": {},
   "outputs": [],
   "source": [
    "respermits.Purpose.unique()"
   ]
  },
  {
   "cell_type": "code",
   "execution_count": null,
   "metadata": {},
   "outputs": [],
   "source": [
    "demos = pd.DataFrame(issued.loc[issued['PermType'] == 'CADM'])"
   ]
  },
  {
   "cell_type": "code",
   "execution_count": null,
   "metadata": {},
   "outputs": [],
   "source": [
    "demos.ConstCost.median()"
   ]
  },
  {
   "cell_type": "code",
   "execution_count": null,
   "metadata": {},
   "outputs": [],
   "source": [
    "respermits.set_index('IssuedDt', inplace=True)"
   ]
  },
  {
   "cell_type": "code",
   "execution_count": null,
   "metadata": {},
   "outputs": [],
   "source": [
    "respermits.info()"
   ]
  },
  {
   "cell_type": "code",
   "execution_count": null,
   "metadata": {},
   "outputs": [],
   "source": [
    "len(respermits.PermSubDesc.unique())"
   ]
  },
  {
   "cell_type": "code",
   "execution_count": null,
   "metadata": {},
   "outputs": [],
   "source": [
    "monthlycost = respermits['ConstCost'].resample('M').mean()"
   ]
  },
  {
   "cell_type": "code",
   "execution_count": null,
   "metadata": {},
   "outputs": [],
   "source": [
    "monthlycost.plot()"
   ]
  },
  {
   "cell_type": "code",
   "execution_count": null,
   "metadata": {},
   "outputs": [],
   "source": [
    "respermits."
   ]
  },
  {
   "cell_type": "code",
   "execution_count": null,
   "metadata": {},
   "outputs": [],
   "source": [
    "respermits.describe()"
   ]
  },
  {
   "cell_type": "code",
   "execution_count": null,
   "metadata": {},
   "outputs": [],
   "source": [
    "resnew.EnteredDt.describe()"
   ]
  },
  {
   "cell_type": "code",
   "execution_count": null,
   "metadata": {},
   "outputs": [],
   "source": [
    "resnew.IssuedDt.describe()"
   ]
  },
  {
   "cell_type": "code",
   "execution_count": null,
   "metadata": {},
   "outputs": [],
   "source": [
    "resnew.ConstCost.describe()"
   ]
  },
  {
   "cell_type": "code",
   "execution_count": null,
   "metadata": {},
   "outputs": [],
   "source": [
    "issued['CouncilDist'].unique()"
   ]
  },
  {
   "cell_type": "code",
   "execution_count": null,
   "metadata": {},
   "outputs": [],
   "source": [
    "issued['MappedLoc'][1]"
   ]
  },
  {
   "cell_type": "code",
   "execution_count": null,
   "metadata": {},
   "outputs": [],
   "source": [
    "issued['extcoords'] = issued.MappedLoc.str.extract(r'?\\(.*\\)', expand=False)"
   ]
  },
  {
   "cell_type": "code",
   "execution_count": null,
   "metadata": {},
   "outputs": [],
   "source": [
    "coords = re.compile(r'\\(.*\\)')"
   ]
  },
  {
   "cell_type": "code",
   "execution_count": null,
   "metadata": {},
   "outputs": [],
   "source": [
    "matches = []"
   ]
  },
  {
   "cell_type": "code",
   "execution_count": null,
   "metadata": {},
   "outputs": [],
   "source": [
    "for string in issued.MappedLoc:\n",
    "    match = re.findall(coords, string)\n",
    "    matches.append(match)"
   ]
  },
  {
   "cell_type": "code",
   "execution_count": null,
   "metadata": {},
   "outputs": [],
   "source": [
    "type(matches)"
   ]
  },
  {
   "cell_type": "code",
   "execution_count": null,
   "metadata": {},
   "outputs": [],
   "source": [
    "type(matches[1])"
   ]
  },
  {
   "cell_type": "code",
   "execution_count": null,
   "metadata": {},
   "outputs": [],
   "source": [
    "#[s for s in i[s] for i in matches]\n",
    "\n",
    "coordlist = []\n",
    "for i in enumerate(matches):\n",
    "    i = []\n",
    "    for s in i[s]:\n",
    "        coordlist.append(tuple(s))"
   ]
  },
  {
   "cell_type": "code",
   "execution_count": null,
   "metadata": {},
   "outputs": [],
   "source": [
    "len(matches)"
   ]
  },
  {
   "cell_type": "code",
   "execution_count": null,
   "metadata": {},
   "outputs": [],
   "source": [
    "matches[1]"
   ]
  },
  {
   "cell_type": "code",
   "execution_count": null,
   "metadata": {
    "scrolled": true
   },
   "outputs": [],
   "source": [
    "issued['coords'] = pd.Series(matches).astype(tuple)"
   ]
  },
  {
   "cell_type": "code",
   "execution_count": null,
   "metadata": {},
   "outputs": [],
   "source": [
    "issued['coords'][1]"
   ]
  },
  {
   "cell_type": "markdown",
   "metadata": {},
   "source": [
    "Income data:\n",
    "    Median average income: 68000\n",
    "        Income subgroups:\n",
    "        30% MAI (20400 /yr) (30% housing = 510/mo)\n",
    "        60% MAI (40800 /yr) (30% housing = 1020/mo)\n",
    "        80% MAI (54400 /yr) (30% housing = 1360/mo)\n",
    "        120% MAI (81600 /yr) (30% housing = 2040/mo)"
   ]
  },
  {
   "cell_type": "markdown",
   "metadata": {},
   "source": [
    "Model development:\n",
    "    \n",
    "    Owners = 54%\n",
    "        - Model annual adjustments to these numbers\n",
    "    \n",
    "    \n",
    "    Median Housing Cost - Owner = 1336/month * 12 = 16032/yr\n",
    "\n",
    "    15-yr owner gap (affordable) = 3367\n",
    "    15-yr owner gap (market) = 35751\n",
    "\n",
    "    10-yr predicted owner gap (affordable) = 1257\n",
    "    10-yr predicted owner gap (market) = 41421\n",
    "    "
   ]
  },
  {
   "cell_type": "code",
   "execution_count": null,
   "metadata": {},
   "outputs": [],
   "source": [
    "issued.Issued.min()"
   ]
  },
  {
   "cell_type": "code",
   "execution_count": null,
   "metadata": {},
   "outputs": [],
   "source": [
    "issued.Issued.max()"
   ]
  },
  {
   "cell_type": "code",
   "execution_count": null,
   "metadata": {},
   "outputs": [],
   "source": [
    "issued['monthlies'] = pd.Series([cost/360 for cost in issued.ConstCost])"
   ]
  },
  {
   "cell_type": "code",
   "execution_count": null,
   "metadata": {},
   "outputs": [],
   "source": [
    "issued.info()"
   ]
  },
  {
   "cell_type": "code",
   "execution_count": null,
   "metadata": {},
   "outputs": [],
   "source": [
    "issued.Zip.unique()"
   ]
  },
  {
   "cell_type": "markdown",
   "metadata": {},
   "source": [
    "Question 1: At what point in time did the Codes Administration decide to begin “closing the loophole” by converting R zoning to RS?\n",
    "\n",
    "Response 1: The Codes Administration does not set zoning policy, we interpret/enforce it. The Planning Commission and Metro Council are the ones who change zoning rules. The last major revision countywide to the zoning code was in 1997 when they rezoned a lot of properties in bulk. Since then, Councilmembers have proposed zoning changes for their neighborhoods on a piecemeal basis, or developers have requested zoning changes for particular properties. There hasn’t been an effort by Metro Government to downzone properties because of the duplex situation, but some Council members have. (edited)\n",
    "\n",
    "Question 2: According to the report (Housing Nashville), there are predetermined amounts of needed housing and rental properties in each district. How is the split between housing demand and rental demand being evaluated? Is this arbitrary or is there census data giving us a proportion to go off of?\n",
    "\n",
    "Question 3: What criteria was used to calculated the ‘Maximum Affordable Sales Price’  from the MHI on page 56 of the Housing Nashville Report? What interest rate and/or tax rate was assumed?\n",
    "\n",
    "Response 2 & 3: Unfortunately, the folks that produced the Housing Nashville Report have left Metro Government so I don’t know that we’ll get all the answers. Looking at question three, I believe the estimate was based on a 5% down payment and about a 4% interest rate for a 30 year mortgage.\n",
    "Also, We have also asked Assessments for an update to the 3-years of assessment data to include the square footage of the property and the zoning code for the property. (edited)"
   ]
  },
  {
   "cell_type": "markdown",
   "metadata": {},
   "source": [
    "Renters = 46%\n",
    "Median Housing Cost - Renter = 874/month * 12 = 10488/yr\n",
    "    \n",
    "    15-yr rental gap (affordable) = 17754\n",
    "    15-yr rental gap (market) = 22219\n",
    "        \n",
    "    10-yr predicted rental gap (affordable) = 30934\n",
    "    10-yr predicted rental gap (market) = 23043"
   ]
  },
  {
   "cell_type": "code",
   "execution_count": 25,
   "metadata": {},
   "outputs": [],
   "source": [
    "codetypes = pd.read_excel('/Users/davidhaines/DataScience/data-question-4-affordable-housing-plaid-platypi-plaidypi/metrodata/Codes-Type-Subtype-List-20181011.xlsx')"
   ]
  },
  {
   "cell_type": "code",
   "execution_count": 26,
   "metadata": {},
   "outputs": [
    {
     "name": "stdout",
     "output_type": "stream",
     "text": [
      "<class 'pandas.core.frame.DataFrame'>\n",
      "RangeIndex: 947 entries, 0 to 946\n",
      "Data columns (total 4 columns):\n",
      "CASE_TYPE         947 non-null object\n",
      "CASE_TYPE_DESC    947 non-null object\n",
      "SUB_TYPE          932 non-null object\n",
      "SUB_TYPE_DESC     932 non-null object\n",
      "dtypes: object(4)\n",
      "memory usage: 29.7+ KB\n"
     ]
    }
   ],
   "source": [
    "codetypes.info()"
   ]
  },
  {
   "cell_type": "code",
   "execution_count": 27,
   "metadata": {},
   "outputs": [
    {
     "data": {
      "text/plain": [
       "array(['Codes Miscellaneous Inspection', 'Building And Fire Board Appeal',\n",
       "       'Electrical Board Appeal', 'Electrical Alarm Permit',\n",
       "       'Mechanical Board Appeal', 'Plumbing Board Appeal',\n",
       "       'Property St / Violations Appeal', 'Zoning Board Appeal',\n",
       "       'Building Blasting Permit', 'Building Commercial - Addition',\n",
       "       'Building Commercial - Amend Permit',\n",
       "       'Building Commercial - Foundation',\n",
       "       'Building Commercial - Structural Frame',\n",
       "       'Building Commercial - Shell', 'Building Commercial - Fire Damage',\n",
       "       'Building Commercial - Roofing / Siding',\n",
       "       'Building Commercial - Storm Damage', 'Building Commercial - New',\n",
       "       'Building Commercial - Change Contractor',\n",
       "       'Building Commercial - Rehab',\n",
       "       'Building Commercial - Tenant Finish Out',\n",
       "       'Building Commercial - Code Repair',\n",
       "       'Building Commercial - Renew Permit', 'Building Demolition Permit',\n",
       "       'Electrical Permit', 'Electrical Photovoltaic Permit',\n",
       "       'Electrical Sign Permit', 'Gas / Mech Up To 750 BTUs - AC',\n",
       "       'Gas / Mech Up To 1500 BTUs - HC', 'Gas / Mech Gas Piping - JC PC',\n",
       "       'Gas / Mech Permit - VC MC', 'Gas / Mech Replacement - HC MC VC',\n",
       "       'Electrical HVAC Permit', 'Alarm Permit',\n",
       "       'Electrical Low Voltage Permit', 'Building Moving Permit',\n",
       "       'Plumbing Permit', 'Building Residential - Addition',\n",
       "       'Building Residential - Amend Permit',\n",
       "       'Building Residential - Foundation',\n",
       "       'Building Residential - Structural Frame',\n",
       "       'Building Residential - Shell',\n",
       "       'Building Residential - Fire Damage',\n",
       "       'Building Residential - Roofing / Siding',\n",
       "       'Building Residential - Storm Damage',\n",
       "       'Homeowner Flood Damage Repair Permit',\n",
       "       'Building Residential - New',\n",
       "       'Building Residential - Change Contractor',\n",
       "       'Building Residential - Rehab',\n",
       "       'Building Residential - Tenant Finish Out',\n",
       "       'Building Residential - Code Repair',\n",
       "       'Building Residential - Renew Permit', 'Building Sign Permit',\n",
       "       'Plumbing - Septic Permit', 'Residential Short Term Rental',\n",
       "       'CASR Master for Lg building applications',\n",
       "       'Telecommunications Permits', 'CATC Multiple Location Application',\n",
       "       'Building Tree Removal Permit', 'Building Use & Occupancy'],\n",
       "      dtype=object)"
      ]
     },
     "execution_count": 27,
     "metadata": {},
     "output_type": "execute_result"
    }
   ],
   "source": [
    "codetypes.CASE_TYPE_DESC.unique()"
   ]
  },
  {
   "cell_type": "code",
   "execution_count": 30,
   "metadata": {},
   "outputs": [
    {
     "data": {
      "text/html": [
       "<div>\n",
       "<style scoped>\n",
       "    .dataframe tbody tr th:only-of-type {\n",
       "        vertical-align: middle;\n",
       "    }\n",
       "\n",
       "    .dataframe tbody tr th {\n",
       "        vertical-align: top;\n",
       "    }\n",
       "\n",
       "    .dataframe thead th {\n",
       "        text-align: right;\n",
       "    }\n",
       "</style>\n",
       "<table border=\"1\" class=\"dataframe\">\n",
       "  <thead>\n",
       "    <tr style=\"text-align: right;\">\n",
       "      <th></th>\n",
       "      <th>CASE_TYPE</th>\n",
       "      <th>CASE_TYPE_DESC</th>\n",
       "      <th>SUB_TYPE</th>\n",
       "      <th>SUB_TYPE_DESC</th>\n",
       "    </tr>\n",
       "  </thead>\n",
       "  <tbody>\n",
       "    <tr>\n",
       "      <th>741</th>\n",
       "      <td>CARN</td>\n",
       "      <td>Building Residential - New</td>\n",
       "      <td>CAA01R301</td>\n",
       "      <td>Single Family Residence</td>\n",
       "    </tr>\n",
       "    <tr>\n",
       "      <th>742</th>\n",
       "      <td>CARN</td>\n",
       "      <td>Building Residential - New</td>\n",
       "      <td>CAA02R302</td>\n",
       "      <td>Duplex</td>\n",
       "    </tr>\n",
       "    <tr>\n",
       "      <th>743</th>\n",
       "      <td>CARN</td>\n",
       "      <td>Building Residential - New</td>\n",
       "      <td>CAA03R298</td>\n",
       "      <td>Multifamily, Condominium 3&amp;4 Unit Bldg</td>\n",
       "    </tr>\n",
       "    <tr>\n",
       "      <th>744</th>\n",
       "      <td>CARN</td>\n",
       "      <td>Building Residential - New</td>\n",
       "      <td>CAA03R299</td>\n",
       "      <td>Multifamily, Condominium &gt; 5 Unit Bldg</td>\n",
       "    </tr>\n",
       "    <tr>\n",
       "      <th>745</th>\n",
       "      <td>CARN</td>\n",
       "      <td>Building Residential - New</td>\n",
       "      <td>CAA03R301</td>\n",
       "      <td>Multifamily, Townhome</td>\n",
       "    </tr>\n",
       "    <tr>\n",
       "      <th>746</th>\n",
       "      <td>CARN</td>\n",
       "      <td>Building Residential - New</td>\n",
       "      <td>CAA03R398</td>\n",
       "      <td>Multifamily, Tri-Plex, Quad, Apartments</td>\n",
       "    </tr>\n",
       "    <tr>\n",
       "      <th>747</th>\n",
       "      <td>CARN</td>\n",
       "      <td>Building Residential - New</td>\n",
       "      <td>CAA03R399</td>\n",
       "      <td>Multifamily, Apt / Twnhome &gt; 5 Unit Bldg</td>\n",
       "    </tr>\n",
       "    <tr>\n",
       "      <th>748</th>\n",
       "      <td>CARN</td>\n",
       "      <td>Building Residential - New</td>\n",
       "      <td>CAA04R301</td>\n",
       "      <td>Mobile Home Dwelling</td>\n",
       "    </tr>\n",
       "    <tr>\n",
       "      <th>749</th>\n",
       "      <td>CARN</td>\n",
       "      <td>Building Residential - New</td>\n",
       "      <td>CAA05R202</td>\n",
       "      <td>Boarding House (More Than 30 Day Stay)</td>\n",
       "    </tr>\n",
       "    <tr>\n",
       "      <th>750</th>\n",
       "      <td>CARN</td>\n",
       "      <td>Building Residential - New</td>\n",
       "      <td>CAA08R301</td>\n",
       "      <td>Home Occupation, Single Family Residence</td>\n",
       "    </tr>\n",
       "    <tr>\n",
       "      <th>751</th>\n",
       "      <td>CARN</td>\n",
       "      <td>Building Residential - New</td>\n",
       "      <td>CAA10R301</td>\n",
       "      <td>Accessory Apartment</td>\n",
       "    </tr>\n",
       "    <tr>\n",
       "      <th>752</th>\n",
       "      <td>CARN</td>\n",
       "      <td>Building Residential - New</td>\n",
       "      <td>CAA11R301</td>\n",
       "      <td>Detached Accessory Dwelling Unit</td>\n",
       "    </tr>\n",
       "    <tr>\n",
       "      <th>753</th>\n",
       "      <td>CARN</td>\n",
       "      <td>Building Residential - New</td>\n",
       "      <td>CAA14U004</td>\n",
       "      <td>Accessory Structure, Carport</td>\n",
       "    </tr>\n",
       "    <tr>\n",
       "      <th>754</th>\n",
       "      <td>CARN</td>\n",
       "      <td>Building Residential - New</td>\n",
       "      <td>CAA14U009</td>\n",
       "      <td>Accessory Structure, Garage</td>\n",
       "    </tr>\n",
       "    <tr>\n",
       "      <th>755</th>\n",
       "      <td>CARN</td>\n",
       "      <td>Building Residential - New</td>\n",
       "      <td>CAA14U011</td>\n",
       "      <td>Accessory Structure, Shed / Storage Bldg</td>\n",
       "    </tr>\n",
       "    <tr>\n",
       "      <th>756</th>\n",
       "      <td>CARN</td>\n",
       "      <td>Building Residential - New</td>\n",
       "      <td>CAA15R301</td>\n",
       "      <td>Duplex To Be Condo'D At Later Date</td>\n",
       "    </tr>\n",
       "    <tr>\n",
       "      <th>757</th>\n",
       "      <td>CARN</td>\n",
       "      <td>Building Residential - New</td>\n",
       "      <td>CAB05R301</td>\n",
       "      <td>Day Care Home, Single Family Residence</td>\n",
       "    </tr>\n",
       "    <tr>\n",
       "      <th>758</th>\n",
       "      <td>CARN</td>\n",
       "      <td>Building Residential - New</td>\n",
       "      <td>CAB10A311</td>\n",
       "      <td>Religious Institution, Gymnasium</td>\n",
       "    </tr>\n",
       "    <tr>\n",
       "      <th>759</th>\n",
       "      <td>CARN</td>\n",
       "      <td>Building Residential - New</td>\n",
       "      <td>CAC04R204</td>\n",
       "      <td>Dormitories</td>\n",
       "    </tr>\n",
       "    <tr>\n",
       "      <th>760</th>\n",
       "      <td>CARN</td>\n",
       "      <td>Building Residential - New</td>\n",
       "      <td>CAD02B016</td>\n",
       "      <td>General Office, Professional Services</td>\n",
       "    </tr>\n",
       "    <tr>\n",
       "      <th>761</th>\n",
       "      <td>CARN</td>\n",
       "      <td>Building Residential - New</td>\n",
       "      <td>CAF05M004</td>\n",
       "      <td>Automotive Service</td>\n",
       "    </tr>\n",
       "    <tr>\n",
       "      <th>762</th>\n",
       "      <td>CARN</td>\n",
       "      <td>Building Residential - New</td>\n",
       "      <td>CAF26S001</td>\n",
       "      <td>Automobile Sales, Used</td>\n",
       "    </tr>\n",
       "    <tr>\n",
       "      <th>763</th>\n",
       "      <td>CARN</td>\n",
       "      <td>Building Residential - New</td>\n",
       "      <td>CAJ06H000</td>\n",
       "      <td>Water/Sewer Pump Statn,Hazardous (H1-H5)</td>\n",
       "    </tr>\n",
       "    <tr>\n",
       "      <th>764</th>\n",
       "      <td>CARN</td>\n",
       "      <td>Building Residential - New</td>\n",
       "      <td>CAZ03A001</td>\n",
       "      <td>Master Permit Application</td>\n",
       "    </tr>\n",
       "    <tr>\n",
       "      <th>765</th>\n",
       "      <td>CARN</td>\n",
       "      <td>Building Residential - New</td>\n",
       "      <td>CAZ08A001</td>\n",
       "      <td>Group Home</td>\n",
       "    </tr>\n",
       "    <tr>\n",
       "      <th>766</th>\n",
       "      <td>CARN</td>\n",
       "      <td>Building Residential - New</td>\n",
       "      <td>DPLX2CNDO</td>\n",
       "      <td>Duplex to Condo</td>\n",
       "    </tr>\n",
       "  </tbody>\n",
       "</table>\n",
       "</div>"
      ],
      "text/plain": [
       "    CASE_TYPE              CASE_TYPE_DESC   SUB_TYPE  \\\n",
       "741      CARN  Building Residential - New  CAA01R301   \n",
       "742      CARN  Building Residential - New  CAA02R302   \n",
       "743      CARN  Building Residential - New  CAA03R298   \n",
       "744      CARN  Building Residential - New  CAA03R299   \n",
       "745      CARN  Building Residential - New  CAA03R301   \n",
       "746      CARN  Building Residential - New  CAA03R398   \n",
       "747      CARN  Building Residential - New  CAA03R399   \n",
       "748      CARN  Building Residential - New  CAA04R301   \n",
       "749      CARN  Building Residential - New  CAA05R202   \n",
       "750      CARN  Building Residential - New  CAA08R301   \n",
       "751      CARN  Building Residential - New  CAA10R301   \n",
       "752      CARN  Building Residential - New  CAA11R301   \n",
       "753      CARN  Building Residential - New  CAA14U004   \n",
       "754      CARN  Building Residential - New  CAA14U009   \n",
       "755      CARN  Building Residential - New  CAA14U011   \n",
       "756      CARN  Building Residential - New  CAA15R301   \n",
       "757      CARN  Building Residential - New  CAB05R301   \n",
       "758      CARN  Building Residential - New  CAB10A311   \n",
       "759      CARN  Building Residential - New  CAC04R204   \n",
       "760      CARN  Building Residential - New  CAD02B016   \n",
       "761      CARN  Building Residential - New  CAF05M004   \n",
       "762      CARN  Building Residential - New  CAF26S001   \n",
       "763      CARN  Building Residential - New  CAJ06H000   \n",
       "764      CARN  Building Residential - New  CAZ03A001   \n",
       "765      CARN  Building Residential - New  CAZ08A001   \n",
       "766      CARN  Building Residential - New  DPLX2CNDO   \n",
       "\n",
       "                                SUB_TYPE_DESC  \n",
       "741                   Single Family Residence  \n",
       "742                                    Duplex  \n",
       "743    Multifamily, Condominium 3&4 Unit Bldg  \n",
       "744    Multifamily, Condominium > 5 Unit Bldg  \n",
       "745                     Multifamily, Townhome  \n",
       "746   Multifamily, Tri-Plex, Quad, Apartments  \n",
       "747  Multifamily, Apt / Twnhome > 5 Unit Bldg  \n",
       "748                      Mobile Home Dwelling  \n",
       "749    Boarding House (More Than 30 Day Stay)  \n",
       "750  Home Occupation, Single Family Residence  \n",
       "751                       Accessory Apartment  \n",
       "752          Detached Accessory Dwelling Unit  \n",
       "753              Accessory Structure, Carport  \n",
       "754               Accessory Structure, Garage  \n",
       "755  Accessory Structure, Shed / Storage Bldg  \n",
       "756        Duplex To Be Condo'D At Later Date  \n",
       "757    Day Care Home, Single Family Residence  \n",
       "758          Religious Institution, Gymnasium  \n",
       "759                               Dormitories  \n",
       "760     General Office, Professional Services  \n",
       "761                        Automotive Service  \n",
       "762                    Automobile Sales, Used  \n",
       "763  Water/Sewer Pump Statn,Hazardous (H1-H5)  \n",
       "764                 Master Permit Application  \n",
       "765                                Group Home  \n",
       "766                           Duplex to Condo  "
      ]
     },
     "execution_count": 30,
     "metadata": {},
     "output_type": "execute_result"
    }
   ],
   "source": [
    "codetypes.loc[codetypes.CASE_TYPE_DESC == 'Building Residential - New']"
   ]
  },
  {
   "cell_type": "code",
   "execution_count": null,
   "metadata": {},
   "outputs": [],
   "source": []
  }
 ],
 "metadata": {
  "kernelspec": {
   "display_name": "Python 3",
   "language": "python",
   "name": "python3"
  },
  "language_info": {
   "codemirror_mode": {
    "name": "ipython",
    "version": 3
   },
   "file_extension": ".py",
   "mimetype": "text/x-python",
   "name": "python",
   "nbconvert_exporter": "python",
   "pygments_lexer": "ipython3",
   "version": "3.6.5"
  }
 },
 "nbformat": 4,
 "nbformat_minor": 2
}
