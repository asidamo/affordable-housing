{
 "cells": [
  {
   "cell_type": "code",
   "execution_count": 54,
   "metadata": {},
   "outputs": [
    {
     "ename": "ModuleNotFoundError",
     "evalue": "No module named 'shapefile'",
     "output_type": "error",
     "traceback": [
      "\u001b[0;31m-----------------------------------------------------------\u001b[0m",
      "\u001b[0;31mModuleNotFoundError\u001b[0m       Traceback (most recent call last)",
      "\u001b[0;32m<ipython-input-54-f691cc762a28>\u001b[0m in \u001b[0;36m<module>\u001b[0;34m()\u001b[0m\n\u001b[1;32m      7\u001b[0m \u001b[0;32mimport\u001b[0m \u001b[0mgeopandas\u001b[0m \u001b[0;32mas\u001b[0m \u001b[0mgpd\u001b[0m\u001b[0;34m\u001b[0m\u001b[0m\n\u001b[1;32m      8\u001b[0m \u001b[0;32mimport\u001b[0m \u001b[0mshapely\u001b[0m\u001b[0;34m\u001b[0m\u001b[0m\n\u001b[0;32m----> 9\u001b[0;31m \u001b[0;32mimport\u001b[0m \u001b[0mshapefile\u001b[0m\u001b[0;34m\u001b[0m\u001b[0m\n\u001b[0m\u001b[1;32m     10\u001b[0m \u001b[0;32mfrom\u001b[0m \u001b[0mshapely\u001b[0m\u001b[0;34m.\u001b[0m\u001b[0mgeometry\u001b[0m \u001b[0;32mimport\u001b[0m \u001b[0mPoint\u001b[0m\u001b[0;34m\u001b[0m\u001b[0m\n\u001b[1;32m     11\u001b[0m \u001b[0;32mfrom\u001b[0m \u001b[0mcollections\u001b[0m \u001b[0;32mimport\u001b[0m \u001b[0mCounter\u001b[0m\u001b[0;34m\u001b[0m\u001b[0m\n",
      "\u001b[0;31mModuleNotFoundError\u001b[0m: No module named 'shapefile'"
     ]
    }
   ],
   "source": [
    "import pandas as pd\n",
    "import numpy as np\n",
    "import seaborn as sns\n",
    "import matplotlib.pyplot as plt\n",
    "import re\n",
    "import psutil\n",
    "import geopandas as gpd\n",
    "import shapely\n",
    "import shapefile\n",
    "from shapely.geometry import Point\n",
    "from collections import Counter\n",
    "import folium\n",
    "import requests\n",
    "from bs4 import BeautifulSoup as BS"
   ]
  },
  {
   "cell_type": "code",
   "execution_count": 34,
   "metadata": {},
   "outputs": [],
   "source": [
    "sf2009 = pd.read_csv('/Users/davidhaines/DataScience/data-question-4-affordable-housing-plaid-platypi-plaidypi/metrodata/2009singlefamily_final_with_sqft.txt')\n",
    "sf2013 = pd.read_csv('/Users/davidhaines/DataScience/data-question-4-affordable-housing-plaid-platypi-plaidypi/metrodata/2013singlefamily_final_with_sqft.txt')\n",
    "sf2017 = pd.read_csv('/Users/davidhaines/DataScience/data-question-4-affordable-housing-plaid-platypi-plaidypi/metrodata/2017singlefamily_final_with_sqft.txt')\n",
    "issued = pd.read_csv('/Users/davidhaines/DataScience/data-question-4-affordable-housing-plaid-platypi-plaidypi/metrodata/Building_Permits_Issued.csv', low_memory=False)\n",
    "parcels = pd.read_excel('/Users/davidhaines/DataScience/data-question-4-affordable-housing-plaid-platypi-plaidypi/metrodata/zoneparcel.xlsx')\n",
    "tax = pd.read_excel('/Users/davidhaines/DataScience/data-question-4-affordable-housing-plaid-platypi-plaidypi/metrodata/2016Tax_TN.xls')"
   ]
  },
  {
   "cell_type": "code",
   "execution_count": 6,
   "metadata": {},
   "outputs": [
    {
     "name": "stdout",
     "output_type": "stream",
     "text": [
      "<class 'pandas.core.frame.DataFrame'>\n",
      "RangeIndex: 765877 entries, 0 to 765876\n",
      "Data columns (total 7 columns):\n",
      "ParcelID         765877 non-null int64\n",
      "ZoneCode         765877 non-null object\n",
      "Ordinance        761211 non-null object\n",
      "IsActive         765877 non-null object\n",
      "DateInactive     233307 non-null datetime64[ns]\n",
      "APN              765877 non-null object\n",
      "DateEffective    761203 non-null datetime64[ns]\n",
      "dtypes: datetime64[ns](2), int64(1), object(4)\n",
      "memory usage: 40.9+ MB\n"
     ]
    }
   ],
   "source": [
    "rebuilt_parcels = parcels.loc"
   ]
  },
  {
   "cell_type": "code",
   "execution_count": null,
   "metadata": {},
   "outputs": [],
   "source": [
    "sf2009.Yearly_Housing_Spending.max()"
   ]
  },
  {
   "cell_type": "code",
   "execution_count": 23,
   "metadata": {},
   "outputs": [
    {
     "data": {
      "text/plain": [
       "Index(['APN', 'DistrictCode', 'DistrictNo', 'Address', 'City', 'Zip',\n",
       "       'LandValue', 'ImprovementValue', 'AppraisedValue', '2009 TOTAL ASSD',\n",
       "       'FinishedArea', 'Yearly_Housing_Spending', 'PricePerSqFt', 'bucket'],\n",
       "      dtype='object')"
      ]
     },
     "execution_count": 23,
     "metadata": {},
     "output_type": "execute_result"
    }
   ],
   "source": [
    "sf2009.columns"
   ]
  },
  {
   "cell_type": "code",
   "execution_count": 24,
   "metadata": {},
   "outputs": [],
   "source": [
    "zipgroup09 = sf2009.groupby('Zip')"
   ]
  },
  {
   "cell_type": "code",
   "execution_count": 27,
   "metadata": {},
   "outputs": [
    {
     "data": {
      "text/plain": [
       "Zip\n",
       "37013     6429.827782\n",
       "37015     5762.280660\n",
       "37027    14238.488622\n",
       "37064    18338.117403\n",
       "37072     7788.142637\n",
       "37076     7134.973407\n",
       "37080     7909.650567\n",
       "37086    10560.273773\n",
       "37115     5644.746697\n",
       "37122    10888.264902\n",
       "37135    11998.900650\n",
       "37138     8031.314720\n",
       "37143     8454.964806\n",
       "37189     7509.063384\n",
       "37201     9883.906087\n",
       "37203     8934.945052\n",
       "37204    14772.760672\n",
       "37205    23938.792544\n",
       "37206     7114.811882\n",
       "37207     4929.343087\n",
       "37208     4696.789062\n",
       "37209     7354.766848\n",
       "37210     4717.537155\n",
       "37211     6885.469945\n",
       "37212    13274.998861\n",
       "37214     6255.282583\n",
       "37215    24071.307076\n",
       "37216     6021.524041\n",
       "37217     5465.004202\n",
       "37218     5629.761241\n",
       "37219     8731.559298\n",
       "37220    19491.456963\n",
       "37221     9637.674704\n",
       "37228     2165.513026\n",
       "Name: Yearly_Housing_Spending, dtype: float64"
      ]
     },
     "execution_count": 27,
     "metadata": {},
     "output_type": "execute_result"
    }
   ],
   "source": [
    "zipgroup09.Yearly_Housing_Spending.mean()"
   ]
  },
  {
   "cell_type": "code",
   "execution_count": 18,
   "metadata": {},
   "outputs": [],
   "source": [
    "bucketgrouped09 = sf2009.groupby('bucket')"
   ]
  },
  {
   "cell_type": "code",
   "execution_count": 19,
   "metadata": {},
   "outputs": [
    {
     "data": {
      "text/plain": [
       "bucket\n",
       "(1) <30%_AMI         6115.988672\n",
       "(2) 30-60%_AMI      12236.507706\n",
       "(3) 60-80%_AMI      16318.363849\n",
       "(4) 80-120%_AMI     24477.545773\n",
       "(5) >120%_AMI      470115.662578\n",
       "Name: Yearly_Housing_Spending, dtype: float64"
      ]
     },
     "execution_count": 19,
     "metadata": {},
     "output_type": "execute_result"
    }
   ],
   "source": [
    "bucketgrouped09.Yearly_Housing_Spending.max()"
   ]
  },
  {
   "cell_type": "code",
   "execution_count": 20,
   "metadata": {},
   "outputs": [],
   "source": [
    "districtgrouped09 = sf2009.groupby('DistrictNo')"
   ]
  },
  {
   "cell_type": "code",
   "execution_count": 21,
   "metadata": {
    "scrolled": true
   },
   "outputs": [
    {
     "data": {
      "text/html": [
       "<div>\n",
       "<style scoped>\n",
       "    .dataframe tbody tr th:only-of-type {\n",
       "        vertical-align: middle;\n",
       "    }\n",
       "\n",
       "    .dataframe tbody tr th {\n",
       "        vertical-align: top;\n",
       "    }\n",
       "\n",
       "    .dataframe thead th {\n",
       "        text-align: right;\n",
       "    }\n",
       "</style>\n",
       "<table border=\"1\" class=\"dataframe\">\n",
       "  <thead>\n",
       "    <tr style=\"text-align: right;\">\n",
       "      <th></th>\n",
       "      <th>count</th>\n",
       "      <th>mean</th>\n",
       "      <th>std</th>\n",
       "      <th>min</th>\n",
       "      <th>25%</th>\n",
       "      <th>50%</th>\n",
       "      <th>75%</th>\n",
       "      <th>max</th>\n",
       "    </tr>\n",
       "    <tr>\n",
       "      <th>DistrictNo</th>\n",
       "      <th></th>\n",
       "      <th></th>\n",
       "      <th></th>\n",
       "      <th></th>\n",
       "      <th></th>\n",
       "      <th></th>\n",
       "      <th></th>\n",
       "      <th></th>\n",
       "    </tr>\n",
       "  </thead>\n",
       "  <tbody>\n",
       "    <tr>\n",
       "      <th>1</th>\n",
       "      <td>5902.0</td>\n",
       "      <td>6565.754903</td>\n",
       "      <td>4507.917105</td>\n",
       "      <td>185.744841</td>\n",
       "      <td>4178.126335</td>\n",
       "      <td>5635.770302</td>\n",
       "      <td>7981.365217</td>\n",
       "      <td>216895.610115</td>\n",
       "    </tr>\n",
       "    <tr>\n",
       "      <th>2</th>\n",
       "      <td>4340.0</td>\n",
       "      <td>4774.153910</td>\n",
       "      <td>1991.615614</td>\n",
       "      <td>906.072396</td>\n",
       "      <td>3479.318000</td>\n",
       "      <td>4435.224378</td>\n",
       "      <td>5726.377542</td>\n",
       "      <td>20454.584336</td>\n",
       "    </tr>\n",
       "    <tr>\n",
       "      <th>3</th>\n",
       "      <td>5311.0</td>\n",
       "      <td>6563.973316</td>\n",
       "      <td>4063.895011</td>\n",
       "      <td>1132.590495</td>\n",
       "      <td>4584.726323</td>\n",
       "      <td>5685.604284</td>\n",
       "      <td>7626.864392</td>\n",
       "      <td>131652.319115</td>\n",
       "    </tr>\n",
       "    <tr>\n",
       "      <th>4</th>\n",
       "      <td>6856.0</td>\n",
       "      <td>11991.756757</td>\n",
       "      <td>3908.915535</td>\n",
       "      <td>1041.983255</td>\n",
       "      <td>9101.497216</td>\n",
       "      <td>12204.795172</td>\n",
       "      <td>14492.627971</td>\n",
       "      <td>61354.692284</td>\n",
       "    </tr>\n",
       "    <tr>\n",
       "      <th>5</th>\n",
       "      <td>4508.0</td>\n",
       "      <td>4235.445213</td>\n",
       "      <td>1629.905755</td>\n",
       "      <td>819.995518</td>\n",
       "      <td>3225.617729</td>\n",
       "      <td>3877.989854</td>\n",
       "      <td>4865.608766</td>\n",
       "      <td>19100.006104</td>\n",
       "    </tr>\n",
       "    <tr>\n",
       "      <th>6</th>\n",
       "      <td>5201.0</td>\n",
       "      <td>8038.306362</td>\n",
       "      <td>3954.709731</td>\n",
       "      <td>906.072396</td>\n",
       "      <td>5513.450529</td>\n",
       "      <td>7062.834326</td>\n",
       "      <td>9767.460427</td>\n",
       "      <td>55265.885784</td>\n",
       "    </tr>\n",
       "    <tr>\n",
       "      <th>7</th>\n",
       "      <td>6143.0</td>\n",
       "      <td>6067.451924</td>\n",
       "      <td>2551.414759</td>\n",
       "      <td>906.072396</td>\n",
       "      <td>4534.892341</td>\n",
       "      <td>5735.438266</td>\n",
       "      <td>6926.923466</td>\n",
       "      <td>40818.561432</td>\n",
       "    </tr>\n",
       "    <tr>\n",
       "      <th>8</th>\n",
       "      <td>5278.0</td>\n",
       "      <td>5762.673655</td>\n",
       "      <td>2168.823524</td>\n",
       "      <td>942.315292</td>\n",
       "      <td>4267.600984</td>\n",
       "      <td>5341.296773</td>\n",
       "      <td>6849.907313</td>\n",
       "      <td>23449.153604</td>\n",
       "    </tr>\n",
       "    <tr>\n",
       "      <th>9</th>\n",
       "      <td>4808.0</td>\n",
       "      <td>5214.014143</td>\n",
       "      <td>2615.249053</td>\n",
       "      <td>1041.983255</td>\n",
       "      <td>3854.205454</td>\n",
       "      <td>4854.282861</td>\n",
       "      <td>5989.138536</td>\n",
       "      <td>41289.719078</td>\n",
       "    </tr>\n",
       "    <tr>\n",
       "      <th>10</th>\n",
       "      <td>4428.0</td>\n",
       "      <td>6983.084925</td>\n",
       "      <td>3500.152625</td>\n",
       "      <td>1019.331445</td>\n",
       "      <td>5037.762521</td>\n",
       "      <td>6396.871115</td>\n",
       "      <td>7955.315635</td>\n",
       "      <td>51256.515432</td>\n",
       "    </tr>\n",
       "    <tr>\n",
       "      <th>11</th>\n",
       "      <td>6935.0</td>\n",
       "      <td>7579.525395</td>\n",
       "      <td>6261.432758</td>\n",
       "      <td>335.246786</td>\n",
       "      <td>4858.813223</td>\n",
       "      <td>6106.927948</td>\n",
       "      <td>7459.240999</td>\n",
       "      <td>182034.474685</td>\n",
       "    </tr>\n",
       "    <tr>\n",
       "      <th>12</th>\n",
       "      <td>5742.0</td>\n",
       "      <td>7829.884059</td>\n",
       "      <td>3035.961698</td>\n",
       "      <td>665.963211</td>\n",
       "      <td>5762.620438</td>\n",
       "      <td>7298.413148</td>\n",
       "      <td>9559.063776</td>\n",
       "      <td>35182.791130</td>\n",
       "    </tr>\n",
       "    <tr>\n",
       "      <th>13</th>\n",
       "      <td>4722.0</td>\n",
       "      <td>5519.240556</td>\n",
       "      <td>2111.577452</td>\n",
       "      <td>1091.817237</td>\n",
       "      <td>3927.823836</td>\n",
       "      <td>5083.066141</td>\n",
       "      <td>6614.328490</td>\n",
       "      <td>23625.837721</td>\n",
       "    </tr>\n",
       "    <tr>\n",
       "      <th>14</th>\n",
       "      <td>4151.0</td>\n",
       "      <td>5817.418489</td>\n",
       "      <td>1732.726423</td>\n",
       "      <td>679.554297</td>\n",
       "      <td>4906.382023</td>\n",
       "      <td>5567.814872</td>\n",
       "      <td>6342.506771</td>\n",
       "      <td>24355.226000</td>\n",
       "    </tr>\n",
       "    <tr>\n",
       "      <th>15</th>\n",
       "      <td>6374.0</td>\n",
       "      <td>6381.849091</td>\n",
       "      <td>2245.564555</td>\n",
       "      <td>1268.501354</td>\n",
       "      <td>5033.232159</td>\n",
       "      <td>5943.834917</td>\n",
       "      <td>7234.988081</td>\n",
       "      <td>41511.706815</td>\n",
       "    </tr>\n",
       "    <tr>\n",
       "      <th>16</th>\n",
       "      <td>4270.0</td>\n",
       "      <td>5027.507436</td>\n",
       "      <td>1506.997831</td>\n",
       "      <td>1205.076286</td>\n",
       "      <td>3923.293474</td>\n",
       "      <td>4865.608766</td>\n",
       "      <td>5943.834917</td>\n",
       "      <td>15199.364440</td>\n",
       "    </tr>\n",
       "    <tr>\n",
       "      <th>17</th>\n",
       "      <td>3823.0</td>\n",
       "      <td>8113.228755</td>\n",
       "      <td>4522.297148</td>\n",
       "      <td>792.813346</td>\n",
       "      <td>4627.764762</td>\n",
       "      <td>7266.700615</td>\n",
       "      <td>10564.804135</td>\n",
       "      <td>37978.024471</td>\n",
       "    </tr>\n",
       "    <tr>\n",
       "      <th>18</th>\n",
       "      <td>3292.0</td>\n",
       "      <td>13706.094612</td>\n",
       "      <td>7202.525113</td>\n",
       "      <td>1812.144792</td>\n",
       "      <td>8756.057115</td>\n",
       "      <td>13425.727725</td>\n",
       "      <td>17429.435124</td>\n",
       "      <td>48601.723313</td>\n",
       "    </tr>\n",
       "    <tr>\n",
       "      <th>19</th>\n",
       "      <td>4884.0</td>\n",
       "      <td>8929.696809</td>\n",
       "      <td>5740.465910</td>\n",
       "      <td>271.821719</td>\n",
       "      <td>5436.434375</td>\n",
       "      <td>7810.344052</td>\n",
       "      <td>11226.236984</td>\n",
       "      <td>86960.298190</td>\n",
       "    </tr>\n",
       "    <tr>\n",
       "      <th>20</th>\n",
       "      <td>4405.0</td>\n",
       "      <td>5253.727602</td>\n",
       "      <td>2223.050918</td>\n",
       "      <td>471.157646</td>\n",
       "      <td>3701.305737</td>\n",
       "      <td>5046.823245</td>\n",
       "      <td>6424.053286</td>\n",
       "      <td>21777.450034</td>\n",
       "    </tr>\n",
       "    <tr>\n",
       "      <th>21</th>\n",
       "      <td>4070.0</td>\n",
       "      <td>5247.559666</td>\n",
       "      <td>4521.288019</td>\n",
       "      <td>548.173799</td>\n",
       "      <td>2663.852844</td>\n",
       "      <td>3456.666190</td>\n",
       "      <td>5708.256094</td>\n",
       "      <td>59121.223828</td>\n",
       "    </tr>\n",
       "    <tr>\n",
       "      <th>22</th>\n",
       "      <td>6239.0</td>\n",
       "      <td>8122.457601</td>\n",
       "      <td>3118.147553</td>\n",
       "      <td>1630.930313</td>\n",
       "      <td>6433.114010</td>\n",
       "      <td>7665.372469</td>\n",
       "      <td>9124.149026</td>\n",
       "      <td>37003.996646</td>\n",
       "    </tr>\n",
       "    <tr>\n",
       "      <th>23</th>\n",
       "      <td>6180.0</td>\n",
       "      <td>25225.082624</td>\n",
       "      <td>28370.024744</td>\n",
       "      <td>1771.371534</td>\n",
       "      <td>10870.603569</td>\n",
       "      <td>15450.799530</td>\n",
       "      <td>27345.264906</td>\n",
       "      <td>374053.867172</td>\n",
       "    </tr>\n",
       "    <tr>\n",
       "      <th>24</th>\n",
       "      <td>6711.0</td>\n",
       "      <td>15885.660275</td>\n",
       "      <td>12022.490277</td>\n",
       "      <td>1028.392169</td>\n",
       "      <td>9051.663234</td>\n",
       "      <td>12150.430828</td>\n",
       "      <td>19675.362076</td>\n",
       "      <td>361894.375620</td>\n",
       "    </tr>\n",
       "    <tr>\n",
       "      <th>25</th>\n",
       "      <td>6443.0</td>\n",
       "      <td>17975.319020</td>\n",
       "      <td>12058.992154</td>\n",
       "      <td>3533.682344</td>\n",
       "      <td>11760.819698</td>\n",
       "      <td>15385.109281</td>\n",
       "      <td>20767.179313</td>\n",
       "      <td>257025.556526</td>\n",
       "    </tr>\n",
       "    <tr>\n",
       "      <th>26</th>\n",
       "      <td>5433.0</td>\n",
       "      <td>7577.524664</td>\n",
       "      <td>3823.737546</td>\n",
       "      <td>974.027826</td>\n",
       "      <td>4906.382023</td>\n",
       "      <td>7601.947401</td>\n",
       "      <td>9944.144544</td>\n",
       "      <td>38141.117503</td>\n",
       "    </tr>\n",
       "    <tr>\n",
       "      <th>27</th>\n",
       "      <td>4010.0</td>\n",
       "      <td>6083.906004</td>\n",
       "      <td>1956.759536</td>\n",
       "      <td>693.145383</td>\n",
       "      <td>4951.685643</td>\n",
       "      <td>6075.215414</td>\n",
       "      <td>7099.077221</td>\n",
       "      <td>20128.398273</td>\n",
       "    </tr>\n",
       "    <tr>\n",
       "      <th>28</th>\n",
       "      <td>4305.0</td>\n",
       "      <td>5674.285735</td>\n",
       "      <td>1545.724047</td>\n",
       "      <td>1218.667372</td>\n",
       "      <td>4707.046096</td>\n",
       "      <td>5495.329081</td>\n",
       "      <td>6442.174734</td>\n",
       "      <td>34621.026245</td>\n",
       "    </tr>\n",
       "    <tr>\n",
       "      <th>29</th>\n",
       "      <td>5640.0</td>\n",
       "      <td>5592.747944</td>\n",
       "      <td>1546.518994</td>\n",
       "      <td>1549.383797</td>\n",
       "      <td>4719.504592</td>\n",
       "      <td>5511.185348</td>\n",
       "      <td>6446.705096</td>\n",
       "      <td>26901.289432</td>\n",
       "    </tr>\n",
       "    <tr>\n",
       "      <th>30</th>\n",
       "      <td>3738.0</td>\n",
       "      <td>5078.194547</td>\n",
       "      <td>1348.894962</td>\n",
       "      <td>588.947057</td>\n",
       "      <td>4468.069502</td>\n",
       "      <td>5015.110711</td>\n",
       "      <td>5631.239940</td>\n",
       "      <td>20590.495195</td>\n",
       "    </tr>\n",
       "    <tr>\n",
       "      <th>31</th>\n",
       "      <td>6382.0</td>\n",
       "      <td>8073.625556</td>\n",
       "      <td>3409.046985</td>\n",
       "      <td>1359.108594</td>\n",
       "      <td>5857.758039</td>\n",
       "      <td>7461.506180</td>\n",
       "      <td>9559.063776</td>\n",
       "      <td>66347.151185</td>\n",
       "    </tr>\n",
       "    <tr>\n",
       "      <th>32</th>\n",
       "      <td>2971.0</td>\n",
       "      <td>6419.801242</td>\n",
       "      <td>2809.709287</td>\n",
       "      <td>1132.590495</td>\n",
       "      <td>4881.465033</td>\n",
       "      <td>6115.988672</td>\n",
       "      <td>7511.340161</td>\n",
       "      <td>76581.238896</td>\n",
       "    </tr>\n",
       "    <tr>\n",
       "      <th>33</th>\n",
       "      <td>6890.0</td>\n",
       "      <td>6812.340203</td>\n",
       "      <td>3036.230750</td>\n",
       "      <td>996.679635</td>\n",
       "      <td>5250.689534</td>\n",
       "      <td>6215.656635</td>\n",
       "      <td>7529.461609</td>\n",
       "      <td>85605.719958</td>\n",
       "    </tr>\n",
       "    <tr>\n",
       "      <th>34</th>\n",
       "      <td>6485.0</td>\n",
       "      <td>28076.890178</td>\n",
       "      <td>24130.578814</td>\n",
       "      <td>3791.912977</td>\n",
       "      <td>16780.460771</td>\n",
       "      <td>22325.623833</td>\n",
       "      <td>31889.217971</td>\n",
       "      <td>470115.662578</td>\n",
       "    </tr>\n",
       "    <tr>\n",
       "      <th>35</th>\n",
       "      <td>6231.0</td>\n",
       "      <td>10875.261531</td>\n",
       "      <td>4177.998808</td>\n",
       "      <td>480.218370</td>\n",
       "      <td>8671.112828</td>\n",
       "      <td>10379.059294</td>\n",
       "      <td>12526.450872</td>\n",
       "      <td>81578.228159</td>\n",
       "    </tr>\n",
       "  </tbody>\n",
       "</table>\n",
       "</div>"
      ],
      "text/plain": [
       "             count          mean           std          min           25%  \\\n",
       "DistrictNo                                                                  \n",
       "1           5902.0   6565.754903   4507.917105   185.744841   4178.126335   \n",
       "2           4340.0   4774.153910   1991.615614   906.072396   3479.318000   \n",
       "3           5311.0   6563.973316   4063.895011  1132.590495   4584.726323   \n",
       "4           6856.0  11991.756757   3908.915535  1041.983255   9101.497216   \n",
       "5           4508.0   4235.445213   1629.905755   819.995518   3225.617729   \n",
       "6           5201.0   8038.306362   3954.709731   906.072396   5513.450529   \n",
       "7           6143.0   6067.451924   2551.414759   906.072396   4534.892341   \n",
       "8           5278.0   5762.673655   2168.823524   942.315292   4267.600984   \n",
       "9           4808.0   5214.014143   2615.249053  1041.983255   3854.205454   \n",
       "10          4428.0   6983.084925   3500.152625  1019.331445   5037.762521   \n",
       "11          6935.0   7579.525395   6261.432758   335.246786   4858.813223   \n",
       "12          5742.0   7829.884059   3035.961698   665.963211   5762.620438   \n",
       "13          4722.0   5519.240556   2111.577452  1091.817237   3927.823836   \n",
       "14          4151.0   5817.418489   1732.726423   679.554297   4906.382023   \n",
       "15          6374.0   6381.849091   2245.564555  1268.501354   5033.232159   \n",
       "16          4270.0   5027.507436   1506.997831  1205.076286   3923.293474   \n",
       "17          3823.0   8113.228755   4522.297148   792.813346   4627.764762   \n",
       "18          3292.0  13706.094612   7202.525113  1812.144792   8756.057115   \n",
       "19          4884.0   8929.696809   5740.465910   271.821719   5436.434375   \n",
       "20          4405.0   5253.727602   2223.050918   471.157646   3701.305737   \n",
       "21          4070.0   5247.559666   4521.288019   548.173799   2663.852844   \n",
       "22          6239.0   8122.457601   3118.147553  1630.930313   6433.114010   \n",
       "23          6180.0  25225.082624  28370.024744  1771.371534  10870.603569   \n",
       "24          6711.0  15885.660275  12022.490277  1028.392169   9051.663234   \n",
       "25          6443.0  17975.319020  12058.992154  3533.682344  11760.819698   \n",
       "26          5433.0   7577.524664   3823.737546   974.027826   4906.382023   \n",
       "27          4010.0   6083.906004   1956.759536   693.145383   4951.685643   \n",
       "28          4305.0   5674.285735   1545.724047  1218.667372   4707.046096   \n",
       "29          5640.0   5592.747944   1546.518994  1549.383797   4719.504592   \n",
       "30          3738.0   5078.194547   1348.894962   588.947057   4468.069502   \n",
       "31          6382.0   8073.625556   3409.046985  1359.108594   5857.758039   \n",
       "32          2971.0   6419.801242   2809.709287  1132.590495   4881.465033   \n",
       "33          6890.0   6812.340203   3036.230750   996.679635   5250.689534   \n",
       "34          6485.0  28076.890178  24130.578814  3791.912977  16780.460771   \n",
       "35          6231.0  10875.261531   4177.998808   480.218370   8671.112828   \n",
       "\n",
       "                     50%           75%            max  \n",
       "DistrictNo                                             \n",
       "1            5635.770302   7981.365217  216895.610115  \n",
       "2            4435.224378   5726.377542   20454.584336  \n",
       "3            5685.604284   7626.864392  131652.319115  \n",
       "4           12204.795172  14492.627971   61354.692284  \n",
       "5            3877.989854   4865.608766   19100.006104  \n",
       "6            7062.834326   9767.460427   55265.885784  \n",
       "7            5735.438266   6926.923466   40818.561432  \n",
       "8            5341.296773   6849.907313   23449.153604  \n",
       "9            4854.282861   5989.138536   41289.719078  \n",
       "10           6396.871115   7955.315635   51256.515432  \n",
       "11           6106.927948   7459.240999  182034.474685  \n",
       "12           7298.413148   9559.063776   35182.791130  \n",
       "13           5083.066141   6614.328490   23625.837721  \n",
       "14           5567.814872   6342.506771   24355.226000  \n",
       "15           5943.834917   7234.988081   41511.706815  \n",
       "16           4865.608766   5943.834917   15199.364440  \n",
       "17           7266.700615  10564.804135   37978.024471  \n",
       "18          13425.727725  17429.435124   48601.723313  \n",
       "19           7810.344052  11226.236984   86960.298190  \n",
       "20           5046.823245   6424.053286   21777.450034  \n",
       "21           3456.666190   5708.256094   59121.223828  \n",
       "22           7665.372469   9124.149026   37003.996646  \n",
       "23          15450.799530  27345.264906  374053.867172  \n",
       "24          12150.430828  19675.362076  361894.375620  \n",
       "25          15385.109281  20767.179313  257025.556526  \n",
       "26           7601.947401   9944.144544   38141.117503  \n",
       "27           6075.215414   7099.077221   20128.398273  \n",
       "28           5495.329081   6442.174734   34621.026245  \n",
       "29           5511.185348   6446.705096   26901.289432  \n",
       "30           5015.110711   5631.239940   20590.495195  \n",
       "31           7461.506180   9559.063776   66347.151185  \n",
       "32           6115.988672   7511.340161   76581.238896  \n",
       "33           6215.656635   7529.461609   85605.719958  \n",
       "34          22325.623833  31889.217971  470115.662578  \n",
       "35          10379.059294  12526.450872   81578.228159  "
      ]
     },
     "execution_count": 21,
     "metadata": {},
     "output_type": "execute_result"
    }
   ],
   "source": [
    "districtgrouped09.Yearly_Housing_Spending.describe()"
   ]
  },
  {
   "cell_type": "code",
   "execution_count": 22,
   "metadata": {},
   "outputs": [
    {
     "data": {
      "text/plain": [
       "DistrictNo\n",
       "1      6565.754903\n",
       "2      4774.153910\n",
       "3      6563.973316\n",
       "4     11991.756757\n",
       "5      4235.445213\n",
       "6      8038.306362\n",
       "7      6067.451924\n",
       "8      5762.673655\n",
       "9      5214.014143\n",
       "10     6983.084925\n",
       "11     7579.525395\n",
       "12     7829.884059\n",
       "13     5519.240556\n",
       "14     5817.418489\n",
       "15     6381.849091\n",
       "16     5027.507436\n",
       "17     8113.228755\n",
       "18    13706.094612\n",
       "19     8929.696809\n",
       "20     5253.727602\n",
       "21     5247.559666\n",
       "22     8122.457601\n",
       "23    25225.082624\n",
       "24    15885.660275\n",
       "25    17975.319020\n",
       "26     7577.524664\n",
       "27     6083.906004\n",
       "28     5674.285735\n",
       "29     5592.747944\n",
       "30     5078.194547\n",
       "31     8073.625556\n",
       "32     6419.801242\n",
       "33     6812.340203\n",
       "34    28076.890178\n",
       "35    10875.261531\n",
       "Name: Yearly_Housing_Spending, dtype: float64"
      ]
     },
     "execution_count": 22,
     "metadata": {},
     "output_type": "execute_result"
    }
   ],
   "source": [
    "districtgrouped09.Yearly_Housing_Spending.mean()"
   ]
  },
  {
   "cell_type": "code",
   "execution_count": 8,
   "metadata": {},
   "outputs": [],
   "source": [
    "sf2009.rename(columns={'APN':'APN', 'DistrictCode':'DistrictCode', 'Council District':'DistrictNo', 'AddressFullAddress': 'Address', 'AddressCity':'City', 'AddressPostalCode':'Zip', '2009 LAND':'LandValue', '2009 IMPR':'ImprovementValue', '2009 TOTAL APPR':'AppraisedValue', '2009 TOTAL ASSD':'2009 TOTAL ASSD'}, inplace=True)\n",
    "sf2013.rename(columns={'APN':'APN', 'DistrictCode':'DistrictCode', 'Council District':'DistrictNo', 'AddressFullAddress': 'Address', 'AddressCity':'City', 'AddressPostalCode':'Zip', '2013 LAND':'LandValue', '2013 IMPR':'ImprovementValue', '2013 TOTAL APPR':'AppraisedValue', '2013 TOTAL ASSD':'2013 TOTAL ASSD'}, inplace=True)\n",
    "sf2017.rename(columns={'APN':'APN', 'DistrictCode':'DistrictCode', 'Council District':'DistrictNo', 'AddressFullAddress': 'Address', 'AddressCity':'City', 'AddressPostalCode':'Zip', '2017 LAND':'LandValue', '2017 IMPR':'ImprovementValue', '2017 TOTAL APPR':'AppraisedValue', '2017 TOTAL ASSD':'2017 TOTAL ASSD'}, inplace=True)"
   ]
  },
  {
   "cell_type": "code",
   "execution_count": 9,
   "metadata": {},
   "outputs": [],
   "source": [
    "issued.rename(columns={'Permit #': 'PermitNo', 'Permit Type Description':'PermTypeDesc', 'Permit Subtype Description': 'PermSubDesc', 'Parcel':'Parcel', 'Date Entered':'EnteredDt', 'Date Issued': 'IssuedDt', 'Const. Cost': 'ConstCost', 'Address':'Address', 'City':'City', 'State':'State', 'Zip':'Zip', 'Subdivision/Lot': 'Subdiv_Lot', 'Contact':'Contact', 'Permit Type': 'PermType', 'Permit Subtype': 'PermSubtype', 'IVR Trk#': 'IVRTrk#', 'Purpose':'Purpose', 'Council Dist':'CouncilDist', 'Census Tract':'CensusTract', 'Mapped Location':'MappedLoc'}, inplace=True)"
   ]
  },
  {
   "cell_type": "code",
   "execution_count": 10,
   "metadata": {},
   "outputs": [],
   "source": [
    "issued['EnteredDt'] = pd.to_datetime(issued['EnteredDt'])\n",
    "issued['IssuedDt'] = pd.to_datetime(issued['IssuedDt'])"
   ]
  },
  {
   "cell_type": "code",
   "execution_count": null,
   "metadata": {},
   "outputs": [],
   "source": [
    "issued.head()"
   ]
  },
  {
   "cell_type": "code",
   "execution_count": 11,
   "metadata": {},
   "outputs": [],
   "source": [
    "nulls09 = sf2009.loc[sf2009['FinishedArea'] == 0].index\n",
    "nulls13 = sf2013.loc[sf2013['FinishedArea'] == 0].index\n",
    "nulls17 = sf2017.loc[sf2017['FinishedArea'] == 0].index\n",
    "\n",
    "sf2009 = sf2009.drop(index=nulls09)\n",
    "sf2013 = sf2013.drop(index=nulls13)\n",
    "sf2017 = sf2017.drop(index=nulls17)"
   ]
  },
  {
   "cell_type": "code",
   "execution_count": null,
   "metadata": {},
   "outputs": [],
   "source": [
    "sf2009"
   ]
  },
  {
   "cell_type": "code",
   "execution_count": null,
   "metadata": {},
   "outputs": [],
   "source": [
    "issued.loc[issued.MappedLoc.str.match(r'\\(') == True]"
   ]
  },
  {
   "cell_type": "code",
   "execution_count": null,
   "metadata": {},
   "outputs": [],
   "source": [
    "issued.MappedLoc.searchsorted()"
   ]
  },
  {
   "cell_type": "code",
   "execution_count": 12,
   "metadata": {},
   "outputs": [],
   "source": [
    "r=0.0475/12 # monthly interest rate\n",
    "m=30*12 # number of months in 30 years\n",
    "\n",
    "# calculate yearly spending\n",
    "\n",
    "sf2009['Yearly_Housing_Spending']=12*(sf2009.AppraisedValue-sf2009.AppraisedValue*0.05)*((r*(1+r)**m)/((1+r)**(m-1)))\n",
    "sf2013['Yearly_Housing_Spending']=12*(sf2013.AppraisedValue-sf2013.AppraisedValue*0.05)*((r*(1+r)**m)/((1+r)**(m-1)))\n",
    "sf2017['Yearly_Housing_Spending']=12*(sf2017.AppraisedValue-sf2017.AppraisedValue*0.05)*((r*(1+r)**m)/((1+r)**(m-1)))"
   ]
  },
  {
   "cell_type": "code",
   "execution_count": null,
   "metadata": {},
   "outputs": [],
   "source": [
    "issued.columns"
   ]
  },
  {
   "cell_type": "code",
   "execution_count": 13,
   "metadata": {},
   "outputs": [],
   "source": [
    "sf2009['PricePerSqFt'] = sf2009.AppraisedValue/sf2009.FinishedArea\n",
    "sf2013['PricePerSqFt'] = sf2013.AppraisedValue/sf2013.FinishedArea\n",
    "sf2017['PricePerSqFt'] = sf2017.AppraisedValue/sf2017.FinishedArea"
   ]
  },
  {
   "cell_type": "code",
   "execution_count": null,
   "metadata": {
    "scrolled": false
   },
   "outputs": [],
   "source": [
    "sf2009.info()"
   ]
  },
  {
   "cell_type": "code",
   "execution_count": null,
   "metadata": {},
   "outputs": [],
   "source": [
    "sf2009.head()"
   ]
  },
  {
   "cell_type": "code",
   "execution_count": null,
   "metadata": {},
   "outputs": [],
   "source": [
    "sf2009.info()"
   ]
  },
  {
   "cell_type": "code",
   "execution_count": null,
   "metadata": {},
   "outputs": [],
   "source": [
    "sf2009.loc[sf2009.Yearly_Housing_Spending == sf2009.Yearly_Housing_Spending.max()]"
   ]
  },
  {
   "cell_type": "code",
   "execution_count": null,
   "metadata": {},
   "outputs": [],
   "source": [
    "print('30th percentile annual housing cost, 2009: ' + str(sf2009['Yearly_Housing_Spending'].quantile(0.3)))\n",
    "print('30th percentile annual housing cost, 2013: ' + str(sf2013['Yearly_Housing_Spending'].quantile(0.3)))\n",
    "print('30th percentile annual housing cost, 2017: ' + str(sf2017['Yearly_Housing_Spending'].quantile(0.3)))"
   ]
  },
  {
   "cell_type": "markdown",
   "metadata": {},
   "source": [
    "# Creating buckets for affordability calculation"
   ]
  },
  {
   "cell_type": "code",
   "execution_count": 14,
   "metadata": {},
   "outputs": [],
   "source": [
    "AMI=68000\n",
    "\n",
    "income_cat_1=0.30*AMI\n",
    "income_cat_2=0.60*AMI\n",
    "income_cat_3=0.80*AMI\n",
    "income_cat_4=1.20*AMI"
   ]
  },
  {
   "cell_type": "code",
   "execution_count": 15,
   "metadata": {},
   "outputs": [
    {
     "name": "stdout",
     "output_type": "stream",
     "text": [
      "6120.0 12240.0 16320.0 24480.0\n"
     ]
    }
   ],
   "source": [
    "cat1_spend=income_cat_1*0.3\n",
    "cat2_spend=income_cat_2*0.3\n",
    "cat3_spend=income_cat_3*0.3\n",
    "cat4_spend=income_cat_4*0.3\n",
    "\n",
    "print(cat1_spend, cat2_spend, cat3_spend, cat4_spend)"
   ]
  },
  {
   "cell_type": "code",
   "execution_count": 16,
   "metadata": {},
   "outputs": [],
   "source": [
    "def bucket(x):\n",
    "    if x<=cat1_spend:\n",
    "        return '(1) <30%_AMI'\n",
    "    elif x<=cat2_spend:\n",
    "         return '(2) 30-60%_AMI'\n",
    "    elif x<=cat3_spend:\n",
    "        return '(3) 60-80%_AMI'\n",
    "    elif x<=cat4_spend:\n",
    "        return '(4) 80-120%_AMI'\n",
    "    else:\n",
    "        return '(5) >120%_AMI'"
   ]
  },
  {
   "cell_type": "code",
   "execution_count": 17,
   "metadata": {},
   "outputs": [],
   "source": [
    "\n",
    "# assign the buckets to sf dataframes\n",
    "\n",
    "sf2013['bucket']=sf2013.Yearly_Housing_Spending.apply(bucket)\n",
    "\n",
    "sf2009['bucket']=sf2009.Yearly_Housing_Spending.apply(bucket)\n",
    "\n",
    "sf2017['bucket']=sf2017.Yearly_Housing_Spending.apply(bucket)"
   ]
  },
  {
   "cell_type": "code",
   "execution_count": 33,
   "metadata": {},
   "outputs": [
    {
     "data": {
      "text/html": [
       "<div>\n",
       "<style scoped>\n",
       "    .dataframe tbody tr th:only-of-type {\n",
       "        vertical-align: middle;\n",
       "    }\n",
       "\n",
       "    .dataframe tbody tr th {\n",
       "        vertical-align: top;\n",
       "    }\n",
       "\n",
       "    .dataframe thead th {\n",
       "        text-align: right;\n",
       "    }\n",
       "</style>\n",
       "<table border=\"1\" class=\"dataframe\">\n",
       "  <thead>\n",
       "    <tr style=\"text-align: right;\">\n",
       "      <th></th>\n",
       "      <th>APN</th>\n",
       "      <th>DistrictCode</th>\n",
       "      <th>DistrictNo</th>\n",
       "      <th>Address</th>\n",
       "      <th>City</th>\n",
       "      <th>Zip</th>\n",
       "      <th>LandValue</th>\n",
       "      <th>ImprovementValue</th>\n",
       "      <th>AppraisedValue</th>\n",
       "      <th>2009 TOTAL ASSD</th>\n",
       "      <th>FinishedArea</th>\n",
       "      <th>Yearly_Housing_Spending</th>\n",
       "      <th>PricePerSqFt</th>\n",
       "      <th>bucket</th>\n",
       "    </tr>\n",
       "  </thead>\n",
       "  <tbody>\n",
       "    <tr>\n",
       "      <th>0</th>\n",
       "      <td>00200000300</td>\n",
       "      <td>RT</td>\n",
       "      <td>10</td>\n",
       "      <td>1012 OLD BUCK HILL RD</td>\n",
       "      <td>GOODLETTSVILLE</td>\n",
       "      <td>37072</td>\n",
       "      <td>49800.0</td>\n",
       "      <td>65700.0</td>\n",
       "      <td>115500.0</td>\n",
       "      <td>28875.0</td>\n",
       "      <td>1920.0</td>\n",
       "      <td>5232.568086</td>\n",
       "      <td>60.156250</td>\n",
       "      <td>(1) &lt;30%_AMI</td>\n",
       "    </tr>\n",
       "    <tr>\n",
       "      <th>1</th>\n",
       "      <td>00200000700</td>\n",
       "      <td>RT</td>\n",
       "      <td>10</td>\n",
       "      <td>1109 HIGHLAND AVE</td>\n",
       "      <td>GOODLETTSVILLE</td>\n",
       "      <td>37072</td>\n",
       "      <td>44100.0</td>\n",
       "      <td>88700.0</td>\n",
       "      <td>132800.0</td>\n",
       "      <td>33200.0</td>\n",
       "      <td>1464.0</td>\n",
       "      <td>6016.320708</td>\n",
       "      <td>90.710383</td>\n",
       "      <td>(1) &lt;30%_AMI</td>\n",
       "    </tr>\n",
       "    <tr>\n",
       "      <th>2</th>\n",
       "      <td>00200001001002</td>\n",
       "      <td>GSD</td>\n",
       "      <td>10</td>\n",
       "      <td>0 SPRINGFIELD HWY</td>\n",
       "      <td>GOODLETTSVILLE</td>\n",
       "      <td>37072</td>\n",
       "      <td>15000.0</td>\n",
       "      <td>137900.0</td>\n",
       "      <td>152900.0</td>\n",
       "      <td>38225.0</td>\n",
       "      <td>3539.0</td>\n",
       "      <td>6926.923466</td>\n",
       "      <td>43.204295</td>\n",
       "      <td>(2) 30-60%_AMI</td>\n",
       "    </tr>\n",
       "    <tr>\n",
       "      <th>3</th>\n",
       "      <td>00200001400001</td>\n",
       "      <td>RT</td>\n",
       "      <td>10</td>\n",
       "      <td>133 B EAST END RD</td>\n",
       "      <td>GOODLETTSVILLE</td>\n",
       "      <td>37072</td>\n",
       "      <td>41100.0</td>\n",
       "      <td>27000.0</td>\n",
       "      <td>68100.0</td>\n",
       "      <td>17025.0</td>\n",
       "      <td>736.0</td>\n",
       "      <td>3085.176508</td>\n",
       "      <td>92.527174</td>\n",
       "      <td>(1) &lt;30%_AMI</td>\n",
       "    </tr>\n",
       "    <tr>\n",
       "      <th>4</th>\n",
       "      <td>00200001600001</td>\n",
       "      <td>RT</td>\n",
       "      <td>10</td>\n",
       "      <td>141 B EAST END RD</td>\n",
       "      <td>GOODLETTSVILLE</td>\n",
       "      <td>37072</td>\n",
       "      <td>25100.0</td>\n",
       "      <td>60900.0</td>\n",
       "      <td>86000.0</td>\n",
       "      <td>21500.0</td>\n",
       "      <td>1301.0</td>\n",
       "      <td>3896.111302</td>\n",
       "      <td>66.102998</td>\n",
       "      <td>(1) &lt;30%_AMI</td>\n",
       "    </tr>\n",
       "  </tbody>\n",
       "</table>\n",
       "</div>"
      ],
      "text/plain": [
       "              APN DistrictCode  DistrictNo                Address  \\\n",
       "0     00200000300         RT            10  1012 OLD BUCK HILL RD   \n",
       "1     00200000700         RT            10      1109 HIGHLAND AVE   \n",
       "2  00200001001002         GSD           10      0 SPRINGFIELD HWY   \n",
       "3  00200001400001         RT            10      133 B EAST END RD   \n",
       "4  00200001600001         RT            10      141 B EAST END RD   \n",
       "\n",
       "             City    Zip  LandValue  ImprovementValue  AppraisedValue  \\\n",
       "0  GOODLETTSVILLE  37072    49800.0           65700.0        115500.0   \n",
       "1  GOODLETTSVILLE  37072    44100.0           88700.0        132800.0   \n",
       "2  GOODLETTSVILLE  37072    15000.0          137900.0        152900.0   \n",
       "3  GOODLETTSVILLE  37072    41100.0           27000.0         68100.0   \n",
       "4  GOODLETTSVILLE  37072    25100.0           60900.0         86000.0   \n",
       "\n",
       "   2009 TOTAL ASSD  FinishedArea  Yearly_Housing_Spending  PricePerSqFt  \\\n",
       "0          28875.0        1920.0              5232.568086     60.156250   \n",
       "1          33200.0        1464.0              6016.320708     90.710383   \n",
       "2          38225.0        3539.0              6926.923466     43.204295   \n",
       "3          17025.0         736.0              3085.176508     92.527174   \n",
       "4          21500.0        1301.0              3896.111302     66.102998   \n",
       "\n",
       "           bucket  \n",
       "0    (1) <30%_AMI  \n",
       "1    (1) <30%_AMI  \n",
       "2  (2) 30-60%_AMI  \n",
       "3    (1) <30%_AMI  \n",
       "4    (1) <30%_AMI  "
      ]
     },
     "execution_count": 33,
     "metadata": {},
     "output_type": "execute_result"
    }
   ],
   "source": [
    "sf2009.head()"
   ]
  },
  {
   "cell_type": "code",
   "execution_count": null,
   "metadata": {},
   "outputs": [],
   "source": [
    "count13 = Counter(sf2013.bucket)\n",
    "supply13 = dict(count13)"
   ]
  },
  {
   "cell_type": "code",
   "execution_count": null,
   "metadata": {},
   "outputs": [],
   "source": [
    "count13"
   ]
  },
  {
   "cell_type": "code",
   "execution_count": null,
   "metadata": {},
   "outputs": [],
   "source": [
    "count17 = Counter(sf2017.bucket)\n",
    "supply17 = dict(count17)"
   ]
  },
  {
   "cell_type": "code",
   "execution_count": null,
   "metadata": {},
   "outputs": [],
   "source": [
    "sf2009.loc[sf2009.Yearly_Housing_Spending == sf2009.Yearly_Housing_Spending.max()]"
   ]
  },
  {
   "cell_type": "code",
   "execution_count": null,
   "metadata": {},
   "outputs": [],
   "source": [
    "sf2009.FinishedArea.describe()"
   ]
  },
  {
   "cell_type": "code",
   "execution_count": null,
   "metadata": {},
   "outputs": [],
   "source": [
    "sf2009.loc[sf2009.PricePerSqFt == sf2009.PricePerSqFt.max()]"
   ]
  },
  {
   "cell_type": "code",
   "execution_count": null,
   "metadata": {},
   "outputs": [],
   "source": [
    "sf2009.FinishedArea.plot(kind='hist')"
   ]
  },
  {
   "cell_type": "code",
   "execution_count": null,
   "metadata": {},
   "outputs": [],
   "source": [
    "sf2009['Yearly_Housing_Spending'].describe()"
   ]
  },
  {
   "cell_type": "code",
   "execution_count": null,
   "metadata": {},
   "outputs": [],
   "source": [
    "sf2013['Yearly_Housing_Spending'].describe()"
   ]
  },
  {
   "cell_type": "code",
   "execution_count": null,
   "metadata": {},
   "outputs": [],
   "source": [
    "sf2017['Yearly_Housing_Spending'].describe()"
   ]
  },
  {
   "cell_type": "code",
   "execution_count": null,
   "metadata": {},
   "outputs": [],
   "source": [
    "sf2009.Yearly_Housing_Spending.plot(kind='hist', bins=150)"
   ]
  },
  {
   "cell_type": "code",
   "execution_count": null,
   "metadata": {
    "scrolled": true
   },
   "outputs": [],
   "source": [
    "sf2013.info()"
   ]
  },
  {
   "cell_type": "code",
   "execution_count": null,
   "metadata": {},
   "outputs": [],
   "source": [
    "sf2017.info()"
   ]
  },
  {
   "cell_type": "code",
   "execution_count": null,
   "metadata": {},
   "outputs": [],
   "source": [
    "sf2009.AppraisedValue.describe()"
   ]
  },
  {
   "cell_type": "code",
   "execution_count": null,
   "metadata": {},
   "outputs": [],
   "source": [
    "sf2009.AppraisedValue.plot()"
   ]
  },
  {
   "cell_type": "code",
   "execution_count": null,
   "metadata": {},
   "outputs": [],
   "source": [
    "sf2013.AppraisedValue.describe()"
   ]
  },
  {
   "cell_type": "code",
   "execution_count": null,
   "metadata": {},
   "outputs": [],
   "source": [
    "sf2013.AppraisedValue.plot()"
   ]
  },
  {
   "cell_type": "code",
   "execution_count": null,
   "metadata": {},
   "outputs": [],
   "source": [
    "sf2017.AppraisedValue.describe()"
   ]
  },
  {
   "cell_type": "code",
   "execution_count": null,
   "metadata": {},
   "outputs": [],
   "source": [
    "sf2017.AppraisedValue.plot()"
   ]
  },
  {
   "cell_type": "code",
   "execution_count": null,
   "metadata": {},
   "outputs": [],
   "source": [
    "sf2009.AppraisedValue.describe()"
   ]
  },
  {
   "cell_type": "code",
   "execution_count": null,
   "metadata": {},
   "outputs": [],
   "source": [
    "issued.head()"
   ]
  },
  {
   "cell_type": "code",
   "execution_count": null,
   "metadata": {},
   "outputs": [],
   "source": [
    "issued.info()"
   ]
  },
  {
   "cell_type": "code",
   "execution_count": null,
   "metadata": {},
   "outputs": [],
   "source": [
    "IssuedDt(demo) > IssuedDt(home) in issued where issued.PermType == CADM and issued.Address ==demos.Address"
   ]
  },
  {
   "cell_type": "code",
   "execution_count": null,
   "metadata": {},
   "outputs": [],
   "source": [
    "dtdemissued = issued.loc[issued.PermType == 'CADM'].IssuedDt"
   ]
  },
  {
   "cell_type": "code",
   "execution_count": null,
   "metadata": {},
   "outputs": [],
   "source": [
    "demos = issued.loc[issued.PermType == 'CADM']"
   ]
  },
  {
   "cell_type": "code",
   "execution_count": null,
   "metadata": {},
   "outputs": [],
   "source": [
    "issued.loc[issued.Address.isin(demos.Address)]"
   ]
  },
  {
   "cell_type": "code",
   "execution_count": null,
   "metadata": {},
   "outputs": [],
   "source": [
    "issued.loc[issued.isin(parcels)]"
   ]
  },
  {
   "cell_type": "code",
   "execution_count": null,
   "metadata": {},
   "outputs": [],
   "source": [
    "issued.MappedLoc.unique()"
   ]
  },
  {
   "cell_type": "code",
   "execution_count": null,
   "metadata": {},
   "outputs": [],
   "source": [
    "issued.columns"
   ]
  },
  {
   "cell_type": "code",
   "execution_count": null,
   "metadata": {},
   "outputs": [],
   "source": [
    "issued.PermTypeDesc.unique()"
   ]
  },
  {
   "cell_type": "code",
   "execution_count": null,
   "metadata": {},
   "outputs": [],
   "source": [
    "issued.head()"
   ]
  },
  {
   "cell_type": "code",
   "execution_count": 28,
   "metadata": {},
   "outputs": [],
   "source": [
    "stypes = ['CAA01R301', 'CAA02R302', 'CAA03R298', 'CAA03R299', 'CAA03R398', 'CAA03R399']"
   ]
  },
  {
   "cell_type": "code",
   "execution_count": null,
   "metadata": {},
   "outputs": [],
   "source": [
    "issued.loc[issued.Per]"
   ]
  },
  {
   "cell_type": "code",
   "execution_count": 29,
   "metadata": {},
   "outputs": [],
   "source": [
    "homes = pd.DataFrame(issued.loc[issued.PermSubtype.isin(stypes)])"
   ]
  },
  {
   "cell_type": "code",
   "execution_count": 30,
   "metadata": {},
   "outputs": [],
   "source": [
    "homes['CostToBuyer'] = homes.ConstCost * 0.09 + homes.ConstCost"
   ]
  },
  {
   "cell_type": "code",
   "execution_count": 31,
   "metadata": {},
   "outputs": [],
   "source": [
    "r=0.0475/12 # monthly interest rate\n",
    "m=30*12 # number of months in 30 years\n",
    "\n",
    "homes['Yearly_Housing_Spending']=12*(homes.CostToBuyer-homes.CostToBuyer*0.05)*((r*(1+r)**m)/((1+r)**(m-1)))"
   ]
  },
  {
   "cell_type": "code",
   "execution_count": 32,
   "metadata": {},
   "outputs": [],
   "source": [
    "homes['bucket']=homes.Yearly_Housing_Spending.apply(bucket)"
   ]
  },
  {
   "cell_type": "code",
   "execution_count": 50,
   "metadata": {},
   "outputs": [],
   "source": [
    "income_by_zip_2016=pd.read_excel('./metrodata/2016Tax_TN.xls',skiprows=3)\n",
    "income_by_zip_2016.tail()\n",
    "income_by_zip_2016.rename(columns={'ZIP\\ncode [1]':'Zip','Size of adjusted gross income':'IncomeBracket','Number of returns':'NumberofPeople','Adjusted gross income (AGI)':'AGI'},inplace=True)"
   ]
  },
  {
   "cell_type": "code",
   "execution_count": 49,
   "metadata": {},
   "outputs": [
    {
     "data": {
      "text/plain": [
       "Index(['ZIP\\ncode [1]', 'IncomeBracket', 'NumberofPeople',\n",
       "       'Number of single returns', 'Number of joint returns',\n",
       "       'Number of head of household returns',\n",
       "       'Number with paid preparer's signature', 'Number of exemptions',\n",
       "       'Number of dependents', 'Number of volunteer prepared returns [2]',\n",
       "       ...\n",
       "       'Total tax liability [10]', 'Unnamed: 136',\n",
       "       'Total additional Medicare tax', 'Unnamed: 138',\n",
       "       'Net investment income tax', 'Unnamed: 140',\n",
       "       'Tax due at time of filing [11]', 'Unnamed: 142',\n",
       "       'Overpayments refunded [12]', 'Unnamed: 144'],\n",
       "      dtype='object', length=145)"
      ]
     },
     "execution_count": 49,
     "metadata": {},
     "output_type": "execute_result"
    }
   ],
   "source": [
    "income_by_zip_2016.columns"
   ]
  },
  {
   "cell_type": "code",
   "execution_count": 51,
   "metadata": {},
   "outputs": [
    {
     "data": {
      "text/html": [
       "<div>\n",
       "<style scoped>\n",
       "    .dataframe tbody tr th:only-of-type {\n",
       "        vertical-align: middle;\n",
       "    }\n",
       "\n",
       "    .dataframe tbody tr th {\n",
       "        vertical-align: top;\n",
       "    }\n",
       "\n",
       "    .dataframe thead th {\n",
       "        text-align: right;\n",
       "    }\n",
       "</style>\n",
       "<table border=\"1\" class=\"dataframe\">\n",
       "  <thead>\n",
       "    <tr style=\"text-align: right;\">\n",
       "      <th></th>\n",
       "      <th>Zip</th>\n",
       "      <th>IncomeBracket</th>\n",
       "      <th>NumberofPeople</th>\n",
       "      <th>Number of single returns</th>\n",
       "      <th>Number of joint returns</th>\n",
       "      <th>Number of head of household returns</th>\n",
       "      <th>Number with paid preparer's signature</th>\n",
       "      <th>Number of exemptions</th>\n",
       "      <th>Number of dependents</th>\n",
       "      <th>Number of volunteer prepared returns [2]</th>\n",
       "      <th>...</th>\n",
       "      <th>Total tax liability [10]</th>\n",
       "      <th>Unnamed: 136</th>\n",
       "      <th>Total additional Medicare tax</th>\n",
       "      <th>Unnamed: 138</th>\n",
       "      <th>Net investment income tax</th>\n",
       "      <th>Unnamed: 140</th>\n",
       "      <th>Tax due at time of filing [11]</th>\n",
       "      <th>Unnamed: 142</th>\n",
       "      <th>Overpayments refunded [12]</th>\n",
       "      <th>Unnamed: 144</th>\n",
       "    </tr>\n",
       "  </thead>\n",
       "  <tbody>\n",
       "    <tr>\n",
       "      <th>0</th>\n",
       "      <td>NaN</td>\n",
       "      <td>NaN</td>\n",
       "      <td>NaN</td>\n",
       "      <td>NaN</td>\n",
       "      <td>NaN</td>\n",
       "      <td>NaN</td>\n",
       "      <td>NaN</td>\n",
       "      <td>NaN</td>\n",
       "      <td>NaN</td>\n",
       "      <td>Total</td>\n",
       "      <td>...</td>\n",
       "      <td>Number of returns</td>\n",
       "      <td>Amount</td>\n",
       "      <td>Number of returns</td>\n",
       "      <td>Amount</td>\n",
       "      <td>Number of returns</td>\n",
       "      <td>Amount</td>\n",
       "      <td>Number of returns</td>\n",
       "      <td>Amount</td>\n",
       "      <td>Number of returns</td>\n",
       "      <td>Amount</td>\n",
       "    </tr>\n",
       "    <tr>\n",
       "      <th>1</th>\n",
       "      <td>NaN</td>\n",
       "      <td>NaN</td>\n",
       "      <td>-1.0</td>\n",
       "      <td>-2.0</td>\n",
       "      <td>-3.0</td>\n",
       "      <td>-4.0</td>\n",
       "      <td>-5.0</td>\n",
       "      <td>-6.0</td>\n",
       "      <td>-7.0</td>\n",
       "      <td>-8</td>\n",
       "      <td>...</td>\n",
       "      <td>-134</td>\n",
       "      <td>-135</td>\n",
       "      <td>-136</td>\n",
       "      <td>-137</td>\n",
       "      <td>-138</td>\n",
       "      <td>-139</td>\n",
       "      <td>-140</td>\n",
       "      <td>-141</td>\n",
       "      <td>-142</td>\n",
       "      <td>-143</td>\n",
       "    </tr>\n",
       "    <tr>\n",
       "      <th>2</th>\n",
       "      <td>0</td>\n",
       "      <td>Total</td>\n",
       "      <td>2950780.0</td>\n",
       "      <td>1314150.0</td>\n",
       "      <td>1110820.0</td>\n",
       "      <td>462700.0</td>\n",
       "      <td>1435540.0</td>\n",
       "      <td>5776740.0</td>\n",
       "      <td>1897310.0</td>\n",
       "      <td>56960</td>\n",
       "      <td>...</td>\n",
       "      <td>2204870</td>\n",
       "      <td>24604020</td>\n",
       "      <td>52900</td>\n",
       "      <td>127410</td>\n",
       "      <td>51540</td>\n",
       "      <td>214822</td>\n",
       "      <td>508740</td>\n",
       "      <td>2719722</td>\n",
       "      <td>2337700</td>\n",
       "      <td>6820816</td>\n",
       "    </tr>\n",
       "    <tr>\n",
       "      <th>3</th>\n",
       "      <td>0</td>\n",
       "      <td>$1 under $25,000</td>\n",
       "      <td>1157130.0</td>\n",
       "      <td>744170.0</td>\n",
       "      <td>155040.0</td>\n",
       "      <td>238420.0</td>\n",
       "      <td>530230.0</td>\n",
       "      <td>1712970.0</td>\n",
       "      <td>580500.0</td>\n",
       "      <td>32710</td>\n",
       "      <td>...</td>\n",
       "      <td>558670</td>\n",
       "      <td>522263</td>\n",
       "      <td>0</td>\n",
       "      <td>0</td>\n",
       "      <td>0</td>\n",
       "      <td>0</td>\n",
       "      <td>100320</td>\n",
       "      <td>89425</td>\n",
       "      <td>1001430</td>\n",
       "      <td>2236479</td>\n",
       "    </tr>\n",
       "    <tr>\n",
       "      <th>4</th>\n",
       "      <td>0</td>\n",
       "      <td>$25,000 under $50,000</td>\n",
       "      <td>759330.0</td>\n",
       "      <td>356940.0</td>\n",
       "      <td>217710.0</td>\n",
       "      <td>161440.0</td>\n",
       "      <td>347590.0</td>\n",
       "      <td>1486780.0</td>\n",
       "      <td>512360.0</td>\n",
       "      <td>18130</td>\n",
       "      <td>...</td>\n",
       "      <td>629120</td>\n",
       "      <td>1669448</td>\n",
       "      <td>0</td>\n",
       "      <td>0</td>\n",
       "      <td>0</td>\n",
       "      <td>0</td>\n",
       "      <td>104410</td>\n",
       "      <td>176633</td>\n",
       "      <td>646520</td>\n",
       "      <td>1784219</td>\n",
       "    </tr>\n",
       "  </tbody>\n",
       "</table>\n",
       "<p>5 rows × 145 columns</p>\n",
       "</div>"
      ],
      "text/plain": [
       "   Zip          IncomeBracket  NumberofPeople  Number of single returns  \\\n",
       "0  NaN                    NaN             NaN                       NaN   \n",
       "1  NaN                    NaN            -1.0                      -2.0   \n",
       "2    0                  Total       2950780.0                 1314150.0   \n",
       "3    0       $1 under $25,000       1157130.0                  744170.0   \n",
       "4    0  $25,000 under $50,000        759330.0                  356940.0   \n",
       "\n",
       "   Number of joint returns  Number of head of household returns  \\\n",
       "0                      NaN                                  NaN   \n",
       "1                     -3.0                                 -4.0   \n",
       "2                1110820.0                             462700.0   \n",
       "3                 155040.0                             238420.0   \n",
       "4                 217710.0                             161440.0   \n",
       "\n",
       "   Number with paid preparer's signature  Number of exemptions  \\\n",
       "0                                    NaN                   NaN   \n",
       "1                                   -5.0                  -6.0   \n",
       "2                              1435540.0             5776740.0   \n",
       "3                               530230.0             1712970.0   \n",
       "4                               347590.0             1486780.0   \n",
       "\n",
       "   Number of dependents Number of volunteer prepared returns [2]     ...       \\\n",
       "0                   NaN                                    Total     ...        \n",
       "1                  -7.0                                       -8     ...        \n",
       "2             1897310.0                                    56960     ...        \n",
       "3              580500.0                                    32710     ...        \n",
       "4              512360.0                                    18130     ...        \n",
       "\n",
       "  Total tax liability [10] Unnamed: 136 Total additional Medicare tax  \\\n",
       "0        Number of returns       Amount             Number of returns   \n",
       "1                     -134         -135                          -136   \n",
       "2                  2204870     24604020                         52900   \n",
       "3                   558670       522263                             0   \n",
       "4                   629120      1669448                             0   \n",
       "\n",
       "   Unnamed: 138  Net investment income tax  Unnamed: 140  \\\n",
       "0        Amount          Number of returns        Amount   \n",
       "1          -137                       -138          -139   \n",
       "2        127410                      51540        214822   \n",
       "3             0                          0             0   \n",
       "4             0                          0             0   \n",
       "\n",
       "   Tax due at time of filing [11] Unnamed: 142 Overpayments refunded [12]  \\\n",
       "0               Number of returns       Amount          Number of returns   \n",
       "1                            -140         -141                       -142   \n",
       "2                          508740      2719722                    2337700   \n",
       "3                          100320        89425                    1001430   \n",
       "4                          104410       176633                     646520   \n",
       "\n",
       "  Unnamed: 144  \n",
       "0       Amount  \n",
       "1         -143  \n",
       "2      6820816  \n",
       "3      2236479  \n",
       "4      1784219  \n",
       "\n",
       "[5 rows x 145 columns]"
      ]
     },
     "execution_count": 51,
     "metadata": {},
     "output_type": "execute_result"
    }
   ],
   "source": [
    "income_by_zip_2016.head()"
   ]
  },
  {
   "cell_type": "code",
   "execution_count": 52,
   "metadata": {},
   "outputs": [
    {
     "data": {
      "text/plain": [
       "array([nan, 0, 37010, 37012, 37013, 37014, 37015, 37016, 37018, 37019,\n",
       "       37020, 37022, 37023, 37025, 37026, 37027, 37028, 37029, 37030,\n",
       "       37031, 37032, 37033, 37034, 37035, 37036, 37037, 37040, 37042,\n",
       "       37043, 37046, 37047, 37048, 37049, 37050, 37051, 37052, 37055,\n",
       "       37057, 37058, 37059, 37060, 37061, 37062, 37064, 37066, 37067,\n",
       "       37069, 37072, 37073, 37074, 37075, 37076, 37078, 37079, 37080,\n",
       "       37082, 37083, 37085, 37086, 37087, 37090, 37091, 37095, 37096,\n",
       "       37097, 37098, 37101, 37110, 37115, 37118, 37122, 37127, 37128,\n",
       "       37129, 37130, 37134, 37135, 37137, 37138, 37141, 37142, 37143,\n",
       "       37144, 37145, 37146, 37148, 37149, 37150, 37151, 37153, 37160,\n",
       "       37166, 37167, 37171, 37172, 37174, 37175, 37178, 37179, 37180,\n",
       "       37181, 37183, 37184, 37185, 37186, 37187, 37188, 37189, 37190,\n",
       "       37191, 37201, 37203, 37204, 37205, 37206, 37207, 37208, 37209,\n",
       "       37210, 37211, 37212, 37214, 37215, 37216, 37217, 37218, 37219,\n",
       "       37220, 37221, 37228, 37301, 37302, 37303, 37305, 37306, 37307,\n",
       "       37308, 37309, 37310, 37311, 37312, 37313, 37317, 37318, 37321,\n",
       "       37322, 37323, 37324, 37325, 37327, 37328, 37329, 37330, 37331,\n",
       "       37332, 37333, 37334, 37335, 37336, 37337, 37338, 37339, 37340,\n",
       "       37341, 37342, 37343, 37345, 37347, 37348, 37350, 37351, 37352,\n",
       "       37353, 37354, 37355, 37356, 37357, 37359, 37360, 37361, 37362,\n",
       "       37363, 37365, 37366, 37367, 37369, 37370, 37373, 37374, 37375,\n",
       "       37376, 37377, 37379, 37380, 37381, 37385, 37387, 37388, 37391,\n",
       "       37396, 37397, 37398, 37402, 37403, 37404, 37405, 37406, 37407,\n",
       "       37408, 37409, 37410, 37411, 37412, 37415, 37416, 37419, 37421,\n",
       "       37601, 37604, 37615, 37616, 37617, 37618, 37620, 37640, 37641,\n",
       "       37642, 37643, 37645, 37650, 37656, 37657, 37658, 37659, 37660,\n",
       "       37663, 37664, 37665, 37680, 37681, 37683, 37686, 37687, 37688,\n",
       "       37690, 37691, 37692, 37694, 37701, 37705, 37708, 37709, 37710,\n",
       "       37711, 37713, 37714, 37715, 37716, 37721, 37722, 37723, 37724,\n",
       "       37725, 37726, 37727, 37729, 37731, 37737, 37738, 37742, 37743,\n",
       "       37745, 37748, 37752, 37753, 37754, 37755, 37756, 37757, 37760,\n",
       "       37762, 37763, 37764, 37765, 37766, 37769, 37770, 37771, 37772,\n",
       "       37774, 37777, 37779, 37801, 37803, 37804, 37806, 37807, 37809,\n",
       "       37810, 37811, 37813, 37814, 37818, 37819, 37820, 37821, 37825,\n",
       "       37826, 37829, 37830, 37840, 37841, 37843, 37846, 37847, 37848,\n",
       "       37849, 37852, 37853, 37854, 37857, 37860, 37861, 37862, 37863,\n",
       "       37865, 37866, 37869, 37870, 37871, 37872, 37873, 37874, 37876,\n",
       "       37877, 37878, 37879, 37880, 37881, 37882, 37885, 37886, 37887,\n",
       "       37888, 37890, 37891, 37892, 37902, 37909, 37912, 37914, 37915,\n",
       "       37916, 37917, 37918, 37919, 37920, 37921, 37922, 37923, 37924,\n",
       "       37931, 37932, 37934, 37938, 38001, 38002, 38004, 38006, 38008,\n",
       "       38011, 38012, 38015, 38016, 38017, 38018, 38019, 38023, 38024,\n",
       "       38028, 38030, 38034, 38037, 38039, 38040, 38041, 38042, 38044,\n",
       "       38049, 38052, 38053, 38057, 38058, 38059, 38060, 38061, 38063,\n",
       "       38066, 38067, 38068, 38069, 38075, 38076, 38079, 38080, 38103,\n",
       "       38104, 38105, 38106, 38107, 38108, 38109, 38111, 38112, 38114,\n",
       "       38115, 38116, 38117, 38118, 38119, 38120, 38122, 38125, 38126,\n",
       "       38127, 38128, 38133, 38134, 38135, 38138, 38139, 38141, 38201,\n",
       "       38220, 38221, 38222, 38224, 38225, 38226, 38229, 38230, 38231,\n",
       "       38232, 38233, 38236, 38237, 38240, 38241, 38242, 38251, 38253,\n",
       "       38255, 38256, 38257, 38258, 38259, 38260, 38261, 38301, 38305,\n",
       "       38310, 38311, 38313, 38315, 38316, 38317, 38318, 38320, 38321,\n",
       "       38326, 38327, 38328, 38329, 38330, 38332, 38333, 38334, 38337,\n",
       "       38339, 38340, 38341, 38342, 38343, 38344, 38345, 38347, 38348,\n",
       "       38351, 38352, 38355, 38356, 38357, 38358, 38359, 38361, 38362,\n",
       "       38363, 38366, 38367, 38368, 38369, 38370, 38371, 38372, 38374,\n",
       "       38375, 38376, 38379, 38380, 38381, 38382, 38387, 38388, 38390,\n",
       "       38391, 38392, 38401, 38425, 38449, 38450, 38451, 38452, 38453,\n",
       "       38454, 38456, 38457, 38459, 38460, 38461, 38462, 38463, 38464,\n",
       "       38468, 38469, 38471, 38472, 38473, 38474, 38475, 38476, 38477,\n",
       "       38478, 38481, 38482, 38483, 38485, 38486, 38487, 38488, 38501,\n",
       "       38504, 38506, 38541, 38543, 38544, 38545, 38547, 38548, 38549,\n",
       "       38551, 38552, 38553, 38554, 38555, 38556, 38558, 38559, 38560,\n",
       "       38562, 38563, 38564, 38565, 38567, 38568, 38569, 38570, 38571,\n",
       "       38572, 38573, 38574, 38575, 38577, 38579, 38580, 38581, 38582,\n",
       "       38583, 38585, 38587, 38588, 99999,\n",
       "       '** - Not shown to avoid disclosure of information \\nabout specific taxpayers.  However, the data are \\ncombined with data in an adjacent size class, \\nas appropriate, and included in the appropriate totals.',\n",
       "       '[1] The ZIP Code is based on the 5-digit ZIP code on the individual \\nincome tax return.  ZIP Codes with less than 100 returns, \\nidentified as a single building ZIP code, or identified as a \\nnonresidential ZIP code have been categorized as other (99999).',\n",
       "       '[2] The \"Number of volunteer prepared returns\" shows counts of \\nreturns prepared by IRS-certified volunteers to taxpayers with \\nlimited income, persons with disabilities, limited English speaking \\ntaxpayers, current and former members of the military, and \\ntaxpayers who are 60 years of age and older.',\n",
       "       '[3] Includes primary taxpayers 60 years of age or older.',\n",
       "       '[4] Less deficit.',\n",
       "       '[5] \"Qualified dividends\" are ordinary dividends received \\nin tax years beginning after 2002 that meet certain \\nconditions and receive preferential tax rates. \\nThe maximum qualified dividends tax rate is 20%.',\n",
       "       \"[6] Includes the Alaskan permanent fund, reported by \\nresidents of Alaska on Forms 1040A and 1040EZ's.  \\nThis fund only applies to statistics in the totals, and the \\nstate of Alaska.\",\n",
       "       '[7] \"Earned income credit\" includes both the refundable \\nand non-refundable portions.  The non-refundable portion \\ncould reduce income tax and certain related taxes to zero. \\nThe earned income credit amounts in excess of total tax \\nliability, or amounts when there was no tax liability at all, \\nwere refundable.  See footnote 8 below for explanation \\nof the refundable portion of the earned income credit.',\n",
       "       '[8] The refundable portion of the \"earned income credit\" \\nequals \"total income tax\" minus the \"earned income credit.\"  \\nIf the result is negative, this amount is considered the \\nrefundable portion.  No other refundable credits were \\ntaken into account for this calculation.',\n",
       "       '[9]  \"Income tax\" reflects the amount reported on \\nForm 1040 line 56.  It also includes data from \\nForm 1040A and 1040EZ filers.  ',\n",
       "       '[10] \"Total tax liability\" differs from \"Income tax,\" in that\\n\"Total tax liability\" includes the taxes from recapture of \\ncertain prior-year credits, tax applicable to individual \\nretirement arrangements (IRA\\'s), social security taxes \\non self-employment income and on certain tip income, \\nadvanced earned income payments, household\\nemployment taxes, and certain \"other taxes\" listed \\nin the Form 1040 instructions.',\n",
       "       '[11] Reflects payments to or withholdings made to \\n\"Total tax liability\".  This is the amount the tax filer \\nowes when the income tax return is filed.',\n",
       "       '[12]  The amount of overpayments the tax filer requested to \\nhave refunded. ',\n",
       "       'NOTE: This table presents aggregates of all returns filed and\\nprocessed through the Individual Master File (IMF) system \\nduring Calendar Year 2017, including any returns filed for \\ntax years preceding 2016.',\n",
       "       'This table is based on tax returns as initially processed by IRS\\nand does not reflect amended returns or errors that were\\ncorrected after initial processing. In general, during administrative \\nor Master File processing, taxpayer reporting discrepancies are \\ncorrected only to the extent necessary. The statistics in the ZIP code \\ndata should, therefore, be used with the knowledge that some of the \\ndata have not been perfected or edited for statistical purposes \\nand that State totals in this table may not be altogether \\ncomparable to other State totals published by the IRS, \\nStatistics of Income Division. ',\n",
       "       'Detail may not add to totals because of rounding.',\n",
       "       'SOURCE: IRS, Statistics of Income Division, \\nIndividual Master File System, August 2018.'],\n",
       "      dtype=object)"
      ]
     },
     "execution_count": 52,
     "metadata": {},
     "output_type": "execute_result"
    }
   ],
   "source": [
    "income_by_zip_2016.Zip.unique()"
   ]
  },
  {
   "cell_type": "code",
   "execution_count": 47,
   "metadata": {},
   "outputs": [],
   "source": [
    "\n",
    "# remove blank rows and sub total per Zip Code\n",
    "# AGI is in thousands of dollars\n",
    "\n",
    "income_by_zip_2016=income_by_zip_2016[income_by_zip_2016['IncomeBracket']!='NaN']"
   ]
  },
  {
   "cell_type": "code",
   "execution_count": 48,
   "metadata": {},
   "outputs": [
    {
     "data": {
      "text/html": [
       "<div>\n",
       "<style scoped>\n",
       "    .dataframe tbody tr th:only-of-type {\n",
       "        vertical-align: middle;\n",
       "    }\n",
       "\n",
       "    .dataframe tbody tr th {\n",
       "        vertical-align: top;\n",
       "    }\n",
       "\n",
       "    .dataframe thead th {\n",
       "        text-align: right;\n",
       "    }\n",
       "</style>\n",
       "<table border=\"1\" class=\"dataframe\">\n",
       "  <thead>\n",
       "    <tr style=\"text-align: right;\">\n",
       "      <th></th>\n",
       "      <th>ZIP\n",
       "code [1]</th>\n",
       "      <th>IncomeBracket</th>\n",
       "      <th>NumberofPeople</th>\n",
       "      <th>Number of single returns</th>\n",
       "      <th>Number of joint returns</th>\n",
       "      <th>Number of head of household returns</th>\n",
       "      <th>Number with paid preparer's signature</th>\n",
       "      <th>Number of exemptions</th>\n",
       "      <th>Number of dependents</th>\n",
       "      <th>Number of volunteer prepared returns [2]</th>\n",
       "      <th>...</th>\n",
       "      <th>Total tax liability [10]</th>\n",
       "      <th>Unnamed: 136</th>\n",
       "      <th>Total additional Medicare tax</th>\n",
       "      <th>Unnamed: 138</th>\n",
       "      <th>Net investment income tax</th>\n",
       "      <th>Unnamed: 140</th>\n",
       "      <th>Tax due at time of filing [11]</th>\n",
       "      <th>Unnamed: 142</th>\n",
       "      <th>Overpayments refunded [12]</th>\n",
       "      <th>Unnamed: 144</th>\n",
       "    </tr>\n",
       "  </thead>\n",
       "  <tbody>\n",
       "    <tr>\n",
       "      <th>0</th>\n",
       "      <td>NaN</td>\n",
       "      <td>NaN</td>\n",
       "      <td>NaN</td>\n",
       "      <td>NaN</td>\n",
       "      <td>NaN</td>\n",
       "      <td>NaN</td>\n",
       "      <td>NaN</td>\n",
       "      <td>NaN</td>\n",
       "      <td>NaN</td>\n",
       "      <td>Total</td>\n",
       "      <td>...</td>\n",
       "      <td>Number of returns</td>\n",
       "      <td>Amount</td>\n",
       "      <td>Number of returns</td>\n",
       "      <td>Amount</td>\n",
       "      <td>Number of returns</td>\n",
       "      <td>Amount</td>\n",
       "      <td>Number of returns</td>\n",
       "      <td>Amount</td>\n",
       "      <td>Number of returns</td>\n",
       "      <td>Amount</td>\n",
       "    </tr>\n",
       "    <tr>\n",
       "      <th>1</th>\n",
       "      <td>NaN</td>\n",
       "      <td>NaN</td>\n",
       "      <td>-1.0</td>\n",
       "      <td>-2.0</td>\n",
       "      <td>-3.0</td>\n",
       "      <td>-4.0</td>\n",
       "      <td>-5.0</td>\n",
       "      <td>-6.0</td>\n",
       "      <td>-7.0</td>\n",
       "      <td>-8</td>\n",
       "      <td>...</td>\n",
       "      <td>-134</td>\n",
       "      <td>-135</td>\n",
       "      <td>-136</td>\n",
       "      <td>-137</td>\n",
       "      <td>-138</td>\n",
       "      <td>-139</td>\n",
       "      <td>-140</td>\n",
       "      <td>-141</td>\n",
       "      <td>-142</td>\n",
       "      <td>-143</td>\n",
       "    </tr>\n",
       "    <tr>\n",
       "      <th>2</th>\n",
       "      <td>0</td>\n",
       "      <td>Total</td>\n",
       "      <td>2950780.0</td>\n",
       "      <td>1314150.0</td>\n",
       "      <td>1110820.0</td>\n",
       "      <td>462700.0</td>\n",
       "      <td>1435540.0</td>\n",
       "      <td>5776740.0</td>\n",
       "      <td>1897310.0</td>\n",
       "      <td>56960</td>\n",
       "      <td>...</td>\n",
       "      <td>2204870</td>\n",
       "      <td>24604020</td>\n",
       "      <td>52900</td>\n",
       "      <td>127410</td>\n",
       "      <td>51540</td>\n",
       "      <td>214822</td>\n",
       "      <td>508740</td>\n",
       "      <td>2719722</td>\n",
       "      <td>2337700</td>\n",
       "      <td>6820816</td>\n",
       "    </tr>\n",
       "    <tr>\n",
       "      <th>3</th>\n",
       "      <td>0</td>\n",
       "      <td>$1 under $25,000</td>\n",
       "      <td>1157130.0</td>\n",
       "      <td>744170.0</td>\n",
       "      <td>155040.0</td>\n",
       "      <td>238420.0</td>\n",
       "      <td>530230.0</td>\n",
       "      <td>1712970.0</td>\n",
       "      <td>580500.0</td>\n",
       "      <td>32710</td>\n",
       "      <td>...</td>\n",
       "      <td>558670</td>\n",
       "      <td>522263</td>\n",
       "      <td>0</td>\n",
       "      <td>0</td>\n",
       "      <td>0</td>\n",
       "      <td>0</td>\n",
       "      <td>100320</td>\n",
       "      <td>89425</td>\n",
       "      <td>1001430</td>\n",
       "      <td>2236479</td>\n",
       "    </tr>\n",
       "    <tr>\n",
       "      <th>4</th>\n",
       "      <td>0</td>\n",
       "      <td>$25,000 under $50,000</td>\n",
       "      <td>759330.0</td>\n",
       "      <td>356940.0</td>\n",
       "      <td>217710.0</td>\n",
       "      <td>161440.0</td>\n",
       "      <td>347590.0</td>\n",
       "      <td>1486780.0</td>\n",
       "      <td>512360.0</td>\n",
       "      <td>18130</td>\n",
       "      <td>...</td>\n",
       "      <td>629120</td>\n",
       "      <td>1669448</td>\n",
       "      <td>0</td>\n",
       "      <td>0</td>\n",
       "      <td>0</td>\n",
       "      <td>0</td>\n",
       "      <td>104410</td>\n",
       "      <td>176633</td>\n",
       "      <td>646520</td>\n",
       "      <td>1784219</td>\n",
       "    </tr>\n",
       "  </tbody>\n",
       "</table>\n",
       "<p>5 rows × 145 columns</p>\n",
       "</div>"
      ],
      "text/plain": [
       "  ZIP\\ncode [1]          IncomeBracket  NumberofPeople  \\\n",
       "0           NaN                    NaN             NaN   \n",
       "1           NaN                    NaN            -1.0   \n",
       "2             0                  Total       2950780.0   \n",
       "3             0       $1 under $25,000       1157130.0   \n",
       "4             0  $25,000 under $50,000        759330.0   \n",
       "\n",
       "   Number of single returns  Number of joint returns  \\\n",
       "0                       NaN                      NaN   \n",
       "1                      -2.0                     -3.0   \n",
       "2                 1314150.0                1110820.0   \n",
       "3                  744170.0                 155040.0   \n",
       "4                  356940.0                 217710.0   \n",
       "\n",
       "   Number of head of household returns  Number with paid preparer's signature  \\\n",
       "0                                  NaN                                    NaN   \n",
       "1                                 -4.0                                   -5.0   \n",
       "2                             462700.0                              1435540.0   \n",
       "3                             238420.0                               530230.0   \n",
       "4                             161440.0                               347590.0   \n",
       "\n",
       "   Number of exemptions  Number of dependents  \\\n",
       "0                   NaN                   NaN   \n",
       "1                  -6.0                  -7.0   \n",
       "2             5776740.0             1897310.0   \n",
       "3             1712970.0              580500.0   \n",
       "4             1486780.0              512360.0   \n",
       "\n",
       "  Number of volunteer prepared returns [2]     ...       \\\n",
       "0                                    Total     ...        \n",
       "1                                       -8     ...        \n",
       "2                                    56960     ...        \n",
       "3                                    32710     ...        \n",
       "4                                    18130     ...        \n",
       "\n",
       "  Total tax liability [10] Unnamed: 136 Total additional Medicare tax  \\\n",
       "0        Number of returns       Amount             Number of returns   \n",
       "1                     -134         -135                          -136   \n",
       "2                  2204870     24604020                         52900   \n",
       "3                   558670       522263                             0   \n",
       "4                   629120      1669448                             0   \n",
       "\n",
       "   Unnamed: 138  Net investment income tax  Unnamed: 140  \\\n",
       "0        Amount          Number of returns        Amount   \n",
       "1          -137                       -138          -139   \n",
       "2        127410                      51540        214822   \n",
       "3             0                          0             0   \n",
       "4             0                          0             0   \n",
       "\n",
       "   Tax due at time of filing [11] Unnamed: 142 Overpayments refunded [12]  \\\n",
       "0               Number of returns       Amount          Number of returns   \n",
       "1                            -140         -141                       -142   \n",
       "2                          508740      2719722                    2337700   \n",
       "3                          100320        89425                    1001430   \n",
       "4                          104410       176633                     646520   \n",
       "\n",
       "  Unnamed: 144  \n",
       "0       Amount  \n",
       "1         -143  \n",
       "2      6820816  \n",
       "3      2236479  \n",
       "4      1784219  \n",
       "\n",
       "[5 rows x 145 columns]"
      ]
     },
     "execution_count": 48,
     "metadata": {},
     "output_type": "execute_result"
    }
   ],
   "source": [
    "income_by_zip_2016."
   ]
  },
  {
   "cell_type": "code",
   "execution_count": null,
   "metadata": {},
   "outputs": [],
   "source": [
    "bucketcount = Counter(homes.bucket)"
   ]
  },
  {
   "cell_type": "code",
   "execution_count": null,
   "metadata": {},
   "outputs": [],
   "source": [
    "bucketcount"
   ]
  },
  {
   "cell_type": "code",
   "execution_count": null,
   "metadata": {},
   "outputs": [],
   "source": [
    "count09"
   ]
  },
  {
   "cell_type": "code",
   "execution_count": null,
   "metadata": {},
   "outputs": [],
   "source": [
    "count13"
   ]
  },
  {
   "cell_type": "code",
   "execution_count": null,
   "metadata": {},
   "outputs": [],
   "source": [
    "count17"
   ]
  },
  {
   "cell_type": "code",
   "execution_count": null,
   "metadata": {},
   "outputs": [],
   "source": [
    "homes.Yearly_Housing_Spending.describe()"
   ]
  },
  {
   "cell_type": "code",
   "execution_count": null,
   "metadata": {},
   "outputs": [],
   "source": [
    "homes.head()"
   ]
  },
  {
   "cell_type": "code",
   "execution_count": null,
   "metadata": {},
   "outputs": [],
   "source": [
    "homes.CostToBuyer.describe()"
   ]
  },
  {
   "cell_type": "code",
   "execution_count": null,
   "metadata": {},
   "outputs": [],
   "source": [
    "homes.ConstCost.describe()"
   ]
  },
  {
   "cell_type": "markdown",
   "metadata": {},
   "source": [
    "Certain permits have construction cost of 0.  These are anomalies (amended permits, master permits, etc.) that may be ignored."
   ]
  },
  {
   "cell_type": "code",
   "execution_count": null,
   "metadata": {},
   "outputs": [],
   "source": [
    "badpermits = homes.loc[homes.ConstCost == 0].index"
   ]
  },
  {
   "cell_type": "code",
   "execution_count": null,
   "metadata": {},
   "outputs": [],
   "source": [
    "homes.drop(badpermits, inplace = True)"
   ]
  },
  {
   "cell_type": "code",
   "execution_count": null,
   "metadata": {},
   "outputs": [],
   "source": [
    "rebuilds = pd.DataFrame(homes.loc[homes.Address.isin(demos.Address)])"
   ]
  },
  {
   "cell_type": "code",
   "execution_count": null,
   "metadata": {},
   "outputs": [],
   "source": [
    "rebuilds.drop(rebuilds.loc[rebuilds['ConstCost'] == 0].index, inplace=True)"
   ]
  },
  {
   "cell_type": "code",
   "execution_count": null,
   "metadata": {},
   "outputs": [],
   "source": [
    "rebuilds.ConstCost.describe()"
   ]
  },
  {
   "cell_type": "code",
   "execution_count": null,
   "metadata": {},
   "outputs": [],
   "source": [
    "homes.ConstCost.describe()"
   ]
  },
  {
   "cell_type": "code",
   "execution_count": null,
   "metadata": {},
   "outputs": [],
   "source": [
    "#rebuilds.set_index('IssuedDt', inplace=True)"
   ]
  },
  {
   "cell_type": "code",
   "execution_count": null,
   "metadata": {},
   "outputs": [],
   "source": [
    "rebuilds.drop(rebuilds.loc[rebuilds.ConstCost > 3.678022e+05].index, inplace=True)"
   ]
  },
  {
   "cell_type": "code",
   "execution_count": null,
   "metadata": {},
   "outputs": [],
   "source": [
    "rebuilds.info()"
   ]
  },
  {
   "cell_type": "code",
   "execution_count": null,
   "metadata": {},
   "outputs": [],
   "source": [
    "homes.info()"
   ]
  },
  {
   "cell_type": "code",
   "execution_count": null,
   "metadata": {},
   "outputs": [],
   "source": [
    "nonhomes = homes.loc[homes['ConstCost'] == 0.0].index"
   ]
  },
  {
   "cell_type": "code",
   "execution_count": null,
   "metadata": {},
   "outputs": [],
   "source": [
    "homes.drop(index=nonhomes, inplace=True)"
   ]
  },
  {
   "cell_type": "code",
   "execution_count": null,
   "metadata": {},
   "outputs": [],
   "source": [
    "permitdecode = pd.DataFrame(issued[['PermTypeDesc','PermType']])"
   ]
  },
  {
   "cell_type": "code",
   "execution_count": null,
   "metadata": {},
   "outputs": [],
   "source": [
    "result = re.findall('-?\\d*\\.\\d*', issued.MappedLoc[1])"
   ]
  },
  {
   "cell_type": "code",
   "execution_count": null,
   "metadata": {},
   "outputs": [],
   "source": [
    "print(result)"
   ]
  },
  {
   "cell_type": "code",
   "execution_count": null,
   "metadata": {},
   "outputs": [],
   "source": [
    "permitdecode.drop_duplicates()"
   ]
  },
  {
   "cell_type": "markdown",
   "metadata": {},
   "source": [
    "CARN, CARR, CADM"
   ]
  },
  {
   "cell_type": "code",
   "execution_count": null,
   "metadata": {},
   "outputs": [],
   "source": [
    "#resnew = pd.DataFrame(issued.loc[issued['PermType'] == 'CARW'])\n",
    "respermits = pd.DataFrame(issued.loc[issued['PermType'].isin(['CARN','CARR'])])"
   ]
  },
  {
   "cell_type": "code",
   "execution_count": null,
   "metadata": {},
   "outputs": [],
   "source": [
    "respermits.info()"
   ]
  },
  {
   "cell_type": "code",
   "execution_count": null,
   "metadata": {},
   "outputs": [],
   "source": [
    "newhomes = respermits.Purpose.str.match(r'[dD]emolition')"
   ]
  },
  {
   "cell_type": "code",
   "execution_count": null,
   "metadata": {},
   "outputs": [],
   "source": [
    "respermits.Purpose.unique()"
   ]
  },
  {
   "cell_type": "code",
   "execution_count": null,
   "metadata": {},
   "outputs": [],
   "source": [
    "demos = pd.DataFrame(issued.loc[issued['PermType'] == 'CADM'])"
   ]
  },
  {
   "cell_type": "code",
   "execution_count": null,
   "metadata": {},
   "outputs": [],
   "source": [
    "demos.info()"
   ]
  },
  {
   "cell_type": "code",
   "execution_count": null,
   "metadata": {},
   "outputs": [],
   "source": [
    "issued.loc[issued['Address'] == '914 ACKLEN AVE']"
   ]
  },
  {
   "cell_type": "code",
   "execution_count": null,
   "metadata": {},
   "outputs": [],
   "source": [
    "demos.head()"
   ]
  },
  {
   "cell_type": "code",
   "execution_count": null,
   "metadata": {},
   "outputs": [],
   "source": [
    "demos.ConstCost.median()"
   ]
  },
  {
   "cell_type": "code",
   "execution_count": null,
   "metadata": {},
   "outputs": [],
   "source": [
    "respermits.set_index('IssuedDt', inplace=True)"
   ]
  },
  {
   "cell_type": "code",
   "execution_count": null,
   "metadata": {},
   "outputs": [],
   "source": [
    "respermits.info()"
   ]
  },
  {
   "cell_type": "code",
   "execution_count": null,
   "metadata": {},
   "outputs": [],
   "source": [
    "len(respermits.PermSubDesc.unique())"
   ]
  },
  {
   "cell_type": "code",
   "execution_count": null,
   "metadata": {},
   "outputs": [],
   "source": [
    "monthlycost = respermits['ConstCost'].resample('M').mean()"
   ]
  },
  {
   "cell_type": "code",
   "execution_count": null,
   "metadata": {},
   "outputs": [],
   "source": [
    "monthlycost.plot()"
   ]
  },
  {
   "cell_type": "code",
   "execution_count": null,
   "metadata": {},
   "outputs": [],
   "source": [
    "respermits."
   ]
  },
  {
   "cell_type": "code",
   "execution_count": null,
   "metadata": {},
   "outputs": [],
   "source": [
    "respermits.describe()"
   ]
  },
  {
   "cell_type": "code",
   "execution_count": null,
   "metadata": {},
   "outputs": [],
   "source": [
    "resnew.EnteredDt.describe()"
   ]
  },
  {
   "cell_type": "code",
   "execution_count": null,
   "metadata": {},
   "outputs": [],
   "source": [
    "resnew.IssuedDt.describe()"
   ]
  },
  {
   "cell_type": "code",
   "execution_count": null,
   "metadata": {},
   "outputs": [],
   "source": [
    "resnew.ConstCost.describe()"
   ]
  },
  {
   "cell_type": "code",
   "execution_count": null,
   "metadata": {},
   "outputs": [],
   "source": [
    "issued['CouncilDist'].unique()"
   ]
  },
  {
   "cell_type": "code",
   "execution_count": null,
   "metadata": {},
   "outputs": [],
   "source": [
    "issued['MappedLoc'][1]"
   ]
  },
  {
   "cell_type": "code",
   "execution_count": null,
   "metadata": {},
   "outputs": [],
   "source": [
    "issued['extcoords'] = issued.MappedLoc.str.extract(r'?\\(.*\\)', expand=False)"
   ]
  },
  {
   "cell_type": "code",
   "execution_count": null,
   "metadata": {},
   "outputs": [],
   "source": [
    "coords = re.compile(r'\\(.*\\)')"
   ]
  },
  {
   "cell_type": "code",
   "execution_count": null,
   "metadata": {},
   "outputs": [],
   "source": [
    "matches = []"
   ]
  },
  {
   "cell_type": "code",
   "execution_count": null,
   "metadata": {},
   "outputs": [],
   "source": [
    "for string in issued.MappedLoc:\n",
    "    match = re.findall(coords, string)\n",
    "    matches.append(match)"
   ]
  },
  {
   "cell_type": "code",
   "execution_count": null,
   "metadata": {},
   "outputs": [],
   "source": [
    "type(matches)"
   ]
  },
  {
   "cell_type": "code",
   "execution_count": null,
   "metadata": {},
   "outputs": [],
   "source": [
    "type(matches[1])"
   ]
  },
  {
   "cell_type": "code",
   "execution_count": null,
   "metadata": {},
   "outputs": [],
   "source": [
    "#[s for s in i[s] for i in matches]\n",
    "\n",
    "coordlist = []\n",
    "for i in enumerate(matches):\n",
    "    i = []\n",
    "    for s in i[s]:\n",
    "        coordlist.append(tuple(s))"
   ]
  },
  {
   "cell_type": "code",
   "execution_count": null,
   "metadata": {},
   "outputs": [],
   "source": [
    "len(matches)"
   ]
  },
  {
   "cell_type": "code",
   "execution_count": null,
   "metadata": {},
   "outputs": [],
   "source": [
    "matches[1]"
   ]
  },
  {
   "cell_type": "code",
   "execution_count": null,
   "metadata": {
    "scrolled": true
   },
   "outputs": [],
   "source": [
    "issued['coords'] = pd.Series(matches).astype(tuple)"
   ]
  },
  {
   "cell_type": "code",
   "execution_count": null,
   "metadata": {},
   "outputs": [],
   "source": [
    "issued['coords'][1]"
   ]
  },
  {
   "cell_type": "markdown",
   "metadata": {},
   "source": [
    "Income data:\n",
    "    Median average income: 68000\n",
    "        Income subgroups:\n",
    "        30% MAI (20400 /yr) (30% housing = 510/mo)\n",
    "        60% MAI (40800 /yr) (30% housing = 1020/mo)\n",
    "        80% MAI (54400 /yr) (30% housing = 1360/mo)\n",
    "        120% MAI (81600 /yr) (30% housing = 2040/mo)"
   ]
  },
  {
   "cell_type": "markdown",
   "metadata": {},
   "source": [
    "Model development:\n",
    "    \n",
    "    Owners = 54%\n",
    "        - Model annual adjustments to these numbers\n",
    "    \n",
    "    \n",
    "    Median Housing Cost - Owner = 1336/month * 12 = 16032/yr\n",
    "\n",
    "    15-yr owner gap (affordable) = 3367\n",
    "    15-yr owner gap (market) = 35751\n",
    "\n",
    "    10-yr predicted owner gap (affordable) = 1257\n",
    "    10-yr predicted owner gap (market) = 41421\n",
    "    "
   ]
  },
  {
   "cell_type": "code",
   "execution_count": null,
   "metadata": {},
   "outputs": [],
   "source": [
    "issued.Issued.min()"
   ]
  },
  {
   "cell_type": "code",
   "execution_count": null,
   "metadata": {},
   "outputs": [],
   "source": [
    "issued.Issued.max()"
   ]
  },
  {
   "cell_type": "code",
   "execution_count": null,
   "metadata": {},
   "outputs": [],
   "source": [
    "issued['monthlies'] = pd.Series([cost/360 for cost in issued.ConstCost])"
   ]
  },
  {
   "cell_type": "code",
   "execution_count": null,
   "metadata": {},
   "outputs": [],
   "source": [
    "issued.info()"
   ]
  },
  {
   "cell_type": "code",
   "execution_count": null,
   "metadata": {},
   "outputs": [],
   "source": [
    "issued.Zip.unique()"
   ]
  },
  {
   "cell_type": "code",
   "execution_count": null,
   "metadata": {},
   "outputs": [],
   "source": [
    "r = requests.get('https://api.census.gov/data.html', auth=('davidwhainesiii@gmail.com', '83dffa3105cb08ef0e77c24ff28a1dc62272ae48'))"
   ]
  },
  {
   "cell_type": "code",
   "execution_count": null,
   "metadata": {},
   "outputs": [],
   "source": [
    "type(r)"
   ]
  },
  {
   "cell_type": "code",
   "execution_count": null,
   "metadata": {},
   "outputs": [],
   "source": [
    "rawresponse = r.text\n",
    "censussoup = BS(rawresponse, 'html.parser')"
   ]
  },
  {
   "cell_type": "code",
   "execution_count": null,
   "metadata": {},
   "outputs": [],
   "source": [
    "censussoup.find_all('table')"
   ]
  },
  {
   "cell_type": "markdown",
   "metadata": {},
   "source": [
    "Question 1: At what point in time did the Codes Administration decide to begin “closing the loophole” by converting R zoning to RS?\n",
    "\n",
    "Response 1: The Codes Administration does not set zoning policy, we interpret/enforce it. The Planning Commission and Metro Council are the ones who change zoning rules. The last major revision countywide to the zoning code was in 1997 when they rezoned a lot of properties in bulk. Since then, Councilmembers have proposed zoning changes for their neighborhoods on a piecemeal basis, or developers have requested zoning changes for particular properties. There hasn’t been an effort by Metro Government to downzone properties because of the duplex situation, but some Council members have. (edited)\n",
    "\n",
    "Question 2: According to the report (Housing Nashville), there are predetermined amounts of needed housing and rental properties in each district. How is the split between housing demand and rental demand being evaluated? Is this arbitrary or is there census data giving us a proportion to go off of?\n",
    "\n",
    "Question 3: What criteria was used to calculated the ‘Maximum Affordable Sales Price’  from the MHI on page 56 of the Housing Nashville Report? What interest rate and/or tax rate was assumed?\n",
    "\n",
    "Response 2 & 3: Unfortunately, the folks that produced the Housing Nashville Report have left Metro Government so I don’t know that we’ll get all the answers. Looking at question three, I believe the estimate was based on a 5% down payment and about a 4% interest rate for a 30 year mortgage.\n",
    "Also, We have also asked Assessments for an update to the 3-years of assessment data to include the square footage of the property and the zoning code for the property. (edited)"
   ]
  },
  {
   "cell_type": "markdown",
   "metadata": {},
   "source": [
    "Renters = 46%\n",
    "Median Housing Cost - Renter = 874/month * 12 = 10488/yr\n",
    "    \n",
    "    15-yr rental gap (affordable) = 17754\n",
    "    15-yr rental gap (market) = 22219\n",
    "        \n",
    "    10-yr predicted rental gap (affordable) = 30934\n",
    "    10-yr predicted rental gap (market) = 23043"
   ]
  },
  {
   "cell_type": "code",
   "execution_count": null,
   "metadata": {},
   "outputs": [],
   "source": [
    "codetypes = pd.read_excel('/Users/davidhaines/DataScience/data-question-4-affordable-housing-plaid-platypi-plaidypi/metrodata/Codes-Type-Subtype-List-20181011.xlsx')"
   ]
  },
  {
   "cell_type": "code",
   "execution_count": null,
   "metadata": {},
   "outputs": [],
   "source": [
    "codetypes.head()"
   ]
  },
  {
   "cell_type": "code",
   "execution_count": null,
   "metadata": {},
   "outputs": [],
   "source": [
    "codetypes.info()"
   ]
  },
  {
   "cell_type": "code",
   "execution_count": null,
   "metadata": {},
   "outputs": [],
   "source": [
    "codetypes.CASE_TYPE_DESC.unique()"
   ]
  },
  {
   "cell_type": "code",
   "execution_count": null,
   "metadata": {},
   "outputs": [],
   "source": [
    "codetypes.loc[codetypes.CASE_TYPE_DESC == 'Building Demolition Permit']"
   ]
  },
  {
   "cell_type": "code",
   "execution_count": 55,
   "metadata": {},
   "outputs": [
    {
     "data": {
      "text/plain": [
       "'/Users/davidhaines/DataScience/data-question-4-affordable-housing-plaid-platypi-plaidypi'"
      ]
     },
     "execution_count": 55,
     "metadata": {},
     "output_type": "execute_result"
    }
   ],
   "source": [
    "pwd"
   ]
  },
  {
   "cell_type": "code",
   "execution_count": 56,
   "metadata": {},
   "outputs": [
    {
     "ename": "CPLE_OpenFailedError",
     "evalue": "b'Unable to open ./metrodata/cb_2017_us_zcta510_500k.shx or ./metrodata/cb_2017_us_zcta510_500k.SHX.Try --config SHAPE_RESTORE_SHX true to restore or create it'",
     "output_type": "error",
     "traceback": [
      "\u001b[0;31m-----------------------------------------------------------\u001b[0m",
      "\u001b[0;31mCPLE_OpenFailedError\u001b[0m      Traceback (most recent call last)",
      "\u001b[0;32m<ipython-input-56-83269ba53d81>\u001b[0m in \u001b[0;36m<module>\u001b[0;34m()\u001b[0m\n\u001b[0;32m----> 1\u001b[0;31m \u001b[0mcounties\u001b[0m \u001b[0;34m=\u001b[0m \u001b[0mgpd\u001b[0m\u001b[0;34m.\u001b[0m\u001b[0mread_file\u001b[0m\u001b[0;34m(\u001b[0m\u001b[0;34m'./metrodata/cb_2017_us_zcta510_500k.shp'\u001b[0m\u001b[0;34m)\u001b[0m\u001b[0;34m\u001b[0m\u001b[0m\n\u001b[0m",
      "\u001b[0;32m/anaconda3/lib/python3.6/site-packages/geopandas/io/file.py\u001b[0m in \u001b[0;36mread_file\u001b[0;34m(filename, bbox, **kwargs)\u001b[0m\n\u001b[1;32m     63\u001b[0m         \u001b[0mreader\u001b[0m \u001b[0;34m=\u001b[0m \u001b[0mfiona\u001b[0m\u001b[0;34m.\u001b[0m\u001b[0mopen\u001b[0m\u001b[0;34m\u001b[0m\u001b[0m\n\u001b[1;32m     64\u001b[0m \u001b[0;34m\u001b[0m\u001b[0m\n\u001b[0;32m---> 65\u001b[0;31m     \u001b[0;32mwith\u001b[0m \u001b[0mreader\u001b[0m\u001b[0;34m(\u001b[0m\u001b[0mpath_or_bytes\u001b[0m\u001b[0;34m,\u001b[0m \u001b[0;34m**\u001b[0m\u001b[0mkwargs\u001b[0m\u001b[0;34m)\u001b[0m \u001b[0;32mas\u001b[0m \u001b[0mfeatures\u001b[0m\u001b[0;34m:\u001b[0m\u001b[0;34m\u001b[0m\u001b[0m\n\u001b[0m\u001b[1;32m     66\u001b[0m         \u001b[0mcrs\u001b[0m \u001b[0;34m=\u001b[0m \u001b[0mfeatures\u001b[0m\u001b[0;34m.\u001b[0m\u001b[0mcrs\u001b[0m\u001b[0;34m\u001b[0m\u001b[0m\n\u001b[1;32m     67\u001b[0m         \u001b[0;32mif\u001b[0m \u001b[0mbbox\u001b[0m \u001b[0;32mis\u001b[0m \u001b[0;32mnot\u001b[0m \u001b[0;32mNone\u001b[0m\u001b[0;34m:\u001b[0m\u001b[0;34m\u001b[0m\u001b[0m\n",
      "\u001b[0;32m/anaconda3/lib/python3.6/site-packages/fiona/__init__.py\u001b[0m in \u001b[0;36mopen\u001b[0;34m(path, mode, driver, schema, crs, encoding, layer, vfs, enabled_drivers, crs_wkt)\u001b[0m\n\u001b[1;32m    163\u001b[0m         c = Collection(path, mode, driver=driver, encoding=encoding,\n\u001b[1;32m    164\u001b[0m                        \u001b[0mlayer\u001b[0m\u001b[0;34m=\u001b[0m\u001b[0mlayer\u001b[0m\u001b[0;34m,\u001b[0m \u001b[0mvsi\u001b[0m\u001b[0;34m=\u001b[0m\u001b[0mvsi\u001b[0m\u001b[0;34m,\u001b[0m \u001b[0marchive\u001b[0m\u001b[0;34m=\u001b[0m\u001b[0marchive\u001b[0m\u001b[0;34m,\u001b[0m\u001b[0;34m\u001b[0m\u001b[0m\n\u001b[0;32m--> 165\u001b[0;31m                        enabled_drivers=enabled_drivers)\n\u001b[0m\u001b[1;32m    166\u001b[0m     \u001b[0;32melif\u001b[0m \u001b[0mmode\u001b[0m \u001b[0;34m==\u001b[0m \u001b[0;34m'w'\u001b[0m\u001b[0;34m:\u001b[0m\u001b[0;34m\u001b[0m\u001b[0m\n\u001b[1;32m    167\u001b[0m         \u001b[0;32mif\u001b[0m \u001b[0mschema\u001b[0m\u001b[0;34m:\u001b[0m\u001b[0;34m\u001b[0m\u001b[0m\n",
      "\u001b[0;32m/anaconda3/lib/python3.6/site-packages/fiona/collection.py\u001b[0m in \u001b[0;36m__init__\u001b[0;34m(self, path, mode, driver, schema, crs, encoding, layer, vsi, archive, enabled_drivers, crs_wkt, **kwargs)\u001b[0m\n\u001b[1;32m    151\u001b[0m             \u001b[0;32mif\u001b[0m \u001b[0mself\u001b[0m\u001b[0;34m.\u001b[0m\u001b[0mmode\u001b[0m \u001b[0;34m==\u001b[0m \u001b[0;34m'r'\u001b[0m\u001b[0;34m:\u001b[0m\u001b[0;34m\u001b[0m\u001b[0m\n\u001b[1;32m    152\u001b[0m                 \u001b[0mself\u001b[0m\u001b[0;34m.\u001b[0m\u001b[0msession\u001b[0m \u001b[0;34m=\u001b[0m \u001b[0mSession\u001b[0m\u001b[0;34m(\u001b[0m\u001b[0;34m)\u001b[0m\u001b[0;34m\u001b[0m\u001b[0m\n\u001b[0;32m--> 153\u001b[0;31m                 \u001b[0mself\u001b[0m\u001b[0;34m.\u001b[0m\u001b[0msession\u001b[0m\u001b[0;34m.\u001b[0m\u001b[0mstart\u001b[0m\u001b[0;34m(\u001b[0m\u001b[0mself\u001b[0m\u001b[0;34m)\u001b[0m\u001b[0;34m\u001b[0m\u001b[0m\n\u001b[0m\u001b[1;32m    154\u001b[0m             \u001b[0;32melif\u001b[0m \u001b[0mself\u001b[0m\u001b[0;34m.\u001b[0m\u001b[0mmode\u001b[0m \u001b[0;32min\u001b[0m \u001b[0;34m(\u001b[0m\u001b[0;34m'a'\u001b[0m\u001b[0;34m,\u001b[0m \u001b[0;34m'w'\u001b[0m\u001b[0;34m)\u001b[0m\u001b[0;34m:\u001b[0m\u001b[0;34m\u001b[0m\u001b[0m\n\u001b[1;32m    155\u001b[0m                 \u001b[0mself\u001b[0m\u001b[0;34m.\u001b[0m\u001b[0msession\u001b[0m \u001b[0;34m=\u001b[0m \u001b[0mWritingSession\u001b[0m\u001b[0;34m(\u001b[0m\u001b[0;34m)\u001b[0m\u001b[0;34m\u001b[0m\u001b[0m\n",
      "\u001b[0;32mfiona/ogrext.pyx\u001b[0m in \u001b[0;36mfiona.ogrext.Session.start\u001b[0;34m()\u001b[0m\n",
      "\u001b[0;32mfiona/_err.pyx\u001b[0m in \u001b[0;36mfiona._err.GDALErrCtxManager.__exit__\u001b[0;34m()\u001b[0m\n",
      "\u001b[0;31mCPLE_OpenFailedError\u001b[0m: b'Unable to open ./metrodata/cb_2017_us_zcta510_500k.shx or ./metrodata/cb_2017_us_zcta510_500k.SHX.Try --config SHAPE_RESTORE_SHX true to restore or create it'"
     ]
    }
   ],
   "source": [
    "counties = gpd.read_file('./metrodata/cb_2017_us_zcta510_500k.shp')"
   ]
  }
 ],
 "metadata": {
  "kernelspec": {
   "display_name": "Python 3",
   "language": "python",
   "name": "python3"
  },
  "language_info": {
   "codemirror_mode": {
    "name": "ipython",
    "version": 3
   },
   "file_extension": ".py",
   "mimetype": "text/x-python",
   "name": "python",
   "nbconvert_exporter": "python",
   "pygments_lexer": "ipython3",
   "version": "3.6.5"
  }
 },
 "nbformat": 4,
 "nbformat_minor": 2
}
