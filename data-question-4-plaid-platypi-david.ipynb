{
 "cells": [
  {
   "cell_type": "code",
   "execution_count": 83,
   "metadata": {},
   "outputs": [],
   "source": [
    "import pandas as pd\n",
    "import numpy as np\n",
    "import seaborn as sns\n",
    "import matplotlib.pyplot as plt\n",
    "import re\n",
    "import psutil\n",
    "import geopandas as gpd\n",
    "from shapely.geometry import Point"
   ]
  },
  {
   "cell_type": "code",
   "execution_count": 84,
   "metadata": {},
   "outputs": [],
   "source": [
    "sf2009 = pd.read_csv('/Users/davidhaines/DataScience/data-question-4-affordable-housing-plaid-platypi-plaidypi/metrodata/2009singlefamily_final_with_sqft.txt')\n",
    "sf2013 = pd.read_csv('/Users/davidhaines/DataScience/data-question-4-affordable-housing-plaid-platypi-plaidypi/metrodata/2013singlefamily_final_with_sqft.txt')\n",
    "sf2017 = pd.read_csv('/Users/davidhaines/DataScience/data-question-4-affordable-housing-plaid-platypi-plaidypi/metrodata/2017singlefamily_final_with_sqft.txt')"
   ]
  },
  {
   "cell_type": "code",
   "execution_count": null,
   "metadata": {},
   "outputs": [],
   "source": [
    "sf2009.head()"
   ]
  },
  {
   "cell_type": "code",
   "execution_count": 85,
   "metadata": {},
   "outputs": [],
   "source": [
    "sf2009.rename(columns={'APN':'APN', 'DistrictCode':'DistrictCode', 'Council District':'DistrictNo', 'AddressFullAddress': 'Address', 'AddressCity':'City', 'AddressPostalCode':'Zip', '2009 LAND':'LandValue', '2009 IMPR':'ImprovementValue', '2009 TOTAL APPR':'AppraisedValue', '2009 TOTAL ASSD':'2009 TOTAL ASSD'}, inplace=True)"
   ]
  },
  {
   "cell_type": "code",
   "execution_count": 86,
   "metadata": {},
   "outputs": [],
   "source": [
    "sf2013.rename(columns={'APN':'APN', 'DistrictCode':'DistrictCode', 'Council District':'DistrictNo', 'AddressFullAddress': 'Address', 'AddressCity':'City', 'AddressPostalCode':'Zip', '2013 LAND':'LandValue', '2013 IMPR':'ImprovementValue', '2013 TOTAL APPR':'AppraisedValue', '2013 TOTAL ASSD':'2013 TOTAL ASSD'}, inplace=True)"
   ]
  },
  {
   "cell_type": "code",
   "execution_count": 87,
   "metadata": {},
   "outputs": [],
   "source": [
    "sf2017.rename(columns={'APN':'APN', 'DistrictCode':'DistrictCode', 'Council District':'DistrictNo', 'AddressFullAddress': 'Address', 'AddressCity':'City', 'AddressPostalCode':'Zip', '2017 LAND':'LandValue', '2017 IMPR':'ImprovementValue', '2017 TOTAL APPR':'AppraisedValue', '2017 TOTAL ASSD':'2017 TOTAL ASSD'}, inplace=True)"
   ]
  },
  {
   "cell_type": "code",
   "execution_count": null,
   "metadata": {
    "scrolled": false
   },
   "outputs": [],
   "source": [
    "sf2009.info()"
   ]
  },
  {
   "cell_type": "code",
   "execution_count": null,
   "metadata": {
    "scrolled": true
   },
   "outputs": [],
   "source": [
    "sf2013.info()"
   ]
  },
  {
   "cell_type": "code",
   "execution_count": null,
   "metadata": {},
   "outputs": [],
   "source": [
    "sf2017.info()"
   ]
  },
  {
   "cell_type": "code",
   "execution_count": null,
   "metadata": {},
   "outputs": [],
   "source": [
    "sf2009.AppraisedValue.describe()"
   ]
  },
  {
   "cell_type": "code",
   "execution_count": null,
   "metadata": {},
   "outputs": [],
   "source": [
    "sf2009.AppraisedValue.plot()"
   ]
  },
  {
   "cell_type": "code",
   "execution_count": null,
   "metadata": {},
   "outputs": [],
   "source": [
    "sf2013.AppraisedValue.describe()"
   ]
  },
  {
   "cell_type": "code",
   "execution_count": null,
   "metadata": {},
   "outputs": [],
   "source": [
    "sf2013.AppraisedValue.plot()"
   ]
  },
  {
   "cell_type": "code",
   "execution_count": null,
   "metadata": {},
   "outputs": [],
   "source": [
    "sf2017.AppraisedValue.describe()"
   ]
  },
  {
   "cell_type": "code",
   "execution_count": null,
   "metadata": {},
   "outputs": [],
   "source": [
    "sf2017.AppraisedValue.plot()"
   ]
  },
  {
   "cell_type": "code",
   "execution_count": null,
   "metadata": {},
   "outputs": [],
   "source": [
    "sf2009.AppraisedValue.describe()"
   ]
  },
  {
   "cell_type": "code",
   "execution_count": 88,
   "metadata": {},
   "outputs": [],
   "source": [
    "issued = pd.read_csv('/Users/davidhaines/DataScience/data-question-4-affordable-housing-plaid-platypi-plaidypi/metrodata/Building_Permits_Issued.csv', low_memory=False)"
   ]
  },
  {
   "cell_type": "code",
   "execution_count": null,
   "metadata": {},
   "outputs": [],
   "source": [
    "issued.head()"
   ]
  },
  {
   "cell_type": "code",
   "execution_count": 89,
   "metadata": {},
   "outputs": [],
   "source": [
    "issued.rename(columns={'Permit #': 'PermitNo', 'Permit Type Description':'PermTypeDesc', 'Permit Subtype Description': 'PermSubDesc', 'Parcel':'Parcel', 'Date Entered':'EnteredDt', 'Date Issued': 'IssuedDt', 'Const. Cost': 'ConstCost', 'Address':'Address', 'City':'City', 'State':'State', 'Zip':'Zip', 'Subdivision/Lot': 'Subdiv_Lot', 'Contact':'Contact', 'Permit Type': 'PermType', 'Permit Subtype': 'PermSubtype', 'IVR Trk#': 'IVRTrk#', 'Purpose':'Purpose', 'Council Dist':'CouncilDist', 'Census Tract':'CensusTract', 'Mapped Location':'MappedLoc'}, inplace=True)"
   ]
  },
  {
   "cell_type": "code",
   "execution_count": 90,
   "metadata": {},
   "outputs": [],
   "source": [
    "issued['EnteredDt'] = pd.to_datetime(issued['EnteredDt'])\n",
    "issued['IssuedDt'] = pd.to_datetime(issued['IssuedDt'])"
   ]
  },
  {
   "cell_type": "code",
   "execution_count": 97,
   "metadata": {},
   "outputs": [
    {
     "name": "stdout",
     "output_type": "stream",
     "text": [
      "<class 'pandas.core.frame.DataFrame'>\n",
      "RangeIndex: 36221 entries, 0 to 36220\n",
      "Data columns (total 20 columns):\n",
      "PermitNo        36221 non-null object\n",
      "PermTypeDesc    36221 non-null object\n",
      "PermSubDesc     36221 non-null object\n",
      "Parcel          36221 non-null object\n",
      "EnteredDt       36221 non-null datetime64[ns]\n",
      "IssuedDt        36221 non-null datetime64[ns]\n",
      "ConstCost       36085 non-null float64\n",
      "Address         36221 non-null object\n",
      "City            36093 non-null object\n",
      "State           36096 non-null object\n",
      "Zip             36221 non-null int64\n",
      "Subdiv_Lot      36220 non-null object\n",
      "Contact         36221 non-null object\n",
      "PermType        36221 non-null object\n",
      "PermSubtype     36221 non-null object\n",
      "IVRTrk#         36221 non-null int64\n",
      "Purpose         35922 non-null object\n",
      "CouncilDist     36141 non-null float64\n",
      "CensusTract     36039 non-null float64\n",
      "MappedLoc       36221 non-null object\n",
      "dtypes: datetime64[ns](2), float64(3), int64(2), object(13)\n",
      "memory usage: 5.5+ MB\n"
     ]
    }
   ],
   "source": [
    "issued.info()"
   ]
  },
  {
   "cell_type": "code",
   "execution_count": 110,
   "metadata": {},
   "outputs": [
    {
     "data": {
      "text/plain": [
       "array(['1017A MONROE ST\\nNASHVILLE, TN 37208\\n(36.174077, -86.797183)',\n",
       "       '2300 WEST END AVE\\nNASHVILLE, TN 37203\\n(36.148736, -86.804731)',\n",
       "       '2802 NOLENSVILLE PIKE\\nNASHVILLE, TN 37211\\n(36.112749, -86.746151)',\n",
       "       ...,\n",
       "       '915 SILKWOOD CIR\\nNASHVILLE, TN 37221\\n(36.048586, -86.951711)',\n",
       "       '3562 PIN HOOK RD 301-316\\nANTIOCH, TN 37013\\n(36.050335, -86.608639)',\n",
       "       '2007B LOMBARDY AVE\\nNASHVILLE, TN 37215\\n(36.12021, -86.807099)'],\n",
       "      dtype=object)"
      ]
     },
     "execution_count": 110,
     "metadata": {},
     "output_type": "execute_result"
    }
   ],
   "source": [
    "issued.MappedLoc.unique()"
   ]
  },
  {
   "cell_type": "code",
   "execution_count": null,
   "metadata": {},
   "outputs": [],
   "source": [
    "issued.columns"
   ]
  },
  {
   "cell_type": "code",
   "execution_count": null,
   "metadata": {},
   "outputs": [],
   "source": [
    "issued.PermTypeDesc.unique()"
   ]
  },
  {
   "cell_type": "code",
   "execution_count": null,
   "metadata": {},
   "outputs": [],
   "source": [
    "issued.head()"
   ]
  },
  {
   "cell_type": "code",
   "execution_count": null,
   "metadata": {},
   "outputs": [],
   "source": [
    "permitdecode = pd.DataFrame(issued[['PermTypeDesc','PermType']])"
   ]
  },
  {
   "cell_type": "code",
   "execution_count": null,
   "metadata": {},
   "outputs": [],
   "source": [
    "result = re.findall('-?\\d*\\.\\d*', issued.MappedLoc[1])"
   ]
  },
  {
   "cell_type": "code",
   "execution_count": null,
   "metadata": {},
   "outputs": [],
   "source": [
    "print(result)"
   ]
  },
  {
   "cell_type": "code",
   "execution_count": null,
   "metadata": {},
   "outputs": [],
   "source": [
    "permitdecode.drop_duplicates()"
   ]
  },
  {
   "cell_type": "markdown",
   "metadata": {},
   "source": [
    "CARN, CARR, CADM"
   ]
  },
  {
   "cell_type": "code",
   "execution_count": 111,
   "metadata": {},
   "outputs": [],
   "source": [
    "#resnew = pd.DataFrame(issued.loc[issued['PermType'] == 'CARW'])\n",
    "respermits = pd.DataFrame(issued.loc[issued['PermType'].isin(['CARN','CARR'])])"
   ]
  },
  {
   "cell_type": "code",
   "execution_count": 116,
   "metadata": {},
   "outputs": [
    {
     "name": "stdout",
     "output_type": "stream",
     "text": [
      "<class 'pandas.core.frame.DataFrame'>\n",
      "Int64Index: 17034 entries, 0 to 36220\n",
      "Data columns (total 20 columns):\n",
      "PermitNo        17034 non-null object\n",
      "PermTypeDesc    17034 non-null object\n",
      "PermSubDesc     17034 non-null object\n",
      "Parcel          17034 non-null object\n",
      "EnteredDt       17034 non-null datetime64[ns]\n",
      "IssuedDt        17034 non-null datetime64[ns]\n",
      "ConstCost       17029 non-null float64\n",
      "Address         17034 non-null object\n",
      "City            16964 non-null object\n",
      "State           16965 non-null object\n",
      "Zip             17034 non-null int64\n",
      "Subdiv_Lot      17034 non-null object\n",
      "Contact         17034 non-null object\n",
      "PermType        17034 non-null object\n",
      "PermSubtype     17034 non-null object\n",
      "IVRTrk#         17034 non-null int64\n",
      "Purpose         17031 non-null object\n",
      "CouncilDist     17015 non-null float64\n",
      "CensusTract     16954 non-null float64\n",
      "MappedLoc       17034 non-null object\n",
      "dtypes: datetime64[ns](2), float64(3), int64(2), object(13)\n",
      "memory usage: 2.7+ MB\n"
     ]
    }
   ],
   "source": [
    "respermits.info()"
   ]
  },
  {
   "cell_type": "code",
   "execution_count": 117,
   "metadata": {},
   "outputs": [],
   "source": [
    "newhomes = respermits.Purpose.str.match(r'[uU]nit')"
   ]
  },
  {
   "cell_type": "code",
   "execution_count": 118,
   "metadata": {},
   "outputs": [
    {
     "data": {
      "text/plain": [
       "17034"
      ]
     },
     "execution_count": 118,
     "metadata": {},
     "output_type": "execute_result"
    }
   ],
   "source": [
    "len(newhomes)"
   ]
  },
  {
   "cell_type": "code",
   "execution_count": 112,
   "metadata": {},
   "outputs": [
    {
     "data": {
      "text/plain": [
       "array([\"to construct 1830SF single family residence with 80Sf porches. 5' min. side setback, 20' min. rear setback, front setback at 24.6' per avg. unit 1 of 2. lot coverage is 1173SF of max 3775SF lot coverage. not to be over any easements. Max height 3 stories or 45�.\\nSidewalks are required, applicant may pay in lieu of sidewalk requirements\\n***PURSUANT TO ORDINANCE NO 2008-1263 of the Metropolitan Code of Laws, I , holder of this permit, hereby certify that all construction and demolition waste generated by any and all activities governed by this permit shall be disposed of in an approved landfill.  Further, I certify that no construction or demolition waste shall be stored on the property in violation of any provisions of the Metropolitan Code* For every 30 feet of street frontage, or fraction thereof, one 2 inch caliper tree as listed in the Urban Forestry approved tree list shall be planted on the subject property.*\",\n",
       "       'to conduct interior renovation to existing unit. no change to footprint, to remain single family. Pursuant # 2006-1263  Metro Code of Laws, I (holder OF permit)   hereby certify that all construction & demolition waste generated by any & all activities governed by this permit shall be disposed of in an approved landfill. Further, I certify that no construction & demolition waste shall be stored on the property in violation of any provision of Metro Code; For every 30 feet of street frontage, or fraction thereof, one 2 inch caliper tree as listed in the Urban Forestry approved tree list shall be planted on the subject property.',\n",
       "       'to construct 2008Sf single family residence with 407Sf garage and 497SF porch. Master permit 2016046544.  Not to be over any easements. Pursuant # 2006-1263  Metrocode of Laws, I (holder OF permit)   hereby certify that all construction & demolition waste generated by any & all activities governed by this permit shall be disposed of in an approved landfill. Further, I certify that no construction & demolition waste shall be stored on the property in violation of any provision of Metro Code.; For every 30 feet of street frontage, or fraction thereof, one 2 inch caliper tree as listed in the Urban Forestry approved tree list shall be planted on the subject property.',\n",
       "       ...,\n",
       "       \"TO CONSTRUCT A NEW SINGLE FAMILY RES AT 3381 SQFT WITH ATTACHED 600 SQFT GARAGE WITH PORCHES AND DECKS....THIS IS ONE OF TWO SINGLE FAMILY HOUSES ON THIS PROPERTY....SPLIT FROM 103-1-90....UNITS ---FRONT AND BACK....MIN 6' BETWEEN HOUSES...MAX ..HT 34' AND 3 STORIES...WIDTH AT 23' .......SEE PLAN...FRONT SETBACK MIN 33'...SIDES MIN 5'...REAR MIN 20'..SEE PLAN....SEE PLAN...NO ROOF TOP STAIRS BECAUSE THAT EXCEEDS THE ALLOWABLE HT....\\nFor every 30 feet of street frontage, or fraction thereof, one 2 inch caliper tree as listed in the Urban Forestry approved tree list shall be planted on the subject property.. \\n\\n Pursuant Ordinance # 2006-1263  Metropolitan code of Laws, I (the holder on this permit)   hereby certify that all construction & demolition waste generated by any & all activities governed by this permit shall be disposed of in an approved landfill. Further, I certify that no construction & demolition waste shall be stored on the property in violation of any provision of  Metropolitan Code... .\\n.***SITE PLAN SENT TO FILE\",\n",
       "       '** To Construct Building #2 of  THE  RESERVE  AT  OAKLEIGH  Project. This being a Three (3) story bldg. with  35,132 sq.ft. of area including 5,574 sq.ft. of Attached Garage Area.\\n** See Master Permit # T2014 44204\\n** This Project to include Tax Map 164, Parcels 180 & 181 that MUST be combined.\\n\\n ***PURSUANT TO ORDINANCE NO 2008-1263 of the Metropolitan Code of Laws, I , holder of this permit, hereby certify that all construction and demolition waste generated by any and all activities governed by this permit shall be disposed of in an approved landfill.  Further, I certify that no struction or demolition waste shall be stored on the property in violation of any provisions of the Metropolitan Code*',\n",
       "       \"** To construct a New 2700 sq.ft. Two (2) Story Townhome with a 561 sq.ft. Attached Garage. This permit to include Porches and or Decks as plan shows.\\n** Min. Setbacks being, 5' sides, 20' rear, 43.18' street front as plan shows.\\n\\nPursuant # 2006-1263  Metrocode of Laws, I (holder OF permit)   hereby certify that all construction & demolition waste generated by any & all activities governed by this permit shall be disposed of in an approved landfill. Further, I certify that no construction & demolition waste shall be stored on the property in violation of any provision of Metro Code.; For every 30 feet of street frontage, or fraction thereof, one 2 inch caliper tree as listed in the Urban Forestry approved tree list shall be planted on the subject property.\"],\n",
       "      dtype=object)"
      ]
     },
     "execution_count": 112,
     "metadata": {},
     "output_type": "execute_result"
    }
   ],
   "source": [
    "respermits.Purpose.unique()"
   ]
  },
  {
   "cell_type": "code",
   "execution_count": 100,
   "metadata": {},
   "outputs": [],
   "source": [
    "demos = pd.DataFrame(issued.loc[issued['PermType'] == 'CADM'])"
   ]
  },
  {
   "cell_type": "code",
   "execution_count": 107,
   "metadata": {},
   "outputs": [
    {
     "data": {
      "text/html": [
       "<div>\n",
       "<style scoped>\n",
       "    .dataframe tbody tr th:only-of-type {\n",
       "        vertical-align: middle;\n",
       "    }\n",
       "\n",
       "    .dataframe tbody tr th {\n",
       "        vertical-align: top;\n",
       "    }\n",
       "\n",
       "    .dataframe thead th {\n",
       "        text-align: right;\n",
       "    }\n",
       "</style>\n",
       "<table border=\"1\" class=\"dataframe\">\n",
       "  <thead>\n",
       "    <tr style=\"text-align: right;\">\n",
       "      <th></th>\n",
       "      <th>PermitNo</th>\n",
       "      <th>PermTypeDesc</th>\n",
       "      <th>PermSubDesc</th>\n",
       "      <th>Parcel</th>\n",
       "      <th>EnteredDt</th>\n",
       "      <th>IssuedDt</th>\n",
       "      <th>ConstCost</th>\n",
       "      <th>Address</th>\n",
       "      <th>City</th>\n",
       "      <th>State</th>\n",
       "      <th>Zip</th>\n",
       "      <th>Subdiv_Lot</th>\n",
       "      <th>Contact</th>\n",
       "      <th>PermType</th>\n",
       "      <th>PermSubtype</th>\n",
       "      <th>IVRTrk#</th>\n",
       "      <th>Purpose</th>\n",
       "      <th>CouncilDist</th>\n",
       "      <th>CensusTract</th>\n",
       "      <th>MappedLoc</th>\n",
       "    </tr>\n",
       "  </thead>\n",
       "  <tbody>\n",
       "    <tr>\n",
       "      <th>23</th>\n",
       "      <td>201543896</td>\n",
       "      <td>Building Demolition Permit</td>\n",
       "      <td>Demolition Permit - Residential</td>\n",
       "      <td>10509038300</td>\n",
       "      <td>2015-10-08</td>\n",
       "      <td>2015-10-08</td>\n",
       "      <td>4000.0</td>\n",
       "      <td>914  ACKLEN AVE</td>\n",
       "      <td>NASHVILLE</td>\n",
       "      <td>TN</td>\n",
       "      <td>37203</td>\n",
       "      <td>LOT 2 WAVERLY PLACE RESUB PT. LOT 31</td>\n",
       "      <td>Graham Construction Of Tennessee Llc</td>\n",
       "      <td>CADM</td>\n",
       "      <td>CAZ01A001</td>\n",
       "      <td>2075785</td>\n",
       "      <td>Work on this demolition permit must commence w...</td>\n",
       "      <td>17.0</td>\n",
       "      <td>37016200.0</td>\n",
       "      <td>914 ACKLEN AVE\\nNASHVILLE, TN 37203\\n(36.13354...</td>\n",
       "    </tr>\n",
       "    <tr>\n",
       "      <th>30</th>\n",
       "      <td>201620413</td>\n",
       "      <td>Building Demolition Permit</td>\n",
       "      <td>Demolition Permit - Residential</td>\n",
       "      <td>08116022300</td>\n",
       "      <td>2016-05-03</td>\n",
       "      <td>2016-05-03</td>\n",
       "      <td>5000.0</td>\n",
       "      <td>918  SCOVEL ST</td>\n",
       "      <td>NASHVILLE</td>\n",
       "      <td>TN</td>\n",
       "      <td>37208</td>\n",
       "      <td>LOT 55 MCGAVOCK TOWN NORTH NASHVILLE</td>\n",
       "      <td>K Jordan Construction Llc</td>\n",
       "      <td>CADM</td>\n",
       "      <td>CAZ01A001</td>\n",
       "      <td>2120019</td>\n",
       "      <td>Work on this demolition permit must commence w...</td>\n",
       "      <td>19.0</td>\n",
       "      <td>37019400.0</td>\n",
       "      <td>918 SCOVEL ST\\nNASHVILLE, TN 37208\\n(36.173632...</td>\n",
       "    </tr>\n",
       "    <tr>\n",
       "      <th>36</th>\n",
       "      <td>201614474</td>\n",
       "      <td>Building Demolition Permit</td>\n",
       "      <td>Demolition Permit - Residential</td>\n",
       "      <td>13102006500</td>\n",
       "      <td>2016-03-31</td>\n",
       "      <td>2016-03-31</td>\n",
       "      <td>7500.0</td>\n",
       "      <td>1923  WARFIELD DR</td>\n",
       "      <td>NASHVILLE</td>\n",
       "      <td>TN</td>\n",
       "      <td>37215</td>\n",
       "      <td>LOT 21 COLONIAL HGTS</td>\n",
       "      <td>Cat3 Restoration Llc</td>\n",
       "      <td>CADM</td>\n",
       "      <td>CAZ01A001</td>\n",
       "      <td>2112314</td>\n",
       "      <td>to demolish exisitng single family residence. ...</td>\n",
       "      <td>25.0</td>\n",
       "      <td>37017901.0</td>\n",
       "      <td>1923 WARFIELD DR\\nNASHVILLE, TN 37215\\n(36.102...</td>\n",
       "    </tr>\n",
       "    <tr>\n",
       "      <th>37</th>\n",
       "      <td>2016039565</td>\n",
       "      <td>Building Demolition Permit</td>\n",
       "      <td>Demolition Permit - Residential</td>\n",
       "      <td>10200007600</td>\n",
       "      <td>2016-08-03</td>\n",
       "      <td>2016-08-03</td>\n",
       "      <td>21000.0</td>\n",
       "      <td>3985  OLD HICKORY BLVD</td>\n",
       "      <td>NASHVILLE</td>\n",
       "      <td>TN</td>\n",
       "      <td>37218</td>\n",
       "      <td>S/S OF OLD HICKORY BV E OF HYDES FERRY PK</td>\n",
       "      <td>SELF CONTRACTOR COMMERCIAL (SEE APPLICANT INFO...</td>\n",
       "      <td>CADM</td>\n",
       "      <td>CAZ01A001</td>\n",
       "      <td>3264459</td>\n",
       "      <td>to demolish existing single family residence. ...</td>\n",
       "      <td>1.0</td>\n",
       "      <td>37013100.0</td>\n",
       "      <td>3985 OLD HICKORY BLVD\\nNASHVILLE, TN 37218\\n(3...</td>\n",
       "    </tr>\n",
       "    <tr>\n",
       "      <th>47</th>\n",
       "      <td>2017033484</td>\n",
       "      <td>Building Demolition Permit</td>\n",
       "      <td>Demolition Permit - Residential</td>\n",
       "      <td>15900008000</td>\n",
       "      <td>2017-05-19</td>\n",
       "      <td>2017-05-19</td>\n",
       "      <td>10000.0</td>\n",
       "      <td>5610  GRANNY WHITE PIKE</td>\n",
       "      <td>BRENTWOOD</td>\n",
       "      <td>TN</td>\n",
       "      <td>37027</td>\n",
       "      <td>LOTS 1 &amp; 2 GRANNY WHITE PARTNERS</td>\n",
       "      <td>URBAN DEVELOPMENT GROUP, LLC</td>\n",
       "      <td>CADM</td>\n",
       "      <td>CAZ01A001</td>\n",
       "      <td>3368029</td>\n",
       "      <td>to demolish existing residence.  not to be bur...</td>\n",
       "      <td>34.0</td>\n",
       "      <td>37018700.0</td>\n",
       "      <td>5610 GRANNY WHITE PIKE\\nBRENTWOOD, TN 37027\\n(...</td>\n",
       "    </tr>\n",
       "  </tbody>\n",
       "</table>\n",
       "</div>"
      ],
      "text/plain": [
       "      PermitNo                PermTypeDesc                      PermSubDesc  \\\n",
       "23   201543896  Building Demolition Permit  Demolition Permit - Residential   \n",
       "30   201620413  Building Demolition Permit  Demolition Permit - Residential   \n",
       "36   201614474  Building Demolition Permit  Demolition Permit - Residential   \n",
       "37  2016039565  Building Demolition Permit  Demolition Permit - Residential   \n",
       "47  2017033484  Building Demolition Permit  Demolition Permit - Residential   \n",
       "\n",
       "         Parcel  EnteredDt   IssuedDt  ConstCost                  Address  \\\n",
       "23  10509038300 2015-10-08 2015-10-08     4000.0          914  ACKLEN AVE   \n",
       "30  08116022300 2016-05-03 2016-05-03     5000.0           918  SCOVEL ST   \n",
       "36  13102006500 2016-03-31 2016-03-31     7500.0        1923  WARFIELD DR   \n",
       "37  10200007600 2016-08-03 2016-08-03    21000.0   3985  OLD HICKORY BLVD   \n",
       "47  15900008000 2017-05-19 2017-05-19    10000.0  5610  GRANNY WHITE PIKE   \n",
       "\n",
       "         City State    Zip                                 Subdiv_Lot  \\\n",
       "23  NASHVILLE    TN  37203       LOT 2 WAVERLY PLACE RESUB PT. LOT 31   \n",
       "30  NASHVILLE    TN  37208       LOT 55 MCGAVOCK TOWN NORTH NASHVILLE   \n",
       "36  NASHVILLE    TN  37215                       LOT 21 COLONIAL HGTS   \n",
       "37  NASHVILLE    TN  37218  S/S OF OLD HICKORY BV E OF HYDES FERRY PK   \n",
       "47  BRENTWOOD    TN  37027           LOTS 1 & 2 GRANNY WHITE PARTNERS   \n",
       "\n",
       "                                              Contact PermType PermSubtype  \\\n",
       "23               Graham Construction Of Tennessee Llc     CADM   CAZ01A001   \n",
       "30                          K Jordan Construction Llc     CADM   CAZ01A001   \n",
       "36                               Cat3 Restoration Llc     CADM   CAZ01A001   \n",
       "37  SELF CONTRACTOR COMMERCIAL (SEE APPLICANT INFO...     CADM   CAZ01A001   \n",
       "47                       URBAN DEVELOPMENT GROUP, LLC     CADM   CAZ01A001   \n",
       "\n",
       "    IVRTrk#                                            Purpose  CouncilDist  \\\n",
       "23  2075785  Work on this demolition permit must commence w...         17.0   \n",
       "30  2120019  Work on this demolition permit must commence w...         19.0   \n",
       "36  2112314  to demolish exisitng single family residence. ...         25.0   \n",
       "37  3264459  to demolish existing single family residence. ...          1.0   \n",
       "47  3368029  to demolish existing residence.  not to be bur...         34.0   \n",
       "\n",
       "    CensusTract                                          MappedLoc  \n",
       "23   37016200.0  914 ACKLEN AVE\\nNASHVILLE, TN 37203\\n(36.13354...  \n",
       "30   37019400.0  918 SCOVEL ST\\nNASHVILLE, TN 37208\\n(36.173632...  \n",
       "36   37017901.0  1923 WARFIELD DR\\nNASHVILLE, TN 37215\\n(36.102...  \n",
       "37   37013100.0  3985 OLD HICKORY BLVD\\nNASHVILLE, TN 37218\\n(3...  \n",
       "47   37018700.0  5610 GRANNY WHITE PIKE\\nBRENTWOOD, TN 37027\\n(...  "
      ]
     },
     "execution_count": 107,
     "metadata": {},
     "output_type": "execute_result"
    }
   ],
   "source": [
    "demos.head()"
   ]
  },
  {
   "cell_type": "code",
   "execution_count": 92,
   "metadata": {},
   "outputs": [],
   "source": [
    "respermits.set_index('IssuedDt', inplace=True)"
   ]
  },
  {
   "cell_type": "code",
   "execution_count": 99,
   "metadata": {},
   "outputs": [
    {
     "name": "stdout",
     "output_type": "stream",
     "text": [
      "<class 'pandas.core.frame.DataFrame'>\n",
      "Int64Index: 17034 entries, 0 to 36220\n",
      "Data columns (total 20 columns):\n",
      "PermitNo        17034 non-null object\n",
      "PermTypeDesc    17034 non-null object\n",
      "PermSubDesc     17034 non-null object\n",
      "Parcel          17034 non-null object\n",
      "EnteredDt       17034 non-null datetime64[ns]\n",
      "IssuedDt        17034 non-null datetime64[ns]\n",
      "ConstCost       17029 non-null float64\n",
      "Address         17034 non-null object\n",
      "City            16964 non-null object\n",
      "State           16965 non-null object\n",
      "Zip             17034 non-null int64\n",
      "Subdiv_Lot      17034 non-null object\n",
      "Contact         17034 non-null object\n",
      "PermType        17034 non-null object\n",
      "PermSubtype     17034 non-null object\n",
      "IVRTrk#         17034 non-null int64\n",
      "Purpose         17031 non-null object\n",
      "CouncilDist     17015 non-null float64\n",
      "CensusTract     16954 non-null float64\n",
      "MappedLoc       17034 non-null object\n",
      "dtypes: datetime64[ns](2), float64(3), int64(2), object(13)\n",
      "memory usage: 2.7+ MB\n"
     ]
    }
   ],
   "source": [
    "respermits.info()"
   ]
  },
  {
   "cell_type": "code",
   "execution_count": 96,
   "metadata": {},
   "outputs": [
    {
     "data": {
      "text/plain": [
       "28"
      ]
     },
     "execution_count": 96,
     "metadata": {},
     "output_type": "execute_result"
    }
   ],
   "source": [
    "len(respermits.PermSubDesc.unique())"
   ]
  },
  {
   "cell_type": "code",
   "execution_count": null,
   "metadata": {},
   "outputs": [],
   "source": [
    "monthlycost = respermits['ConstCost'].resample('M').mean()"
   ]
  },
  {
   "cell_type": "code",
   "execution_count": null,
   "metadata": {},
   "outputs": [],
   "source": [
    "monthlycost.plot()"
   ]
  },
  {
   "cell_type": "code",
   "execution_count": null,
   "metadata": {},
   "outputs": [],
   "source": [
    "respermits.describe()"
   ]
  },
  {
   "cell_type": "code",
   "execution_count": null,
   "metadata": {},
   "outputs": [],
   "source": [
    "resnew.EnteredDt.describe()"
   ]
  },
  {
   "cell_type": "code",
   "execution_count": null,
   "metadata": {},
   "outputs": [],
   "source": [
    "resnew.IssuedDt.describe()"
   ]
  },
  {
   "cell_type": "code",
   "execution_count": null,
   "metadata": {},
   "outputs": [],
   "source": [
    "resnew.ConstCost.describe()"
   ]
  },
  {
   "cell_type": "code",
   "execution_count": null,
   "metadata": {},
   "outputs": [],
   "source": [
    "issued['CouncilDist'].unique()"
   ]
  },
  {
   "cell_type": "code",
   "execution_count": null,
   "metadata": {},
   "outputs": [],
   "source": [
    "issued['MappedLoc'][1]"
   ]
  },
  {
   "cell_type": "code",
   "execution_count": null,
   "metadata": {},
   "outputs": [],
   "source": [
    "issued['extcoords'] = issued.MappedLoc.str.extract(r'?\\(.*\\)', expand=False)"
   ]
  },
  {
   "cell_type": "code",
   "execution_count": null,
   "metadata": {},
   "outputs": [],
   "source": [
    "coords = re.compile(r'\\(.*\\)')"
   ]
  },
  {
   "cell_type": "code",
   "execution_count": null,
   "metadata": {},
   "outputs": [],
   "source": [
    "matches = []"
   ]
  },
  {
   "cell_type": "code",
   "execution_count": null,
   "metadata": {},
   "outputs": [],
   "source": [
    "for string in issued.MappedLoc:\n",
    "    match = re.findall(coords, string)\n",
    "    matches.append(match)"
   ]
  },
  {
   "cell_type": "code",
   "execution_count": null,
   "metadata": {},
   "outputs": [],
   "source": [
    "type(matches)"
   ]
  },
  {
   "cell_type": "code",
   "execution_count": null,
   "metadata": {},
   "outputs": [],
   "source": [
    "type(matches[1])"
   ]
  },
  {
   "cell_type": "code",
   "execution_count": null,
   "metadata": {},
   "outputs": [],
   "source": [
    "#[s for s in i[s] for i in matches]\n",
    "\n",
    "coordlist = []\n",
    "for i in enumerate(matches):\n",
    "    i = []\n",
    "    for s in i[s]:\n",
    "        coordlist.append(tuple(s))"
   ]
  },
  {
   "cell_type": "code",
   "execution_count": null,
   "metadata": {},
   "outputs": [],
   "source": [
    "len(matches)"
   ]
  },
  {
   "cell_type": "code",
   "execution_count": null,
   "metadata": {},
   "outputs": [],
   "source": [
    "matches[1]"
   ]
  },
  {
   "cell_type": "code",
   "execution_count": null,
   "metadata": {
    "scrolled": true
   },
   "outputs": [],
   "source": [
    "issued['coords'] = pd.Series(matches).astype(tuple)"
   ]
  },
  {
   "cell_type": "code",
   "execution_count": null,
   "metadata": {},
   "outputs": [],
   "source": [
    "issued['coords'][1]"
   ]
  },
  {
   "cell_type": "markdown",
   "metadata": {},
   "source": [
    "Income data:\n",
    "    Median average income: 68000\n",
    "        Income subgroups:\n",
    "        30% MAI (20400 /yr) (30% housing = 510/mo)\n",
    "        60% MAI (40800 /yr) (30% housing = 1020/mo)\n",
    "        80% MAI (54400 /yr) (30% housing = 1360/mo)\n",
    "        120% MAI (81600 /yr) (30% housing = 2040/mo)"
   ]
  },
  {
   "cell_type": "markdown",
   "metadata": {},
   "source": [
    "Model development:\n",
    "    \n",
    "    Owners = 54%\n",
    "        - Model annual adjustments to these numbers\n",
    "    \n",
    "    \n",
    "    Median Housing Cost - Owner = 1336/month * 12 = 16032/yr\n",
    "\n",
    "    15-yr owner gap (affordable) = 3367\n",
    "    15-yr owner gap (market) = 35751\n",
    "\n",
    "    10-yr predicted owner gap (affordable) = 1257\n",
    "    10-yr predicted owner gap (market) = 41421\n",
    "    "
   ]
  },
  {
   "cell_type": "code",
   "execution_count": null,
   "metadata": {},
   "outputs": [],
   "source": [
    "issued.Issued.min()"
   ]
  },
  {
   "cell_type": "code",
   "execution_count": null,
   "metadata": {},
   "outputs": [],
   "source": [
    "issued.Issued.max()"
   ]
  },
  {
   "cell_type": "code",
   "execution_count": null,
   "metadata": {},
   "outputs": [],
   "source": [
    "issued['monthlies'] = pd.Series([cost/360 for cost in issued.ConstCost])"
   ]
  },
  {
   "cell_type": "code",
   "execution_count": null,
   "metadata": {},
   "outputs": [],
   "source": [
    "issued.info()"
   ]
  },
  {
   "cell_type": "code",
   "execution_count": null,
   "metadata": {},
   "outputs": [],
   "source": [
    "issued.Zip.unique()"
   ]
  },
  {
   "cell_type": "markdown",
   "metadata": {},
   "source": [
    "Question 1: At what point in time did the Codes Administration decide to begin “closing the loophole” by converting R zoning to RS?\n",
    "\n",
    "Response 1: The Codes Administration does not set zoning policy, we interpret/enforce it. The Planning Commission and Metro Council are the ones who change zoning rules. The last major revision countywide to the zoning code was in 1997 when they rezoned a lot of properties in bulk. Since then, Councilmembers have proposed zoning changes for their neighborhoods on a piecemeal basis, or developers have requested zoning changes for particular properties. There hasn’t been an effort by Metro Government to downzone properties because of the duplex situation, but some Council members have. (edited)\n",
    "\n",
    "Question 2: According to the report (Housing Nashville), there are predetermined amounts of needed housing and rental properties in each district. How is the split between housing demand and rental demand being evaluated? Is this arbitrary or is there census data giving us a proportion to go off of?\n",
    "\n",
    "Question 3: What criteria was used to calculated the ‘Maximum Affordable Sales Price’  from the MHI on page 56 of the Housing Nashville Report? What interest rate and/or tax rate was assumed?\n",
    "\n",
    "Response 2 & 3: Unfortunately, the folks that produced the Housing Nashville Report have left Metro Government so I don’t know that we’ll get all the answers. Looking at question three, I believe the estimate was based on a 5% down payment and about a 4% interest rate for a 30 year mortgage.\n",
    "Also, We have also asked Assessments for an update to the 3-years of assessment data to include the square footage of the property and the zoning code for the property. (edited)"
   ]
  },
  {
   "cell_type": "markdown",
   "metadata": {},
   "source": [
    "Renters = 46%\n",
    "Median Housing Cost - Renter = 874/month * 12 = 10488/yr\n",
    "    \n",
    "    15-yr rental gap (affordable) = 17754\n",
    "    15-yr rental gap (market) = 22219\n",
    "        \n",
    "    10-yr predicted rental gap (affordable) = 30934\n",
    "    10-yr predicted rental gap (market) = 23043"
   ]
  },
  {
   "cell_type": "code",
   "execution_count": null,
   "metadata": {},
   "outputs": [],
   "source": []
  }
 ],
 "metadata": {
  "kernelspec": {
   "display_name": "Python 3",
   "language": "python",
   "name": "python3"
  },
  "language_info": {
   "codemirror_mode": {
    "name": "ipython",
    "version": 3
   },
   "file_extension": ".py",
   "mimetype": "text/x-python",
   "name": "python",
   "nbconvert_exporter": "python",
   "pygments_lexer": "ipython3",
   "version": "3.6.5"
  }
 },
 "nbformat": 4,
 "nbformat_minor": 2
}
