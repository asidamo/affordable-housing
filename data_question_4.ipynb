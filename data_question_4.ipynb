{
 "cells": [
  {
   "cell_type": "code",
   "execution_count": null,
   "metadata": {},
   "outputs": [],
   "source": [
    "  #import libraries \n",
    "    \n",
    "import pandas as pd\n",
    "import requests\n",
    "from bs4 import BeautifulSoup as BS\n",
    "import numpy as np\n",
    "import datetime as dt\n",
    "import re  \n",
    "from shapely.geometry import Point\n",
    "import geopandas as gpd\n",
    "import matplotlib.pyplot as plt\n",
    "import folium\n",
    "import seaborn as sns\n",
    "plt.rcParams['figure.figsize'] = [12, 8]"
   ]
  },
  {
   "cell_type": "code",
   "execution_count": null,
   "metadata": {},
   "outputs": [],
   "source": [
    "# import datasets to be used\n",
    "\n",
    "issued=pd.read_csv('Building_Permits_Issued.csv',low_memory=False)\n",
    "SINGLE_FAMILY_2009=pd.read_csv('2009 single family_final_with_sqft.txt')\n",
    "SINGLE_FAMILY_2013=pd.read_csv('2013 single family_final_with_sqft.txt')\n",
    "SINGLE_FAMILY_2017=pd.read_csv('2017 single family_final_with_sqft.txt')"
   ]
  },
  {
   "cell_type": "code",
   "execution_count": null,
   "metadata": {
    "scrolled": true
   },
   "outputs": [],
   "source": [
    "# check what the data looks likes\n",
    "\n",
    "issued.head()"
   ]
  },
  {
   "cell_type": "code",
   "execution_count": null,
   "metadata": {},
   "outputs": [],
   "source": [
    "issued=issued.rename(columns={'Permit #': 'PermitNo', 'Permit Type Description':'PermTypeDesc', 'Permit Subtype Description': 'PermSubtypeDesc', 'Parcel':'Parcel', 'Date Entered':'Entered', 'Date Issued': 'Issued', 'Const. Cost': 'ConstCost', 'Address':'Address', 'City':'City', 'State':'State', 'Zip':'Zip', 'Subdivision/Lot': 'SubdLot', 'Contact':'Contact', 'Permit Type': 'PermType', 'Permit Subtype': 'PermSubtype', 'IVR Trk#': 'IVRTrk#', 'Purpose':'Purpose', 'Council Dist':'CouncilDist', 'Census Tract':'CensusTract', 'Mapped Location':'MappedLoc'})"
   ]
  },
  {
   "cell_type": "code",
   "execution_count": null,
   "metadata": {},
   "outputs": [],
   "source": [
    "#BuildingPermit['long_lat']=\n",
    "# BuildingPermit['Mapped Location'].replace('\\(.*?\\)','',regex=True)\n",
    "\n",
    "\n",
    "coords=re.compile(r'\\(.*?\\)')\n",
    "matches = []\n",
    "for string in issued.MappedLoc:\n",
    "   match=re.findall(coords,string)\n",
    "   matches.append(match)\n"
   ]
  },
  {
   "cell_type": "code",
   "execution_count": null,
   "metadata": {},
   "outputs": [],
   "source": [
    "# matches"
   ]
  },
  {
   "cell_type": "code",
   "execution_count": null,
   "metadata": {},
   "outputs": [],
   "source": [
    "matches=pd.DataFrame(matches)\n"
   ]
  },
  {
   "cell_type": "code",
   "execution_count": null,
   "metadata": {},
   "outputs": [],
   "source": [
    "matches.head()"
   ]
  },
  {
   "cell_type": "code",
   "execution_count": null,
   "metadata": {},
   "outputs": [],
   "source": [
    "# keep only first column\n",
    "matches=matches.iloc[:,0]\n",
    "\n"
   ]
  },
  {
   "cell_type": "code",
   "execution_count": null,
   "metadata": {},
   "outputs": [],
   "source": [
    "issued=issued.join(matches)"
   ]
  },
  {
   "cell_type": "code",
   "execution_count": null,
   "metadata": {},
   "outputs": [],
   "source": [
    "# rename column '0' as 'location'\n",
    "issued.rename(columns={0:'location'},inplace =True)\n",
    "issued.head()"
   ]
  },
  {
   "cell_type": "code",
   "execution_count": null,
   "metadata": {},
   "outputs": [],
   "source": [
    "# remove the parenthesis\n",
    "issued['location']=issued.location.str.replace('(','')"
   ]
  },
  {
   "cell_type": "code",
   "execution_count": null,
   "metadata": {},
   "outputs": [],
   "source": [
    "issued['location']=issued.location.str.replace(')','')\n"
   ]
  },
  {
   "cell_type": "code",
   "execution_count": null,
   "metadata": {},
   "outputs": [],
   "source": [
    "# split by strings by comma and assign them to latitude and longitude\n",
    "location=issued.location.str.split(', ', expand=True)"
   ]
  },
  {
   "cell_type": "code",
   "execution_count": null,
   "metadata": {},
   "outputs": [],
   "source": [
    "location.rename(columns={0:'Lat',1:'Long'},inplace=True)\n"
   ]
  },
  {
   "cell_type": "code",
   "execution_count": null,
   "metadata": {},
   "outputs": [],
   "source": [
    "issued_df=issued.join(location)"
   ]
  },
  {
   "cell_type": "code",
   "execution_count": null,
   "metadata": {},
   "outputs": [],
   "source": [
    "issued_df.head()"
   ]
  },
  {
   "cell_type": "code",
   "execution_count": null,
   "metadata": {},
   "outputs": [],
   "source": [
    "# drop unneccessary column \n",
    "#issued_df=issued_df.drop('location',axis=1)"
   ]
  },
  {
   "cell_type": "code",
   "execution_count": null,
   "metadata": {},
   "outputs": [],
   "source": [
    "#issued_df['Long']=pd.to_numeric(issued_df['Long'])"
   ]
  },
  {
   "cell_type": "code",
   "execution_count": null,
   "metadata": {},
   "outputs": [],
   "source": [
    "#issued_df['Lat']=pd.to_numeric(issued_df['Lat'])"
   ]
  },
  {
   "cell_type": "code",
   "execution_count": null,
   "metadata": {},
   "outputs": [],
   "source": [
    "#  split the location column  by comma\n",
    "# issued['lat']=issued.location.str.split(',')"
   ]
  },
  {
   "cell_type": "code",
   "execution_count": null,
   "metadata": {},
   "outputs": [],
   "source": [
    "# covert Issued date column to datetime format and create a year column from the Issued date\n",
    "issued['Issued']=pd.to_datetime(issued.Issued)\n",
    "\n",
    "# create Year column\n",
    "issued['Year']=issued['Issued'].dt.year"
   ]
  },
  {
   "cell_type": "code",
   "execution_count": null,
   "metadata": {},
   "outputs": [],
   "source": [
    "# check data type of location column\n",
    "issued.location.dtype"
   ]
  },
  {
   "cell_type": "code",
   "execution_count": null,
   "metadata": {},
   "outputs": [],
   "source": [
    "# look what the data looks like\n",
    "# Land: Land value\n",
    "# IMPR: Improvement Values\n",
    "# Total APPR: Total Appraised value \n",
    "\n",
    "SINGLE_FAMILY_2009.head()\n",
    "\n",
    "sf2009=SINGLE_FAMILY_2009.rename(columns={'APN':'APN', 'DistrictCode':'DistrictCode', 'Council District':'DistrictNo', 'AddressFullAddress': 'Address', 'AddressCity':'City', 'AddressPostalCode':'Zip', '2009 LAND':'LandValue', '2009 IMPR':'ImprovementValue', '2009 TOTAL APPR':'AppraisedValue', '2009 TOTAL ASSD':'2009 TOTAL ASSD'})"
   ]
  },
  {
   "cell_type": "code",
   "execution_count": null,
   "metadata": {},
   "outputs": [],
   "source": [
    "# to check if there are zero values\n",
    "sf2009.LandValue.min()"
   ]
  },
  {
   "cell_type": "code",
   "execution_count": null,
   "metadata": {},
   "outputs": [],
   "source": [
    "# rename column names\n",
    "sf2013=SINGLE_FAMILY_2013.rename(columns={'APN':'APN', 'DistrictCode':'DistrictCode', 'Council District':'DistrictNo', 'AddressFullAddress': 'Address', 'AddressCity':'City', 'AddressPostalCode':'Zip', '2013 LAND':'LandValue', '2013 IMPR':'ImprovementValue', '2013 TOTAL APPR':'AppraisedValue', '2013 TOTAL ASSD':'2013 TOTAL ASSD'})\n",
    "\n",
    "sf2017=SINGLE_FAMILY_2017.rename(columns={'APN':'APN', 'DistrictCode':'DistrictCode', 'Council District':'DistrictNo', 'AddressFullAddress': 'Address', 'AddressCity':'City', 'AddressPostalCode':'Zip', '2017 LAND':'LandValue', '2017 IMPR':'ImprovementValue', '2017 TOTAL APPR':'AppraisedValue', '2017 TOTAL ASSD':'2017 TOTAL ASSD'})\n"
   ]
  },
  {
   "cell_type": "code",
   "execution_count": null,
   "metadata": {},
   "outputs": [],
   "source": [
    "Lat_Long_Zip=pd.read_csv('US Zip Codes from 2013 Government Data')\n",
    "Lat_Long_Zip.rename(columns={'zipcode':'Zip'},inplace=True)\n",
    "Lat_Long_Zip.rename(columns={'ZIP':'Zip'},inplace=True)"
   ]
  },
  {
   "cell_type": "code",
   "execution_count": null,
   "metadata": {},
   "outputs": [],
   "source": [
    "# merge zip code data with 2009,213,2015,2017\n",
    "sf2009=pd.merge(Lat_Long_Zip,sf2009,'inner',on='Zip')\n",
    "sf2013=pd.merge(Lat_Long_Zip,sf2013,'inner',on='Zip')\n",
    "sf2017=pd.merge(Lat_Long_Zip,sf2017,'inner',on='Zip')"
   ]
  },
  {
   "cell_type": "code",
   "execution_count": null,
   "metadata": {},
   "outputs": [],
   "source": [
    "sf2013.head()"
   ]
  },
  {
   "cell_type": "code",
   "execution_count": null,
   "metadata": {},
   "outputs": [],
   "source": [
    "sf2013.AppraisedValue.dtype\n"
   ]
  },
  {
   "cell_type": "code",
   "execution_count": null,
   "metadata": {},
   "outputs": [],
   "source": [
    "sf2013.AppraisedValue.mean()"
   ]
  },
  {
   "cell_type": "code",
   "execution_count": null,
   "metadata": {},
   "outputs": [],
   "source": [
    "# morgage formula\n",
    "# P = L[r(1 + r)m]/[(1 + r)m - 1], P=monthly payment,r=interest rate per month,m =number of months\n",
    "r=0.0475/12 # monthly interest rate\n",
    "m=30*12 # number of months in 30 years\n",
    "\n",
    "# calculate monthly spending \n",
    "sf2013['Monthly_Housing_Spending']=(sf2013.AppraisedValue-sf2013.AppraisedValue*0.05)*(r*(1+r)**m)/((1+r)**m-1)\n",
    "sf2009['Monthly_Housing_Spending']=(sf2009.AppraisedValue-sf2009.AppraisedValue*0.05)*(r*(1+r)**m)/((1+r)**m-1)\n",
    "sf2017['Monthly_Housing_Spending']=(sf2017.AppraisedValue-sf2017.AppraisedValue*0.05)*(r*(1+r)**m)/((1+r)**m-1)"
   ]
  },
  {
   "cell_type": "code",
   "execution_count": null,
   "metadata": {},
   "outputs": [],
   "source": [
    "sf2013['Monthly_Housing_Spending'].head()"
   ]
  },
  {
   "cell_type": "code",
   "execution_count": null,
   "metadata": {},
   "outputs": [],
   "source": [
    "sf2013_Zip=sf2013.loc[:,['Zip','Monthly_Housing_Spending']]"
   ]
  },
  {
   "cell_type": "markdown",
   "metadata": {},
   "source": [
    "# 2013 Highest Housing Spending Zip Codes\n",
    "\n",
    "* zip code 37205 and 37215 are top two highest housing spending areas(highest valued areas)\n",
    "* These two zip codes are in  the South Nashville \n",
    "* https://goo.gl/maps/G4b3xSGxrP12\n",
    "*  https://goo.gl/maps/eep7Z48U1R12"
   ]
  },
  {
   "cell_type": "code",
   "execution_count": null,
   "metadata": {},
   "outputs": [],
   "source": [
    "# calculate mean morgage by zip codes\n",
    "sf2013_Zip.groupby('Zip').mean().sort_values('Monthly_Housing_Spending',ascending=False)\n",
    "# top 10 highest morgage zip codes\n",
    "highest_morgage_Zip=sf2013_Zip.groupby('Zip').mean().sort_values('Monthly_Housing_Spending',ascending=False).head(10)\n",
    "highest_morgage_Zip"
   ]
  },
  {
   "cell_type": "markdown",
   "metadata": {},
   "source": [
    "# 2013 lowest Housing Spending Zip Codes\n",
    "\n",
    "* Majority of low valued/low spending areas are in East Nashville and Antioch\n",
    "* zip code 37228 has the lowest yearly housing spending/morgage payment\n",
    "*  which is located in North Nashville mainly warehouse areas\n",
    "* https://goo.gl/maps/oHs6b7oFQQT2 "
   ]
  },
  {
   "cell_type": "code",
   "execution_count": null,
   "metadata": {},
   "outputs": [],
   "source": [
    "# bottom 10 morgage zip codes\n",
    "lowest_morgage_Zip=sf2013_Zip.groupby('Zip').mean().sort_values('Monthly_Housing_Spending',ascending=False).tail(10)\n",
    "lowest_morgage_Zip\n"
   ]
  },
  {
   "cell_type": "code",
   "execution_count": null,
   "metadata": {},
   "outputs": [],
   "source": [
    "sf2013_map=sf2013\n",
    "sf2013['geometry'] = sf2013.apply(lambda x: Point((float(x.LNG), float(x.LAT))), axis=1)\n",
    "sf2013_map.info()"
   ]
  },
  {
   "cell_type": "code",
   "execution_count": null,
   "metadata": {},
   "outputs": [],
   "source": [
    "sf2013_map = folium.Map(location = [36.05223,-86.632515], zoom_start = 8)"
   ]
  },
  {
   "cell_type": "code",
   "execution_count": null,
   "metadata": {},
   "outputs": [],
   "source": [
    "# let's check type of permit\n",
    "\n",
    "issued.loc[:,['PermTypeDesc','PermSubtypeDesc','PermType']].head()"
   ]
  },
  {
   "cell_type": "code",
   "execution_count": null,
   "metadata": {},
   "outputs": [],
   "source": [
    "issued.PermType.unique()"
   ]
  },
  {
   "cell_type": "code",
   "execution_count": null,
   "metadata": {},
   "outputs": [],
   "source": [
    "# to calculate how many permits issued per year?\n",
    "\n",
    "issued_select1= issued.loc[:,['Year','PermitNo','PermTypeDesc','PermSubtypeDesc','Issued','ConstCost','Zip']]"
   ]
  },
  {
   "cell_type": "code",
   "execution_count": null,
   "metadata": {},
   "outputs": [],
   "source": [
    "issued_select2=issued_select1.loc[:,['Year','Zip','PermitNo']]\n"
   ]
  },
  {
   "cell_type": "code",
   "execution_count": null,
   "metadata": {},
   "outputs": [],
   "source": [
    "issued_select2.head()"
   ]
  },
  {
   "cell_type": "markdown",
   "metadata": {},
   "source": [
    "- Zip 37209 in 2017 has the highest number of permits issued"
   ]
  },
  {
   "cell_type": "code",
   "execution_count": null,
   "metadata": {},
   "outputs": [],
   "source": [
    "# find count of issued permits by zip code and year\n",
    "\n",
    "issued_zip_yearly=issued_select2.groupby(['Zip','Year']).count()\n",
    "\n",
    "issued_zip_yearly.rename(columns={'PermitNo':'count'},inplace=True)\n",
    "issued_zip_yearly.sort_values('count',ascending=False).head()"
   ]
  },
  {
   "cell_type": "code",
   "execution_count": null,
   "metadata": {},
   "outputs": [],
   "source": [
    "# count number of building permits issued per year\n",
    "issued_yearly=issued_select2.groupby('Year').count()\n",
    "issued_yearly.rename(columns={'PermitNo':'count'},inplace=True)\n",
    "issued_yearly.sort_values('count',ascending=False)"
   ]
  },
  {
   "cell_type": "code",
   "execution_count": null,
   "metadata": {},
   "outputs": [],
   "source": [
    "# the average construction cost $289901.5"
   ]
  },
  {
   "cell_type": "code",
   "execution_count": null,
   "metadata": {},
   "outputs": [],
   "source": [
    "# compute desctiptive statistics for coonstruction cost\n",
    "\n",
    "issued_select1.ConstCost.describe()"
   ]
  },
  {
   "cell_type": "code",
   "execution_count": null,
   "metadata": {},
   "outputs": [],
   "source": [
    "2.899015*(10**5)"
   ]
  },
  {
   "cell_type": "code",
   "execution_count": null,
   "metadata": {},
   "outputs": [],
   "source": [
    "# find residential permits\n",
    "residential=(issued.loc[issued['PermType'].isin(['CARN','CARR'])])"
   ]
  },
  {
   "cell_type": "code",
   "execution_count": null,
   "metadata": {},
   "outputs": [],
   "source": [
    "residential_Zip_Yearly=residential.loc[:,['Year','Zip','PermitNo']]"
   ]
  },
  {
   "cell_type": "code",
   "execution_count": null,
   "metadata": {},
   "outputs": [],
   "source": [
    "residential_Zip_Yearly.head()"
   ]
  },
  {
   "cell_type": "markdown",
   "metadata": {},
   "source": [
    "- 37209, 37206 and 37013 are the top 3 zip codes where highest number of residential permits were issued."
   ]
  },
  {
   "cell_type": "code",
   "execution_count": null,
   "metadata": {},
   "outputs": [],
   "source": [
    "# residential permits by zip code by year\n",
    "residential_Zip_Year=residential_Zip_Yearly.groupby(['Zip','Year']).count()\n",
    "residential_Zip_Year.sort_values('PermitNo',ascending=False)"
   ]
  },
  {
   "cell_type": "code",
   "execution_count": null,
   "metadata": {},
   "outputs": [],
   "source": [
    "residential_Yearly=residential.loc[:,['Year','PermitNo']]\n"
   ]
  },
  {
   "cell_type": "code",
   "execution_count": null,
   "metadata": {},
   "outputs": [],
   "source": [
    "residential_by_year=residential_Yearly.groupby('Year').count()\n"
   ]
  },
  {
   "cell_type": "code",
   "execution_count": null,
   "metadata": {},
   "outputs": [],
   "source": [
    "residential_by_year_sorted=residential_by_year.sort_values('PermitNo',ascending=False)\n",
    "residential_by_year_sorted"
   ]
  },
  {
   "cell_type": "code",
   "execution_count": null,
   "metadata": {},
   "outputs": [],
   "source": [
    "residential_by_year.plot(kind='bar',color='darkred',legend=False)\n",
    "plt.ylabel('Counts of Permits Issued')\n",
    "plt.title('Number of permits issued between 2015-2018')"
   ]
  },
  {
   "cell_type": "markdown",
   "metadata": {},
   "source": [
    "# The average cost for residential permits has been decreasing since 2015."
   ]
  },
  {
   "cell_type": "code",
   "execution_count": null,
   "metadata": {},
   "outputs": [],
   "source": [
    "# construction cost by year residential permits\n",
    "residential_select1=residential.loc[:,['Year','ConstCost']]\n",
    "residential_select1=residential_select1.groupby('Year').mean().sort_values('ConstCost',ascending=False)\n",
    "residential_select1"
   ]
  },
  {
   "cell_type": "code",
   "execution_count": null,
   "metadata": {},
   "outputs": [],
   "source": [
    "residential_select1.plot(kind='bar',color='lightblue')\n",
    "plt.ylabel('Average_Construction_Cost')\n",
    "plt.title('Average Cost of Construction Overtime')"
   ]
  },
  {
   "cell_type": "code",
   "execution_count": null,
   "metadata": {},
   "outputs": [],
   "source": [
    "# demo_residential=issued[(residential.Address) ISIN (demolished.Address)]"
   ]
  },
  {
   "cell_type": "code",
   "execution_count": null,
   "metadata": {},
   "outputs": [],
   "source": [
    "# find demolished permits\n",
    "demolished=(issued.loc[issued['PermType']=='CADM'])\n",
    "demolished.head()"
   ]
  },
  {
   "cell_type": "code",
   "execution_count": null,
   "metadata": {},
   "outputs": [],
   "source": [
    "demolished_select1=demolished.loc[:,['Year','PermitNo','PermType','Address','PermTypeDesc','PermSubtypeDesc','Issued','ConstCost','Zip']]"
   ]
  },
  {
   "cell_type": "code",
   "execution_count": null,
   "metadata": {},
   "outputs": [],
   "source": [
    "# see counts of demolishing permits issued by years and zip code\n",
    "demolished_select2=demolished_select1.loc[:,['Year','Zip','PermitNo']]\n",
    "demolished_select2=demolished_select2.groupby(['Zip','Year']).count()\n",
    "demolished_select2.sort_values('PermitNo',ascending=False).head(20)"
   ]
  },
  {
   "cell_type": "code",
   "execution_count": null,
   "metadata": {},
   "outputs": [],
   "source": [
    "#actual new houses built sub type descritption\n",
    "\n",
    "#['CAA01R301', 'CAA02R302', 'CAA03R298', 'CAA03R299', 'CAA03R398', 'CAA03R399']\n",
    "\n",
    "# permits demolished and rebuilt\n",
    "\n",
    "stypes = ['CAA01R301', 'CAA02R302', 'CAA03R298', 'CAA03R299', 'CAA03R398', 'CAA03R399']\n",
    "\n",
    "homes = pd.DataFrame(issued.loc[issued.PermSubtype.isin(stypes)])\n",
    "demos = issued.loc[issued.PermType == 'CADM']\n",
    "rebuilt=homes.loc[homes.Address.isin(demos.Address)]"
   ]
  },
  {
   "cell_type": "markdown",
   "metadata": {},
   "source": [
    "https://github.com/nss-data-science-cohort-2/data-question-4-affordable-housing-plaid-platypi-plaidypi.git\n",
    "\n",
    "\n",
    "# income groups based on Area Median income(AMI) =$ 68K (for family of 4)\n",
    "AMI=68000\n",
    "\n",
    "income_cat_1=0.30* AMI\n",
    "income_cat_2=60*AMI\n",
    "income_cat_3=0.80*AMI\n",
    "income_cat_4=1.20*AMI\n",
    "income_cat_5>=1.20*AMI\n",
    "\n",
    "\n",
    "# the families should not spend more than 30 % of their income in all categories\n",
    "# where to find income data: census tract\n",
    "# maximum spending on housing per each category\n",
    "\n",
    "cat1_spend=68000*0.3*0.3\n",
    "cat2_spend=68000*0.6*0.3\n",
    "cat3_spend=68000*0.8*0.3\n",
    "cat4_spend=68000*1.2*0.3\n",
    "\n",
    "\n"
   ]
  },
  {
   "cell_type": "code",
   "execution_count": null,
   "metadata": {},
   "outputs": [],
   "source": []
  },
  {
   "cell_type": "code",
   "execution_count": null,
   "metadata": {},
   "outputs": [],
   "source": [
    "# calculate categories by income\n",
    "\n",
    "AMI_2017=68000\n",
    "\n",
    "AMI_2009=64900\n",
    "AMI_2013=62300\n",
    "\n",
    "income_cat_1_2017=0.30* AMI_2017\n",
    "income_cat_2_2017=0.60*AMI_2017\n",
    "income_cat_3_2017=0.80*AMI_2017\n",
    "income_cat_4_2017=1.20*AMI_2017\n",
    "\n",
    "income_cat_1_2013=0.30* AMI_2013\n",
    "income_cat_2_2013=0.60*AMI_2013\n",
    "income_cat_3_2013=0.80*AMI_2013\n",
    "income_cat_4_2013=1.20*AMI_2013\n",
    "\n",
    "income_cat_1_2009=0.30* AMI_2009\n",
    "income_cat_2_2009=0.60*AMI_2009\n",
    "income_cat_3_2009=0.80*AMI_2009\n",
    "income_cat_4_2009=1.20*AMI_2009\n"
   ]
  },
  {
   "cell_type": "code",
   "execution_count": null,
   "metadata": {},
   "outputs": [],
   "source": [
    "print(income_cat_1_2017)\n",
    "print(income_cat_2_2017)\n",
    "print(income_cat_3_2017)\n",
    "print(income_cat_4_2017)"
   ]
  },
  {
   "cell_type": "code",
   "execution_count": null,
   "metadata": {},
   "outputs": [],
   "source": [
    "# calulate housing spending categories\n",
    "\n",
    "cat1_spend_2017=(income_cat_1_2017*0.3)/12\n",
    "cat2_spend_2017=(income_cat_2_2017*0.3)/12\n",
    "cat3_spend_2017=(income_cat_3_2017*0.3)/12\n",
    "cat4_spend_2017=(income_cat_4_2017*0.3)/12\n",
    "\n",
    "cat1_spend_2013=(income_cat_1_2013*0.3)/12\n",
    "cat2_spend_2013=(income_cat_2_2013*0.3)/12\n",
    "cat3_spend_2013=(income_cat_3_2013*0.3)/12\n",
    "cat4_spend_2013=(income_cat_4_2013*0.3)/12\n",
    "\n",
    "cat1_spend_2009=(income_cat_1_2009*0.3)/12\n",
    "cat2_spend_2009=(income_cat_2_2009*0.3)/12\n",
    "cat3_spend_2009=(income_cat_3_2009*0.3)/12\n",
    "cat4_spend_2009=(income_cat_4_2009*0.3)/12\n"
   ]
  },
  {
   "cell_type": "code",
   "execution_count": null,
   "metadata": {},
   "outputs": [],
   "source": [
    "print(cat1_spend_2017)\n",
    "print(cat2_spend_2017)\n",
    "print(cat3_spend_2017)\n",
    "print(cat4_spend_2017)"
   ]
  },
  {
   "cell_type": "code",
   "execution_count": null,
   "metadata": {},
   "outputs": [],
   "source": [
    "sf2013.head()"
   ]
  },
  {
   "cell_type": "markdown",
   "metadata": {},
   "source": [
    "# create backets \n",
    "def backet(x):\n",
    "    if x<=cat1_spend:\n",
    "        return 'cat1_spending'\n",
    "    elif x<=cat2_spend:\n",
    "         return 'cat2_spending'\n",
    "    elif x<=cat3_spend:\n",
    "        return 'cat3_spending'\n",
    "    elif x<=cat4_spend:\n",
    "        return 'cat4_spending'\n",
    "    else:\n",
    "        return 'Cat5_spending'\n",
    "     "
   ]
  },
  {
   "cell_type": "code",
   "execution_count": null,
   "metadata": {},
   "outputs": [],
   "source": [
    "# create backets for 2009\n",
    "\n",
    "def backet_2009(x):\n",
    "    if x<=cat2_spend_2009:\n",
    "        return 'affordable_housing'\n",
    "    elif x<=cat4_spend_2009:\n",
    "         return 'workforce_housing'\n",
    "    else:\n",
    "        return 'market_rate'\n",
    "     "
   ]
  },
  {
   "cell_type": "code",
   "execution_count": null,
   "metadata": {},
   "outputs": [],
   "source": [
    "# create backets for 2013\n",
    "\n",
    "def backet_2013(x):\n",
    "    if x<=cat2_spend_2013:\n",
    "        return 'affordable_housing'\n",
    "    elif x<=cat4_spend_2013:\n",
    "         return 'workforce_housing'\n",
    "    else:\n",
    "        return 'market_rate'"
   ]
  },
  {
   "cell_type": "code",
   "execution_count": null,
   "metadata": {},
   "outputs": [],
   "source": [
    "# create backets for 2017\n",
    "\n",
    "def backet_2017(x):\n",
    "    if x<=cat2_spend_2017:\n",
    "        return 'affordable_housing'\n",
    "    elif x<=cat4_spend_2017:\n",
    "         return 'workforce_housing'\n",
    "    else:\n",
    "        return 'market_rate'"
   ]
  },
  {
   "cell_type": "code",
   "execution_count": null,
   "metadata": {},
   "outputs": [],
   "source": [
    "# assing the backets to sf2013,sf2009,sf2017\n",
    "\n",
    "sf2013['backets']=sf2013.Monthly_Housing_Spending.apply(backet_2013)\n",
    "\n",
    "sf2009['backets']=sf2009.Monthly_Housing_Spending.apply(backet_2009)\n",
    "\n",
    "sf2017['backets']=sf2017.Monthly_Housing_Spending.apply(backet_2017)"
   ]
  },
  {
   "cell_type": "code",
   "execution_count": null,
   "metadata": {},
   "outputs": [],
   "source": [
    "sf2013.head()"
   ]
  },
  {
   "cell_type": "code",
   "execution_count": null,
   "metadata": {},
   "outputs": [],
   "source": [
    "# backets for 2013\n",
    "# create backet 1\n",
    "supply2013_backet1=sf2013[sf2013['backets']=='affordable_housing']\n",
    "# create backet 2\n",
    "supply2013_backet2=sf2013[sf2013['backets']=='workforce_housing']\n",
    "# create backet 3\n",
    "supply2013_backet3=sf2013[sf2013['backets']=='market_rate']\n"
   ]
  },
  {
   "cell_type": "code",
   "execution_count": null,
   "metadata": {},
   "outputs": [],
   "source": [
    "# backets for 2009\n",
    "# create backet 1\n",
    "supply2009_backet1=sf2009[sf2009['backets']=='affordable_housing']\n",
    "# create backet 2\n",
    "supply2009_backet2=sf2009[sf2009['backets']=='workforce_housing']\n",
    "# create backet 3\n",
    "supply2009_backet3=sf2009[sf2009['backets']=='market_rate']\n"
   ]
  },
  {
   "cell_type": "code",
   "execution_count": null,
   "metadata": {},
   "outputs": [],
   "source": [
    "# backets for 2017\n",
    "\n",
    "# create backet 1\n",
    "supply2017_backet1=sf2017[sf2017['backets']=='affordable_housing']\n",
    "# create backet 2\n",
    "supply2017_backet2=sf2017[sf2017['backets']=='workforce_housing']\n",
    "# create backet 3\n",
    "supply2017_backet3=sf2017[sf2017['backets']=='market_rate']\n",
    "\n"
   ]
  },
  {
   "cell_type": "code",
   "execution_count": null,
   "metadata": {},
   "outputs": [],
   "source": [
    "supply2013_backet3.head()"
   ]
  },
  {
   "cell_type": "code",
   "execution_count": null,
   "metadata": {},
   "outputs": [],
   "source": [
    "# 2009_AMI=64900, 2013_AMI=62300"
   ]
  },
  {
   "cell_type": "markdown",
   "metadata": {},
   "source": [
    "# earning by zip code backets as demand\n",
    "# housing costs by backets as supply (2009,2013,2017)"
   ]
  },
  {
   "cell_type": "code",
   "execution_count": null,
   "metadata": {},
   "outputs": [],
   "source": [
    "# import income by zip codes data for Tennessee\n",
    "# NaN for all columns are becuase of blanck rows in the dataset. \n",
    "income_by_zip_2009=pd.read_excel('09zp43tn.xls',skiprows=3)\n",
    "income_by_zip_2009.tail()"
   ]
  },
  {
   "cell_type": "code",
   "execution_count": null,
   "metadata": {},
   "outputs": [],
   "source": [
    "income_by_zip_2009.columns"
   ]
  },
  {
   "cell_type": "code",
   "execution_count": null,
   "metadata": {},
   "outputs": [],
   "source": [
    "# rename columns\n",
    "income_by_zip_2009.rename(columns={'ZIP\\ncode [1]':'Zip','Size of adjusted gross income':'IncomeBacket','Number of returns':'NumberofPeople','Adjusted gross income (AGI)':'AGI'},inplace=True)\n",
    "income_by_zip_2009.head()"
   ]
  },
  {
   "cell_type": "code",
   "execution_count": null,
   "metadata": {},
   "outputs": [],
   "source": [
    "# remove blank rows and sub total per Zip Code\n",
    "# AGI is in thousands of dollars\n",
    "income_by_zip_2009=income_by_zip_2009.dropna()\n",
    "income_by_zip_2009.tail()"
   ]
  },
  {
   "cell_type": "code",
   "execution_count": null,
   "metadata": {},
   "outputs": [],
   "source": [
    "income_by_zip_2009=income_by_zip_2009[income_by_zip_2009.Zip!='99999']"
   ]
  },
  {
   "cell_type": "code",
   "execution_count": null,
   "metadata": {},
   "outputs": [],
   "source": [
    "# exclude people earning 200,0000 or more\n",
    "income_by_zip_2009=income_by_zip_2009[income_by_zip_2009['IncomeBacket']!='$200,000 or more']\n",
    "\n",
    "# AGI is in thousands of dollars\n",
    "income_by_zip_2009['AGI']=income_by_zip_2009['AGI']*1000"
   ]
  },
  {
   "cell_type": "code",
   "execution_count": null,
   "metadata": {},
   "outputs": [],
   "source": [
    "# create monthly average adjusted gross income by zip code\n",
    "income_by_zip_2009['AGI']=1/12*(income_by_zip_2009['AGI']/income_by_zip_2009['NumberofPeople'])\n",
    "income_by_zip_2009.head()"
   ]
  },
  {
   "cell_type": "code",
   "execution_count": null,
   "metadata": {},
   "outputs": [],
   "source": [
    "# we used 2016 data for 2017, there is no 2017 data on IRS site\n",
    "\n",
    "# import income by zip codes data for Tennessee \n",
    "# NaN for all columns are becuase of blanck rows in the dataset. \n",
    "income_by_zip_2017=pd.read_excel('16zp43tn.xls',skiprows=3)\n",
    "# print the head\n",
    "income_by_zip_2017.head()"
   ]
  },
  {
   "cell_type": "code",
   "execution_count": null,
   "metadata": {},
   "outputs": [],
   "source": [
    "# see column names\n",
    "income_by_zip_2017.columns"
   ]
  },
  {
   "cell_type": "code",
   "execution_count": null,
   "metadata": {},
   "outputs": [],
   "source": [
    "# rename columns\n",
    "income_by_zip_2017.rename(columns={'ZIP\\ncode [1]':'Zip','Number of returns':'NumberofPeople','Size of adjusted gross income':'IncomeBacket','Adjusted gross income (AGI) [4]':'AGI'},inplace=True)\n",
    "income_by_zip_2017.head()"
   ]
  },
  {
   "cell_type": "code",
   "execution_count": null,
   "metadata": {},
   "outputs": [],
   "source": [
    "income_by_zip_2017.columns"
   ]
  },
  {
   "cell_type": "code",
   "execution_count": null,
   "metadata": {},
   "outputs": [],
   "source": [
    "# remove blank rows and sub total per Zip Code\n",
    "# AGI is in thousands of dollars \n",
    "# income_by_zip_2017[income_by_zip_2017.IncomeBacket!='NaN']\n",
    "income_by_zip_2017=income_by_zip_2017.dropna()"
   ]
  },
  {
   "cell_type": "code",
   "execution_count": null,
   "metadata": {},
   "outputs": [],
   "source": [
    "income_by_zip_2017=income_by_zip_2017[income_by_zip_2017.Zip!='99999']"
   ]
  },
  {
   "cell_type": "code",
   "execution_count": null,
   "metadata": {},
   "outputs": [],
   "source": [
    "income_by_zip_2017.head()"
   ]
  },
  {
   "cell_type": "code",
   "execution_count": null,
   "metadata": {},
   "outputs": [],
   "source": [
    "# exclude people earning 200,0000 or more\n",
    "income_by_zip_2017=income_by_zip_2017[income_by_zip_2017['IncomeBacket']!='$200,000 or more']\n",
    "\n",
    "# AGI is in thousands of dollars\n",
    "income_by_zip_2017['AGI']=income_by_zip_2017['AGI']*1000\n",
    "    \n",
    "# create monthly average adjusted gross income by zip code\n",
    "income_by_zip_2017['AGI']=1/12*(income_by_zip_2017['AGI']/income_by_zip_2017['NumberofPeople'])\n",
    "income_by_zip_2017.head()"
   ]
  },
  {
   "cell_type": "code",
   "execution_count": null,
   "metadata": {},
   "outputs": [],
   "source": [
    "AMI_17=68000/12\n",
    "\n",
    "AMI_09=64900/12\n",
    "AMI_13=62300/12\n",
    "\n",
    "income_cat_1_17=0.30* AMI_17\n",
    "income_cat_2_17=0.60*AMI_17\n",
    "income_cat_3_17=0.80*AMI_17\n",
    "income_cat_4_17=1.20*AMI_17\n",
    "\n",
    "income_cat_1_13=0.30* AMI_13\n",
    "income_cat_2_13=0.60*AMI_13\n",
    "income_cat_3_13=0.80*AMI_13\n",
    "income_cat_4_13=1.20*AMI_13\n",
    "\n",
    "income_cat_1_09=0.30* AMI_09\n",
    "income_cat_2_09=0.60*AMI_09\n",
    "income_cat_3_09=0.80*AMI_09\n",
    "income_cat_4_09=1.20*AMI_09\n"
   ]
  },
  {
   "cell_type": "code",
   "execution_count": null,
   "metadata": {},
   "outputs": [],
   "source": [
    "\n",
    "# create income backets for 2017\n",
    "\n",
    "def backet_2017_income(x):\n",
    "    if x<=income_cat_2_17:\n",
    "        return 'low_income'\n",
    "    elif x<=income_cat_4_17:\n",
    "         return 'medium_income'\n",
    "    else:\n",
    "        return 'high_income'"
   ]
  },
  {
   "cell_type": "code",
   "execution_count": null,
   "metadata": {},
   "outputs": [],
   "source": [
    "# create income backets for 2013\n",
    "\n",
    "def backet_2013_income(x):\n",
    "    if x<=income_cat_2_13:\n",
    "        return 'low_income'\n",
    "    elif x<=income_cat_4_13:\n",
    "         return 'medium_income'\n",
    "    else:\n",
    "        return 'high_income'"
   ]
  },
  {
   "cell_type": "code",
   "execution_count": null,
   "metadata": {},
   "outputs": [],
   "source": [
    "# create income backets for 2009\n",
    "\n",
    "def backet_2009_income(x):\n",
    "    if x<=income_cat_2_09:\n",
    "        return 'low_income'\n",
    "    elif x<=income_cat_4_09:\n",
    "         return 'medium_income'\n",
    "    else:\n",
    "        return 'high_income'"
   ]
  },
  {
   "cell_type": "code",
   "execution_count": null,
   "metadata": {},
   "outputs": [],
   "source": [
    "# sf2013['backets']=sf2013.Monthly_Housing_Spending.apply(backet_2013)\n",
    "\n",
    "income_by_zip_2009['backets']=income_by_zip_2009.AGI.apply(backet_2009_income)\n",
    "\n",
    "income_by_zip_2017['backets']=income_by_zip_2017.AGI.apply(backet_2017_income)\n",
    "# we use the same income we imported for 2017 for 2013 becuase the IRS site is giving error to download 2013 data.\n",
    "income_by_zip_2013=income_by_zip_2017\n",
    "income_by_zip_2013['backets']=income_by_zip_2013.AGI.apply(backet_2013_income)"
   ]
  },
  {
   "cell_type": "code",
   "execution_count": null,
   "metadata": {},
   "outputs": [],
   "source": [
    "income_by_zip_2017.head()"
   ]
  },
  {
   "cell_type": "code",
   "execution_count": null,
   "metadata": {},
   "outputs": [],
   "source": [
    "# create backet 1 for demand\n",
    "demand2017_backet1=income_by_zip_2017[income_by_zip_2017['backets']=='low_income']\n",
    "# create backet 2 for demand\n",
    "demand2017_backet2=income_by_zip_2017[income_by_zip_2017['backets']=='medium_income']\n",
    "# create backet 3 for demand\n",
    "demand2017_backet3=income_by_zip_2017[income_by_zip_2017['backets']=='high_income']"
   ]
  },
  {
   "cell_type": "code",
   "execution_count": null,
   "metadata": {},
   "outputs": [],
   "source": [
    "# create backet 1 for demand\n",
    "demand2013_backet1=income_by_zip_2017[income_by_zip_2017['backets']=='low_income']\n",
    "# create backet 2 for demand\n",
    "demand2013_backet2=income_by_zip_2017[income_by_zip_2017['backets']=='medium_income']\n",
    "# create backet 3 for demand\n",
    "demand2013_backet3=income_by_zip_2013[income_by_zip_2013['backets']=='high_income']"
   ]
  },
  {
   "cell_type": "code",
   "execution_count": null,
   "metadata": {},
   "outputs": [],
   "source": [
    "demand2017_backet2.head()"
   ]
  },
  {
   "cell_type": "code",
   "execution_count": null,
   "metadata": {},
   "outputs": [],
   "source": [
    "# create backet 1 for demand\n",
    "demand2009_backet1=income_by_zip_2009[income_by_zip_2009['backets']=='low_income']\n",
    "# create backet 2 for demand\n",
    "demand2009_backet2=income_by_zip_2009[income_by_zip_2009['backets']=='medium_income']\n",
    "# create backet 3 for demand\n",
    "demand2009_backet3=income_by_zip_2009[income_by_zip_2009['backets']=='high_income']"
   ]
  },
  {
   "cell_type": "code",
   "execution_count": null,
   "metadata": {},
   "outputs": [],
   "source": [
    "demand2017_backet1.head()"
   ]
  },
  {
   "cell_type": "code",
   "execution_count": null,
   "metadata": {},
   "outputs": [],
   "source": [
    "print(demand2017_backet1.NumberofPeople.sum());print(supply2017_backet1.backets.count())\n",
    "print(demand2017_backet2.NumberofPeople.sum());print(supply2017_backet2.backets.count())\n",
    "print(demand2017_backet3.NumberofPeople.sum());print(supply2017_backet3.backets.count())\n"
   ]
  },
  {
   "cell_type": "code",
   "execution_count": null,
   "metadata": {},
   "outputs": [],
   "source": [
    "print(demand2013_backet1.NumberofPeople.sum());print(supply2013_backet1.backets.count())\n",
    "print(demand2013_backet2.NumberofPeople.sum());print(supply2013_backet2.backets.count())\n",
    "print(demand2013_backet3.NumberofPeople.sum());print(supply2013_backet3.backets.count())"
   ]
  },
  {
   "cell_type": "code",
   "execution_count": null,
   "metadata": {},
   "outputs": [],
   "source": [
    "print(demand2009_backet1.NumberofPeople.sum());print(supply2009_backet1.backets.count())\n",
    "print(demand2009_backet2.NumberofPeople.sum());print(supply2009_backet2.backets.count())\n",
    "print(demand2009_backet3.NumberofPeople.sum());print(supply2009_backet3.backets.count())"
   ]
  },
  {
   "cell_type": "code",
   "execution_count": null,
   "metadata": {},
   "outputs": [],
   "source": [
    "demand2009_backet1.NumberofPeople.sum()"
   ]
  },
  {
   "cell_type": "code",
   "execution_count": null,
   "metadata": {},
   "outputs": [],
   "source": [
    "sf2013_df=sf2013.head()"
   ]
  },
  {
   "cell_type": "code",
   "execution_count": null,
   "metadata": {},
   "outputs": [],
   "source": [
    "supply2009_backet1.head()\n",
    "demand2009_backet1.head()"
   ]
  },
  {
   "cell_type": "code",
   "execution_count": null,
   "metadata": {},
   "outputs": [],
   "source": [
    "#demand and suppy by zip code in 2009 for backet 1\n",
    "\n",
    "demand_2009_b1=demand2009_backet1.loc[:,['Zip','NumberofPeople']].groupby('Zip').sum().sort_values('NumberofPeople',ascending=False)\n",
    "supply_2009_b1= supply2009_backet1.loc[:,['Zip','backets']].groupby('Zip').count().sort_values('backets',ascending=False)"
   ]
  },
  {
   "cell_type": "code",
   "execution_count": null,
   "metadata": {},
   "outputs": [],
   "source": [
    "# join dd and ss data for 2009 backet1\n",
    "DD_SS_2009_Backet1=demand_2009_b1.join(supply_2009_b1)\n",
    "DD_SS_2009_Backet1.rename(columns={'NumberofPeople':'demand_b1_09','backets':'supply_b1_09'},inplace=True)\n",
    "DD_SS_2009_Backet1.supply_b1_09.fillna(0,inplace=True)\n",
    "DD_SS_2009_Backet1['surplus']=DD_SS_2009_Backet1.supply_b1_09-DD_SS_2009_Backet1.demand_b1_09\n",
    "DD_SS_2009_Backet1.head()"
   ]
  },
  {
   "cell_type": "markdown",
   "metadata": {},
   "source": [
    "# there was no surplus in 2009 in any zip code around Nashville"
   ]
  },
  {
   "cell_type": "code",
   "execution_count": null,
   "metadata": {},
   "outputs": [],
   "source": [
    "# find the surplus and shortage zip codes\n",
    "surplus_2009_Backet1=DD_SS_2009_Backet1[DD_SS_2009_Backet1.surplus>0]\n",
    "shortage_2009_Backet1=DD_SS_2009_Backet1[DD_SS_2009_Backet1.surplus<0]\n",
    "non_zero_supply_b1_09=DD_SS_2009_Backet1[DD_SS_2009_Backet1.supply_b1_09>0]\n",
    "print(surplus_2009_Backet1.shape)\n",
    "print(shortage_2009_Backet1.shape)"
   ]
  },
  {
   "cell_type": "markdown",
   "metadata": {},
   "source": [
    "- only Zip codes where affordable houses were reported included in this plot\n",
    "- zip codes around the downtown have lower less shortage \n",
    "- however, this could be buecuase number of residents around there as it is commericial area"
   ]
  },
  {
   "cell_type": "code",
   "execution_count": null,
   "metadata": {},
   "outputs": [],
   "source": [
    "# top 20 zips with non zero supplies\n",
    "top_20_suppy_b1_09=non_zero_supply_b1_09.sort_values('supply_b1_09',ascending=False)\n",
    "top_20_suppy_b1_09.head(20)\n",
    "top_20_suppy_b1_09.plot(kind='bar')"
   ]
  },
  {
   "cell_type": "code",
   "execution_count": null,
   "metadata": {},
   "outputs": [],
   "source": [
    "\n",
    "\n",
    "print(demand2009_backet1.NumberofPeople.sum());print(supply2009_backet1.backets.count())\n",
    "print(demand2009_backet2.NumberofPeople.sum());print(supply2009_backet2.backets.count())\n",
    "print(demand2009_backet3.NumberofPeople.sum());print(supply2009_backet3.backets.count())"
   ]
  },
  {
   "cell_type": "code",
   "execution_count": null,
   "metadata": {},
   "outputs": [],
   "source": [
    "sf2013_map=sf2013_df\n",
    "sf2013_map=sf2013_map.dropna(subset=['LAT'])\n",
    "sf2013['geometry'] = sf2013_df.apply(lambda x: Point((float(x.LNG), float(x.LAT))), axis=1)\n",
    "sf2013_map.info()"
   ]
  },
  {
   "cell_type": "code",
   "execution_count": null,
   "metadata": {},
   "outputs": [],
   "source": [
    "nashville_map = folium.Map(location = [36.1627, -86.7816], zoom_start = 8)"
   ]
  },
  {
   "cell_type": "code",
   "execution_count": null,
   "metadata": {},
   "outputs": [],
   "source": [
    "sf2013_map.head(2)"
   ]
  },
  {
   "cell_type": "markdown",
   "metadata": {},
   "source": [
    "for row in sf2013_map.iterrows():\n",
    "    row_values = row[1] \n",
    "    location = [row_values['LAT'], row_values['LNG']]\n",
    "    popup = 'Zip Code: ' + str(row_values['Zip']) + '<br/>' +  'City: ' + str(row_values['City']) + '<br/>' + 'Housing_Spending: ' + str(row_values['Monthly_Housing_Spending'])+ '<br/>'+ 'backets: ' + str(row_values['backets'])+'<br/>'+ 'LandValue: ' + str(row_values['LandValue'])\n",
    "    Housing_Spending  = row_values['Monthly_Housing_Spending']\n",
    "    LandValue = row_values['LandValue']\n",
    "    #marker = folium.Marker(location = location, popup = popup)\n",
    "    if row_values['Monthly_Housing_Spending']>0:\n",
    "        marker = folium.Marker(location=location, popup=popup).add_to(nashville_map)\n",
    "        marker.add_to(nashville_map)\n",
    "    if row_values['LandValue'] > 0:\n",
    "        \n",
    "        marker = folium.Marker(location=location,popup=popup).add_to(nashville_map)\n",
    "        marker.add_to(nashville_map)\n",
    "           \n",
    "        \n",
    "# Show map\n",
    "\n",
    "nashville_map\n"
   ]
  },
  {
   "cell_type": "code",
   "execution_count": null,
   "metadata": {},
   "outputs": [],
   "source": [
    "# for demand and supply prediction\n",
    "# use average single family house value in 2013 in Tennesse\n",
    "# find coefficient by calculating the change in demand betweeen 2013 and 2017\n",
    "# use that coefficient and predict for 2017"
   ]
  }
 ],
 "metadata": {
  "kernelspec": {
   "display_name": "Python 3",
   "language": "python",
   "name": "python3"
  },
  "language_info": {
   "codemirror_mode": {
    "name": "ipython",
    "version": 3
   },
   "file_extension": ".py",
   "mimetype": "text/x-python",
   "name": "python",
   "nbconvert_exporter": "python",
   "pygments_lexer": "ipython3",
   "version": "3.6.5"
  }
 },
 "nbformat": 4,
 "nbformat_minor": 2
}
