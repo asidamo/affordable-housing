{
 "cells": [
  {
   "cell_type": "code",
   "execution_count": 262,
   "metadata": {},
   "outputs": [],
   "source": [
    "  #import libraries \n",
    "    \n",
    "import pandas as pd\n",
    "import requests\n",
    "from bs4 import BeautifulSoup as BS\n",
    "import numpy as np\n",
    "import datetime as dt\n",
    "import re  \n",
    "from shapely.geometry import Point\n",
    "import geopandas as gpd\n",
    "import matplotlib.pyplot as plt\n",
    "import folium\n",
    "import seaborn as sns\n",
    "plt.rcParams['figure.figsize'] = [10, 6]"
   ]
  },
  {
   "cell_type": "code",
   "execution_count": 238,
   "metadata": {},
   "outputs": [],
   "source": [
    "# import datasets to be used\n",
    "\n",
    "issued=pd.read_csv('Building_Permits_Issued.csv',low_memory=False)\n",
    "SINGLE_FAMILY_2009=pd.read_csv('2009 single family_final_with_sqft.txt')\n",
    "SINGLE_FAMILY_2013=pd.read_csv('2013 single family_final_with_sqft.txt')\n",
    "SINGLE_FAMILY_2017=pd.read_csv('2017 single family_final_with_sqft.txt')"
   ]
  },
  {
   "cell_type": "code",
   "execution_count": 239,
   "metadata": {
    "scrolled": true
   },
   "outputs": [
    {
     "data": {
      "text/html": [
       "<div>\n",
       "<style scoped>\n",
       "    .dataframe tbody tr th:only-of-type {\n",
       "        vertical-align: middle;\n",
       "    }\n",
       "\n",
       "    .dataframe tbody tr th {\n",
       "        vertical-align: top;\n",
       "    }\n",
       "\n",
       "    .dataframe thead th {\n",
       "        text-align: right;\n",
       "    }\n",
       "</style>\n",
       "<table border=\"1\" class=\"dataframe\">\n",
       "  <thead>\n",
       "    <tr style=\"text-align: right;\">\n",
       "      <th></th>\n",
       "      <th>Permit #</th>\n",
       "      <th>Permit Type Description</th>\n",
       "      <th>Permit Subtype Description</th>\n",
       "      <th>Parcel</th>\n",
       "      <th>Date Entered</th>\n",
       "      <th>Date Issued</th>\n",
       "      <th>Const. Cost</th>\n",
       "      <th>Address</th>\n",
       "      <th>City</th>\n",
       "      <th>State</th>\n",
       "      <th>Zip</th>\n",
       "      <th>Subdivision/Lot</th>\n",
       "      <th>Contact</th>\n",
       "      <th>Permit Type</th>\n",
       "      <th>Permit Subtype</th>\n",
       "      <th>IVR Trk#</th>\n",
       "      <th>Purpose</th>\n",
       "      <th>Council Dist</th>\n",
       "      <th>Census Tract</th>\n",
       "      <th>Mapped Location</th>\n",
       "    </tr>\n",
       "  </thead>\n",
       "  <tbody>\n",
       "    <tr>\n",
       "      <th>0</th>\n",
       "      <td>2018002927</td>\n",
       "      <td>Building Residential - New</td>\n",
       "      <td>Single Family Residence</td>\n",
       "      <td>081160R00100CO</td>\n",
       "      <td>01/18/2018</td>\n",
       "      <td>02/12/2018</td>\n",
       "      <td>206150.0</td>\n",
       "      <td>1017A  MONROE ST</td>\n",
       "      <td>NASHVILLE</td>\n",
       "      <td>TN</td>\n",
       "      <td>37208</td>\n",
       "      <td>UNIT A 1017 MONROE</td>\n",
       "      <td>TRISTAR CONSTRUCTION, INC</td>\n",
       "      <td>CARN</td>\n",
       "      <td>CAA01R301</td>\n",
       "      <td>3439281</td>\n",
       "      <td>to construct 1830SF single family residence wi...</td>\n",
       "      <td>19.0</td>\n",
       "      <td>37019400.0</td>\n",
       "      <td>1017A MONROE ST\\nNASHVILLE, TN 37208\\n(36.1740...</td>\n",
       "    </tr>\n",
       "    <tr>\n",
       "      <th>1</th>\n",
       "      <td>201617929</td>\n",
       "      <td>Building Use &amp; Occupancy</td>\n",
       "      <td>Tents, Stages</td>\n",
       "      <td>09215014800</td>\n",
       "      <td>04/19/2016</td>\n",
       "      <td>04/21/2016</td>\n",
       "      <td>2000.0</td>\n",
       "      <td>2300  WEST END AVE</td>\n",
       "      <td>NASHVILLE</td>\n",
       "      <td>TN</td>\n",
       "      <td>37203</td>\n",
       "      <td>N W CORNER WEST END AVE &amp; 23RD AVE N</td>\n",
       "      <td>Music City Tents &amp; Events Llc</td>\n",
       "      <td>CAUO</td>\n",
       "      <td>CAZ06A001</td>\n",
       "      <td>2116751</td>\n",
       "      <td>PERMIT TO ERECT 1:40X85 TENT. THIS TENT IS BEI...</td>\n",
       "      <td>21.0</td>\n",
       "      <td>37016500.0</td>\n",
       "      <td>2300 WEST END AVE\\nNASHVILLE, TN 37203\\n(36.14...</td>\n",
       "    </tr>\n",
       "    <tr>\n",
       "      <th>2</th>\n",
       "      <td>2016049270</td>\n",
       "      <td>Building Sign Permit</td>\n",
       "      <td>Sign - Ground /  Wall Signs</td>\n",
       "      <td>11909014000</td>\n",
       "      <td>09/14/2016</td>\n",
       "      <td>09/14/2016</td>\n",
       "      <td>15000.0</td>\n",
       "      <td>2802  NOLENSVILLE PIKE</td>\n",
       "      <td>NASHVILLE</td>\n",
       "      <td>TN</td>\n",
       "      <td>37211</td>\n",
       "      <td>PT LOT 2 PATTERSON SUB</td>\n",
       "      <td>BOZMAN SIGN CO INC</td>\n",
       "      <td>CASN</td>\n",
       "      <td>CAZ02A001</td>\n",
       "      <td>3277064</td>\n",
       "      <td>to install replacement signage for existing fr...</td>\n",
       "      <td>16.0</td>\n",
       "      <td>37017300.0</td>\n",
       "      <td>2802 NOLENSVILLE PIKE\\nNASHVILLE, TN 37211\\n(3...</td>\n",
       "    </tr>\n",
       "    <tr>\n",
       "      <th>3</th>\n",
       "      <td>2016029907</td>\n",
       "      <td>Building Residential - Roofing / Siding</td>\n",
       "      <td>Duplex</td>\n",
       "      <td>075150A13900CO</td>\n",
       "      <td>06/20/2016</td>\n",
       "      <td>06/20/2016</td>\n",
       "      <td>17648.0</td>\n",
       "      <td>139  STONERS GLEN DR</td>\n",
       "      <td>HERMITAGE</td>\n",
       "      <td>TN</td>\n",
       "      <td>37076</td>\n",
       "      <td>UNIT 139 STONERS GLEN PHASE 1</td>\n",
       "      <td>MR ROOF NASHVILLE, LLC</td>\n",
       "      <td>CARK</td>\n",
       "      <td>CAA02R302</td>\n",
       "      <td>3251947</td>\n",
       "      <td>Remove existing shingles and replace with new ...</td>\n",
       "      <td>12.0</td>\n",
       "      <td>37015623.0</td>\n",
       "      <td>139 STONERS GLEN DR\\nHERMITAGE, TN 37076\\n(36....</td>\n",
       "    </tr>\n",
       "    <tr>\n",
       "      <th>4</th>\n",
       "      <td>201533533</td>\n",
       "      <td>Building Residential - Tenant Finish Out</td>\n",
       "      <td>Multifamily, Tri-Plex, Quad, Apartments</td>\n",
       "      <td>10404024100</td>\n",
       "      <td>08/07/2015</td>\n",
       "      <td>11/17/2015</td>\n",
       "      <td>542696.0</td>\n",
       "      <td>70  MUSIC SQ W</td>\n",
       "      <td>NASHVILLE</td>\n",
       "      <td>TN</td>\n",
       "      <td>37203</td>\n",
       "      <td>LOT 1 O.B. HAYES FIRST PLAN CONSOLIDATION OF L...</td>\n",
       "      <td>Construction Enterprises Inc</td>\n",
       "      <td>CART</td>\n",
       "      <td>CAA03R398</td>\n",
       "      <td>2061885</td>\n",
       "      <td>SEE MASTER PERMIT T2015-26520...T.....GRAND AV...</td>\n",
       "      <td>19.0</td>\n",
       "      <td>37016400.0</td>\n",
       "      <td>70 MUSIC SQ W\\nNASHVILLE, TN 37203\\n(36.147074...</td>\n",
       "    </tr>\n",
       "  </tbody>\n",
       "</table>\n",
       "</div>"
      ],
      "text/plain": [
       "     Permit #                   Permit Type Description  \\\n",
       "0  2018002927                Building Residential - New   \n",
       "1   201617929                  Building Use & Occupancy   \n",
       "2  2016049270                      Building Sign Permit   \n",
       "3  2016029907   Building Residential - Roofing / Siding   \n",
       "4   201533533  Building Residential - Tenant Finish Out   \n",
       "\n",
       "                Permit Subtype Description          Parcel Date Entered  \\\n",
       "0                  Single Family Residence  081160R00100CO   01/18/2018   \n",
       "1                            Tents, Stages     09215014800   04/19/2016   \n",
       "2              Sign - Ground /  Wall Signs     11909014000   09/14/2016   \n",
       "3                                   Duplex  075150A13900CO   06/20/2016   \n",
       "4  Multifamily, Tri-Plex, Quad, Apartments     10404024100   08/07/2015   \n",
       "\n",
       "  Date Issued  Const. Cost                 Address       City State    Zip  \\\n",
       "0  02/12/2018     206150.0        1017A  MONROE ST  NASHVILLE    TN  37208   \n",
       "1  04/21/2016       2000.0      2300  WEST END AVE  NASHVILLE    TN  37203   \n",
       "2  09/14/2016      15000.0  2802  NOLENSVILLE PIKE  NASHVILLE    TN  37211   \n",
       "3  06/20/2016      17648.0    139  STONERS GLEN DR  HERMITAGE    TN  37076   \n",
       "4  11/17/2015     542696.0          70  MUSIC SQ W  NASHVILLE    TN  37203   \n",
       "\n",
       "                                     Subdivision/Lot  \\\n",
       "0                                 UNIT A 1017 MONROE   \n",
       "1               N W CORNER WEST END AVE & 23RD AVE N   \n",
       "2                             PT LOT 2 PATTERSON SUB   \n",
       "3                      UNIT 139 STONERS GLEN PHASE 1   \n",
       "4  LOT 1 O.B. HAYES FIRST PLAN CONSOLIDATION OF L...   \n",
       "\n",
       "                         Contact Permit Type Permit Subtype  IVR Trk#  \\\n",
       "0      TRISTAR CONSTRUCTION, INC        CARN      CAA01R301   3439281   \n",
       "1  Music City Tents & Events Llc        CAUO      CAZ06A001   2116751   \n",
       "2             BOZMAN SIGN CO INC        CASN      CAZ02A001   3277064   \n",
       "3         MR ROOF NASHVILLE, LLC        CARK      CAA02R302   3251947   \n",
       "4   Construction Enterprises Inc        CART      CAA03R398   2061885   \n",
       "\n",
       "                                             Purpose  Council Dist  \\\n",
       "0  to construct 1830SF single family residence wi...          19.0   \n",
       "1  PERMIT TO ERECT 1:40X85 TENT. THIS TENT IS BEI...          21.0   \n",
       "2  to install replacement signage for existing fr...          16.0   \n",
       "3  Remove existing shingles and replace with new ...          12.0   \n",
       "4  SEE MASTER PERMIT T2015-26520...T.....GRAND AV...          19.0   \n",
       "\n",
       "   Census Tract                                    Mapped Location  \n",
       "0    37019400.0  1017A MONROE ST\\nNASHVILLE, TN 37208\\n(36.1740...  \n",
       "1    37016500.0  2300 WEST END AVE\\nNASHVILLE, TN 37203\\n(36.14...  \n",
       "2    37017300.0  2802 NOLENSVILLE PIKE\\nNASHVILLE, TN 37211\\n(3...  \n",
       "3    37015623.0  139 STONERS GLEN DR\\nHERMITAGE, TN 37076\\n(36....  \n",
       "4    37016400.0  70 MUSIC SQ W\\nNASHVILLE, TN 37203\\n(36.147074...  "
      ]
     },
     "execution_count": 239,
     "metadata": {},
     "output_type": "execute_result"
    }
   ],
   "source": [
    "# check what the data looks likes\n",
    "\n",
    "issued.head()"
   ]
  },
  {
   "cell_type": "code",
   "execution_count": 240,
   "metadata": {},
   "outputs": [],
   "source": [
    "issued=issued.rename(columns={'Permit #': 'PermitNo', 'Permit Type Description':'PermTypeDesc', 'Permit Subtype Description': 'PermSubtypeDesc', 'Parcel':'Parcel', 'Date Entered':'Entered', 'Date Issued': 'Issued', 'Const. Cost': 'ConstCost', 'Address':'Address', 'City':'City', 'State':'State', 'Zip':'Zip', 'Subdivision/Lot': 'SubdLot', 'Contact':'Contact', 'Permit Type': 'PermType', 'Permit Subtype': 'PermSubtype', 'IVR Trk#': 'IVRTrk#', 'Purpose':'Purpose', 'Council Dist':'CouncilDist', 'Census Tract':'CensusTract', 'Mapped Location':'MappedLoc'})"
   ]
  },
  {
   "cell_type": "code",
   "execution_count": 241,
   "metadata": {},
   "outputs": [],
   "source": [
    "#BuildingPermit['long_lat']=\n",
    "# BuildingPermit['Mapped Location'].replace('\\(.*?\\)','',regex=True)\n",
    "\n",
    "\n",
    "coords=re.compile(r'\\(.*?\\)')\n",
    "matches = []\n",
    "for string in issued.MappedLoc:\n",
    "   match=re.findall(coords,string)\n",
    "   matches.append(match)\n"
   ]
  },
  {
   "cell_type": "code",
   "execution_count": 263,
   "metadata": {},
   "outputs": [],
   "source": [
    "# matches"
   ]
  },
  {
   "cell_type": "code",
   "execution_count": 243,
   "metadata": {},
   "outputs": [],
   "source": [
    "matches=pd.DataFrame(matches)\n"
   ]
  },
  {
   "cell_type": "code",
   "execution_count": 244,
   "metadata": {},
   "outputs": [
    {
     "data": {
      "text/html": [
       "<div>\n",
       "<style scoped>\n",
       "    .dataframe tbody tr th:only-of-type {\n",
       "        vertical-align: middle;\n",
       "    }\n",
       "\n",
       "    .dataframe tbody tr th {\n",
       "        vertical-align: top;\n",
       "    }\n",
       "\n",
       "    .dataframe thead th {\n",
       "        text-align: right;\n",
       "    }\n",
       "</style>\n",
       "<table border=\"1\" class=\"dataframe\">\n",
       "  <thead>\n",
       "    <tr style=\"text-align: right;\">\n",
       "      <th></th>\n",
       "      <th>0</th>\n",
       "      <th>1</th>\n",
       "    </tr>\n",
       "  </thead>\n",
       "  <tbody>\n",
       "    <tr>\n",
       "      <th>0</th>\n",
       "      <td>(36.174077, -86.797183)</td>\n",
       "      <td>None</td>\n",
       "    </tr>\n",
       "    <tr>\n",
       "      <th>1</th>\n",
       "      <td>(36.148736, -86.804731)</td>\n",
       "      <td>None</td>\n",
       "    </tr>\n",
       "    <tr>\n",
       "      <th>2</th>\n",
       "      <td>(36.112749, -86.746151)</td>\n",
       "      <td>None</td>\n",
       "    </tr>\n",
       "    <tr>\n",
       "      <th>3</th>\n",
       "      <td>(36.196166, -86.60253)</td>\n",
       "      <td>None</td>\n",
       "    </tr>\n",
       "    <tr>\n",
       "      <th>4</th>\n",
       "      <td>(36.147074, -86.793734)</td>\n",
       "      <td>None</td>\n",
       "    </tr>\n",
       "  </tbody>\n",
       "</table>\n",
       "</div>"
      ],
      "text/plain": [
       "                         0     1\n",
       "0  (36.174077, -86.797183)  None\n",
       "1  (36.148736, -86.804731)  None\n",
       "2  (36.112749, -86.746151)  None\n",
       "3   (36.196166, -86.60253)  None\n",
       "4  (36.147074, -86.793734)  None"
      ]
     },
     "execution_count": 244,
     "metadata": {},
     "output_type": "execute_result"
    }
   ],
   "source": [
    "matches.head()"
   ]
  },
  {
   "cell_type": "code",
   "execution_count": 245,
   "metadata": {},
   "outputs": [],
   "source": [
    "# keep only first column\n",
    "matches=matches.iloc[:,0]\n",
    "\n"
   ]
  },
  {
   "cell_type": "code",
   "execution_count": 246,
   "metadata": {},
   "outputs": [],
   "source": [
    "issued=issued.join(matches)"
   ]
  },
  {
   "cell_type": "code",
   "execution_count": 247,
   "metadata": {},
   "outputs": [
    {
     "data": {
      "text/html": [
       "<div>\n",
       "<style scoped>\n",
       "    .dataframe tbody tr th:only-of-type {\n",
       "        vertical-align: middle;\n",
       "    }\n",
       "\n",
       "    .dataframe tbody tr th {\n",
       "        vertical-align: top;\n",
       "    }\n",
       "\n",
       "    .dataframe thead th {\n",
       "        text-align: right;\n",
       "    }\n",
       "</style>\n",
       "<table border=\"1\" class=\"dataframe\">\n",
       "  <thead>\n",
       "    <tr style=\"text-align: right;\">\n",
       "      <th></th>\n",
       "      <th>PermitNo</th>\n",
       "      <th>PermTypeDesc</th>\n",
       "      <th>PermSubtypeDesc</th>\n",
       "      <th>Parcel</th>\n",
       "      <th>Entered</th>\n",
       "      <th>Issued</th>\n",
       "      <th>ConstCost</th>\n",
       "      <th>Address</th>\n",
       "      <th>City</th>\n",
       "      <th>State</th>\n",
       "      <th>...</th>\n",
       "      <th>SubdLot</th>\n",
       "      <th>Contact</th>\n",
       "      <th>PermType</th>\n",
       "      <th>PermSubtype</th>\n",
       "      <th>IVRTrk#</th>\n",
       "      <th>Purpose</th>\n",
       "      <th>CouncilDist</th>\n",
       "      <th>CensusTract</th>\n",
       "      <th>MappedLoc</th>\n",
       "      <th>location</th>\n",
       "    </tr>\n",
       "  </thead>\n",
       "  <tbody>\n",
       "    <tr>\n",
       "      <th>0</th>\n",
       "      <td>2018002927</td>\n",
       "      <td>Building Residential - New</td>\n",
       "      <td>Single Family Residence</td>\n",
       "      <td>081160R00100CO</td>\n",
       "      <td>01/18/2018</td>\n",
       "      <td>02/12/2018</td>\n",
       "      <td>206150.0</td>\n",
       "      <td>1017A  MONROE ST</td>\n",
       "      <td>NASHVILLE</td>\n",
       "      <td>TN</td>\n",
       "      <td>...</td>\n",
       "      <td>UNIT A 1017 MONROE</td>\n",
       "      <td>TRISTAR CONSTRUCTION, INC</td>\n",
       "      <td>CARN</td>\n",
       "      <td>CAA01R301</td>\n",
       "      <td>3439281</td>\n",
       "      <td>to construct 1830SF single family residence wi...</td>\n",
       "      <td>19.0</td>\n",
       "      <td>37019400.0</td>\n",
       "      <td>1017A MONROE ST\\nNASHVILLE, TN 37208\\n(36.1740...</td>\n",
       "      <td>(36.174077, -86.797183)</td>\n",
       "    </tr>\n",
       "    <tr>\n",
       "      <th>1</th>\n",
       "      <td>201617929</td>\n",
       "      <td>Building Use &amp; Occupancy</td>\n",
       "      <td>Tents, Stages</td>\n",
       "      <td>09215014800</td>\n",
       "      <td>04/19/2016</td>\n",
       "      <td>04/21/2016</td>\n",
       "      <td>2000.0</td>\n",
       "      <td>2300  WEST END AVE</td>\n",
       "      <td>NASHVILLE</td>\n",
       "      <td>TN</td>\n",
       "      <td>...</td>\n",
       "      <td>N W CORNER WEST END AVE &amp; 23RD AVE N</td>\n",
       "      <td>Music City Tents &amp; Events Llc</td>\n",
       "      <td>CAUO</td>\n",
       "      <td>CAZ06A001</td>\n",
       "      <td>2116751</td>\n",
       "      <td>PERMIT TO ERECT 1:40X85 TENT. THIS TENT IS BEI...</td>\n",
       "      <td>21.0</td>\n",
       "      <td>37016500.0</td>\n",
       "      <td>2300 WEST END AVE\\nNASHVILLE, TN 37203\\n(36.14...</td>\n",
       "      <td>(36.148736, -86.804731)</td>\n",
       "    </tr>\n",
       "    <tr>\n",
       "      <th>2</th>\n",
       "      <td>2016049270</td>\n",
       "      <td>Building Sign Permit</td>\n",
       "      <td>Sign - Ground /  Wall Signs</td>\n",
       "      <td>11909014000</td>\n",
       "      <td>09/14/2016</td>\n",
       "      <td>09/14/2016</td>\n",
       "      <td>15000.0</td>\n",
       "      <td>2802  NOLENSVILLE PIKE</td>\n",
       "      <td>NASHVILLE</td>\n",
       "      <td>TN</td>\n",
       "      <td>...</td>\n",
       "      <td>PT LOT 2 PATTERSON SUB</td>\n",
       "      <td>BOZMAN SIGN CO INC</td>\n",
       "      <td>CASN</td>\n",
       "      <td>CAZ02A001</td>\n",
       "      <td>3277064</td>\n",
       "      <td>to install replacement signage for existing fr...</td>\n",
       "      <td>16.0</td>\n",
       "      <td>37017300.0</td>\n",
       "      <td>2802 NOLENSVILLE PIKE\\nNASHVILLE, TN 37211\\n(3...</td>\n",
       "      <td>(36.112749, -86.746151)</td>\n",
       "    </tr>\n",
       "    <tr>\n",
       "      <th>3</th>\n",
       "      <td>2016029907</td>\n",
       "      <td>Building Residential - Roofing / Siding</td>\n",
       "      <td>Duplex</td>\n",
       "      <td>075150A13900CO</td>\n",
       "      <td>06/20/2016</td>\n",
       "      <td>06/20/2016</td>\n",
       "      <td>17648.0</td>\n",
       "      <td>139  STONERS GLEN DR</td>\n",
       "      <td>HERMITAGE</td>\n",
       "      <td>TN</td>\n",
       "      <td>...</td>\n",
       "      <td>UNIT 139 STONERS GLEN PHASE 1</td>\n",
       "      <td>MR ROOF NASHVILLE, LLC</td>\n",
       "      <td>CARK</td>\n",
       "      <td>CAA02R302</td>\n",
       "      <td>3251947</td>\n",
       "      <td>Remove existing shingles and replace with new ...</td>\n",
       "      <td>12.0</td>\n",
       "      <td>37015623.0</td>\n",
       "      <td>139 STONERS GLEN DR\\nHERMITAGE, TN 37076\\n(36....</td>\n",
       "      <td>(36.196166, -86.60253)</td>\n",
       "    </tr>\n",
       "    <tr>\n",
       "      <th>4</th>\n",
       "      <td>201533533</td>\n",
       "      <td>Building Residential - Tenant Finish Out</td>\n",
       "      <td>Multifamily, Tri-Plex, Quad, Apartments</td>\n",
       "      <td>10404024100</td>\n",
       "      <td>08/07/2015</td>\n",
       "      <td>11/17/2015</td>\n",
       "      <td>542696.0</td>\n",
       "      <td>70  MUSIC SQ W</td>\n",
       "      <td>NASHVILLE</td>\n",
       "      <td>TN</td>\n",
       "      <td>...</td>\n",
       "      <td>LOT 1 O.B. HAYES FIRST PLAN CONSOLIDATION OF L...</td>\n",
       "      <td>Construction Enterprises Inc</td>\n",
       "      <td>CART</td>\n",
       "      <td>CAA03R398</td>\n",
       "      <td>2061885</td>\n",
       "      <td>SEE MASTER PERMIT T2015-26520...T.....GRAND AV...</td>\n",
       "      <td>19.0</td>\n",
       "      <td>37016400.0</td>\n",
       "      <td>70 MUSIC SQ W\\nNASHVILLE, TN 37203\\n(36.147074...</td>\n",
       "      <td>(36.147074, -86.793734)</td>\n",
       "    </tr>\n",
       "  </tbody>\n",
       "</table>\n",
       "<p>5 rows × 21 columns</p>\n",
       "</div>"
      ],
      "text/plain": [
       "     PermitNo                              PermTypeDesc  \\\n",
       "0  2018002927                Building Residential - New   \n",
       "1   201617929                  Building Use & Occupancy   \n",
       "2  2016049270                      Building Sign Permit   \n",
       "3  2016029907   Building Residential - Roofing / Siding   \n",
       "4   201533533  Building Residential - Tenant Finish Out   \n",
       "\n",
       "                           PermSubtypeDesc          Parcel     Entered  \\\n",
       "0                  Single Family Residence  081160R00100CO  01/18/2018   \n",
       "1                            Tents, Stages     09215014800  04/19/2016   \n",
       "2              Sign - Ground /  Wall Signs     11909014000  09/14/2016   \n",
       "3                                   Duplex  075150A13900CO  06/20/2016   \n",
       "4  Multifamily, Tri-Plex, Quad, Apartments     10404024100  08/07/2015   \n",
       "\n",
       "       Issued  ConstCost                 Address       City State  \\\n",
       "0  02/12/2018   206150.0        1017A  MONROE ST  NASHVILLE    TN   \n",
       "1  04/21/2016     2000.0      2300  WEST END AVE  NASHVILLE    TN   \n",
       "2  09/14/2016    15000.0  2802  NOLENSVILLE PIKE  NASHVILLE    TN   \n",
       "3  06/20/2016    17648.0    139  STONERS GLEN DR  HERMITAGE    TN   \n",
       "4  11/17/2015   542696.0          70  MUSIC SQ W  NASHVILLE    TN   \n",
       "\n",
       "            ...                                                       SubdLot  \\\n",
       "0           ...                                            UNIT A 1017 MONROE   \n",
       "1           ...                          N W CORNER WEST END AVE & 23RD AVE N   \n",
       "2           ...                                        PT LOT 2 PATTERSON SUB   \n",
       "3           ...                                 UNIT 139 STONERS GLEN PHASE 1   \n",
       "4           ...             LOT 1 O.B. HAYES FIRST PLAN CONSOLIDATION OF L...   \n",
       "\n",
       "                         Contact PermType PermSubtype  IVRTrk#  \\\n",
       "0      TRISTAR CONSTRUCTION, INC     CARN   CAA01R301  3439281   \n",
       "1  Music City Tents & Events Llc     CAUO   CAZ06A001  2116751   \n",
       "2             BOZMAN SIGN CO INC     CASN   CAZ02A001  3277064   \n",
       "3         MR ROOF NASHVILLE, LLC     CARK   CAA02R302  3251947   \n",
       "4   Construction Enterprises Inc     CART   CAA03R398  2061885   \n",
       "\n",
       "                                             Purpose CouncilDist  CensusTract  \\\n",
       "0  to construct 1830SF single family residence wi...        19.0   37019400.0   \n",
       "1  PERMIT TO ERECT 1:40X85 TENT. THIS TENT IS BEI...        21.0   37016500.0   \n",
       "2  to install replacement signage for existing fr...        16.0   37017300.0   \n",
       "3  Remove existing shingles and replace with new ...        12.0   37015623.0   \n",
       "4  SEE MASTER PERMIT T2015-26520...T.....GRAND AV...        19.0   37016400.0   \n",
       "\n",
       "                                           MappedLoc                 location  \n",
       "0  1017A MONROE ST\\nNASHVILLE, TN 37208\\n(36.1740...  (36.174077, -86.797183)  \n",
       "1  2300 WEST END AVE\\nNASHVILLE, TN 37203\\n(36.14...  (36.148736, -86.804731)  \n",
       "2  2802 NOLENSVILLE PIKE\\nNASHVILLE, TN 37211\\n(3...  (36.112749, -86.746151)  \n",
       "3  139 STONERS GLEN DR\\nHERMITAGE, TN 37076\\n(36....   (36.196166, -86.60253)  \n",
       "4  70 MUSIC SQ W\\nNASHVILLE, TN 37203\\n(36.147074...  (36.147074, -86.793734)  \n",
       "\n",
       "[5 rows x 21 columns]"
      ]
     },
     "execution_count": 247,
     "metadata": {},
     "output_type": "execute_result"
    }
   ],
   "source": [
    "# rename column '0' as 'location'\n",
    "issued.rename(columns={0:'location'},inplace =True)\n",
    "issued.head()"
   ]
  },
  {
   "cell_type": "code",
   "execution_count": 248,
   "metadata": {},
   "outputs": [],
   "source": [
    "issued['location']=issued.location.str.replace('(','')"
   ]
  },
  {
   "cell_type": "code",
   "execution_count": 249,
   "metadata": {},
   "outputs": [],
   "source": [
    "issued['location']=issued.location.str.replace(')','')"
   ]
  },
  {
   "cell_type": "code",
   "execution_count": 250,
   "metadata": {},
   "outputs": [],
   "source": [
    "#  split the location column  by comma\n",
    "# issued['lat']=issued.location.str.split(',')"
   ]
  },
  {
   "cell_type": "code",
   "execution_count": 251,
   "metadata": {},
   "outputs": [
    {
     "data": {
      "text/plain": [
       "dtype('O')"
      ]
     },
     "execution_count": 251,
     "metadata": {},
     "output_type": "execute_result"
    }
   ],
   "source": [
    "# check data type of location column\n",
    "issued.location.dtype"
   ]
  },
  {
   "cell_type": "code",
   "execution_count": 252,
   "metadata": {},
   "outputs": [],
   "source": [
    "# look what the data looks like\n",
    "# Land: Land value\n",
    "# IMPR: Improvement Values\n",
    "# Total APPR: Total Appraised value \n",
    "\n",
    "SINGLE_FAMILY_2009.head()\n",
    "\n",
    "sf2009=SINGLE_FAMILY_2009.rename(columns={'APN':'APN', 'DistrictCode':'DistrictCode', 'Council District':'DistrictNo', 'AddressFullAddress': 'Address', 'AddressCity':'City', 'AddressPostalCode':'Zip', '2009 LAND':'LandValue', '2009 IMPR':'ImprovementValue', '2009 TOTAL APPR':'AppraisedValue', '2009 TOTAL ASSD':'2009 TOTAL ASSD'})"
   ]
  },
  {
   "cell_type": "code",
   "execution_count": 253,
   "metadata": {},
   "outputs": [
    {
     "data": {
      "text/plain": [
       "0.0"
      ]
     },
     "execution_count": 253,
     "metadata": {},
     "output_type": "execute_result"
    }
   ],
   "source": [
    "# to check if there are zero values\n",
    "sf2009.LandValue.min()"
   ]
  },
  {
   "cell_type": "code",
   "execution_count": 254,
   "metadata": {},
   "outputs": [],
   "source": [
    "sf2013=SINGLE_FAMILY_2013.rename(columns={'APN':'APN', 'DistrictCode':'DistrictCode', 'Council District':'DistrictNo', 'AddressFullAddress': 'Address', 'AddressCity':'City', 'AddressPostalCode':'Zip', '2013 LAND':'LandValue', '2013 IMPR':'ImprovementValue', '2013 TOTAL APPR':'AppraisedValue', '2013 TOTAL ASSD':'2013 TOTAL ASSD'})\n"
   ]
  },
  {
   "cell_type": "code",
   "execution_count": 255,
   "metadata": {},
   "outputs": [],
   "source": [
    "sf2017=SINGLE_FAMILY_2017.rename(columns={'APN':'APN', 'DistrictCode':'DistrictCode', 'Council District':'DistrictNo', 'AddressFullAddress': 'Address', 'AddressCity':'City', 'AddressPostalCode':'Zip', '2017 LAND':'LandValue', '2017 IMPR':'ImprovementValue', '2017 TOTAL APPR':'AppraisedValue', '2017 TOTAL ASSD':'2017 TOTAL ASSD'})\n"
   ]
  },
  {
   "cell_type": "code",
   "execution_count": 256,
   "metadata": {},
   "outputs": [
    {
     "data": {
      "text/html": [
       "<div>\n",
       "<style scoped>\n",
       "    .dataframe tbody tr th:only-of-type {\n",
       "        vertical-align: middle;\n",
       "    }\n",
       "\n",
       "    .dataframe tbody tr th {\n",
       "        vertical-align: top;\n",
       "    }\n",
       "\n",
       "    .dataframe thead th {\n",
       "        text-align: right;\n",
       "    }\n",
       "</style>\n",
       "<table border=\"1\" class=\"dataframe\">\n",
       "  <thead>\n",
       "    <tr style=\"text-align: right;\">\n",
       "      <th></th>\n",
       "      <th>PermTypeDesc</th>\n",
       "      <th>PermSubtypeDesc</th>\n",
       "      <th>PermType</th>\n",
       "    </tr>\n",
       "  </thead>\n",
       "  <tbody>\n",
       "    <tr>\n",
       "      <th>0</th>\n",
       "      <td>Building Residential - New</td>\n",
       "      <td>Single Family Residence</td>\n",
       "      <td>CARN</td>\n",
       "    </tr>\n",
       "    <tr>\n",
       "      <th>1</th>\n",
       "      <td>Building Use &amp; Occupancy</td>\n",
       "      <td>Tents, Stages</td>\n",
       "      <td>CAUO</td>\n",
       "    </tr>\n",
       "    <tr>\n",
       "      <th>2</th>\n",
       "      <td>Building Sign Permit</td>\n",
       "      <td>Sign - Ground /  Wall Signs</td>\n",
       "      <td>CASN</td>\n",
       "    </tr>\n",
       "    <tr>\n",
       "      <th>3</th>\n",
       "      <td>Building Residential - Roofing / Siding</td>\n",
       "      <td>Duplex</td>\n",
       "      <td>CARK</td>\n",
       "    </tr>\n",
       "    <tr>\n",
       "      <th>4</th>\n",
       "      <td>Building Residential - Tenant Finish Out</td>\n",
       "      <td>Multifamily, Tri-Plex, Quad, Apartments</td>\n",
       "      <td>CART</td>\n",
       "    </tr>\n",
       "  </tbody>\n",
       "</table>\n",
       "</div>"
      ],
      "text/plain": [
       "                               PermTypeDesc  \\\n",
       "0                Building Residential - New   \n",
       "1                  Building Use & Occupancy   \n",
       "2                      Building Sign Permit   \n",
       "3   Building Residential - Roofing / Siding   \n",
       "4  Building Residential - Tenant Finish Out   \n",
       "\n",
       "                           PermSubtypeDesc PermType  \n",
       "0                  Single Family Residence     CARN  \n",
       "1                            Tents, Stages     CAUO  \n",
       "2              Sign - Ground /  Wall Signs     CASN  \n",
       "3                                   Duplex     CARK  \n",
       "4  Multifamily, Tri-Plex, Quad, Apartments     CART  "
      ]
     },
     "execution_count": 256,
     "metadata": {},
     "output_type": "execute_result"
    }
   ],
   "source": [
    "# let's check type of permit\n",
    "\n",
    "issued.loc[:,['PermTypeDesc','PermSubtypeDesc','PermType']].head()"
   ]
  },
  {
   "cell_type": "code",
   "execution_count": 257,
   "metadata": {},
   "outputs": [],
   "source": [
    "# how many permits issued by year?\n",
    "\n",
    "issued_select1= issued.loc[:,['PermitNo','PermTypeDesc','PermSubtypeDesc','Issued','ConstCost','Zip']]\n",
    "issued_select1['Issued']=pd.to_datetime(issued_select1.Issued)\n"
   ]
  },
  {
   "cell_type": "code",
   "execution_count": 258,
   "metadata": {},
   "outputs": [],
   "source": [
    "issued_select1['Year']=issued_select1['Issued'].dt.year"
   ]
  },
  {
   "cell_type": "code",
   "execution_count": 259,
   "metadata": {},
   "outputs": [],
   "source": [
    "issued_select2=issued_select1.loc[:,['Year','Zip','PermitNo']]\n"
   ]
  },
  {
   "cell_type": "code",
   "execution_count": 260,
   "metadata": {},
   "outputs": [
    {
     "data": {
      "text/html": [
       "<div>\n",
       "<style scoped>\n",
       "    .dataframe tbody tr th:only-of-type {\n",
       "        vertical-align: middle;\n",
       "    }\n",
       "\n",
       "    .dataframe tbody tr th {\n",
       "        vertical-align: top;\n",
       "    }\n",
       "\n",
       "    .dataframe thead th {\n",
       "        text-align: right;\n",
       "    }\n",
       "</style>\n",
       "<table border=\"1\" class=\"dataframe\">\n",
       "  <thead>\n",
       "    <tr style=\"text-align: right;\">\n",
       "      <th></th>\n",
       "      <th>Year</th>\n",
       "      <th>Zip</th>\n",
       "      <th>PermitNo</th>\n",
       "    </tr>\n",
       "  </thead>\n",
       "  <tbody>\n",
       "    <tr>\n",
       "      <th>0</th>\n",
       "      <td>2018</td>\n",
       "      <td>37208</td>\n",
       "      <td>2018002927</td>\n",
       "    </tr>\n",
       "    <tr>\n",
       "      <th>1</th>\n",
       "      <td>2016</td>\n",
       "      <td>37203</td>\n",
       "      <td>201617929</td>\n",
       "    </tr>\n",
       "    <tr>\n",
       "      <th>2</th>\n",
       "      <td>2016</td>\n",
       "      <td>37211</td>\n",
       "      <td>2016049270</td>\n",
       "    </tr>\n",
       "    <tr>\n",
       "      <th>3</th>\n",
       "      <td>2016</td>\n",
       "      <td>37076</td>\n",
       "      <td>2016029907</td>\n",
       "    </tr>\n",
       "    <tr>\n",
       "      <th>4</th>\n",
       "      <td>2015</td>\n",
       "      <td>37203</td>\n",
       "      <td>201533533</td>\n",
       "    </tr>\n",
       "  </tbody>\n",
       "</table>\n",
       "</div>"
      ],
      "text/plain": [
       "   Year    Zip    PermitNo\n",
       "0  2018  37208  2018002927\n",
       "1  2016  37203   201617929\n",
       "2  2016  37211  2016049270\n",
       "3  2016  37076  2016029907\n",
       "4  2015  37203   201533533"
      ]
     },
     "execution_count": 260,
     "metadata": {},
     "output_type": "execute_result"
    }
   ],
   "source": [
    "issued_select2.head()"
   ]
  },
  {
   "cell_type": "code",
   "execution_count": 261,
   "metadata": {},
   "outputs": [
    {
     "ename": "AttributeError",
     "evalue": "'DataFrame' object has no attribute 'Issued'",
     "output_type": "error",
     "traceback": [
      "\u001b[1;31m---------------------------------------------------------------------------\u001b[0m",
      "\u001b[1;31mAttributeError\u001b[0m                            Traceback (most recent call last)",
      "\u001b[1;32m<ipython-input-261-d44c69e80360>\u001b[0m in \u001b[0;36m<module>\u001b[1;34m()\u001b[0m\n\u001b[1;32m----> 1\u001b[1;33m \u001b[0missued_select2\u001b[0m\u001b[1;33m.\u001b[0m\u001b[0mIssued\u001b[0m\u001b[1;33m.\u001b[0m\u001b[0mdtype\u001b[0m\u001b[1;33m\u001b[0m\u001b[0m\n\u001b[0m",
      "\u001b[1;32m~\\Anaconda3\\lib\\site-packages\\pandas\\core\\generic.py\u001b[0m in \u001b[0;36m__getattr__\u001b[1;34m(self, name)\u001b[0m\n\u001b[0;32m   4374\u001b[0m             \u001b[1;32mif\u001b[0m \u001b[0mself\u001b[0m\u001b[1;33m.\u001b[0m\u001b[0m_info_axis\u001b[0m\u001b[1;33m.\u001b[0m\u001b[0m_can_hold_identifiers_and_holds_name\u001b[0m\u001b[1;33m(\u001b[0m\u001b[0mname\u001b[0m\u001b[1;33m)\u001b[0m\u001b[1;33m:\u001b[0m\u001b[1;33m\u001b[0m\u001b[0m\n\u001b[0;32m   4375\u001b[0m                 \u001b[1;32mreturn\u001b[0m \u001b[0mself\u001b[0m\u001b[1;33m[\u001b[0m\u001b[0mname\u001b[0m\u001b[1;33m]\u001b[0m\u001b[1;33m\u001b[0m\u001b[0m\n\u001b[1;32m-> 4376\u001b[1;33m             \u001b[1;32mreturn\u001b[0m \u001b[0mobject\u001b[0m\u001b[1;33m.\u001b[0m\u001b[0m__getattribute__\u001b[0m\u001b[1;33m(\u001b[0m\u001b[0mself\u001b[0m\u001b[1;33m,\u001b[0m \u001b[0mname\u001b[0m\u001b[1;33m)\u001b[0m\u001b[1;33m\u001b[0m\u001b[0m\n\u001b[0m\u001b[0;32m   4377\u001b[0m \u001b[1;33m\u001b[0m\u001b[0m\n\u001b[0;32m   4378\u001b[0m     \u001b[1;32mdef\u001b[0m \u001b[0m__setattr__\u001b[0m\u001b[1;33m(\u001b[0m\u001b[0mself\u001b[0m\u001b[1;33m,\u001b[0m \u001b[0mname\u001b[0m\u001b[1;33m,\u001b[0m \u001b[0mvalue\u001b[0m\u001b[1;33m)\u001b[0m\u001b[1;33m:\u001b[0m\u001b[1;33m\u001b[0m\u001b[0m\n",
      "\u001b[1;31mAttributeError\u001b[0m: 'DataFrame' object has no attribute 'Issued'"
     ]
    }
   ],
   "source": [
    "issued_select2.Issued.dtype"
   ]
  },
  {
   "cell_type": "markdown",
   "metadata": {},
   "source": [
    "- Zip 37209 in 2017 has the highest number of permits issued"
   ]
  },
  {
   "cell_type": "code",
   "execution_count": null,
   "metadata": {},
   "outputs": [],
   "source": [
    "# find count of issued permits by zip code and year\n",
    "issued_zip_yearly=issued_select2.groupby(['Zip','Year']).count()\n",
    "\n",
    "issued_zip_yearly.rename(columns={'PermitNo':'count'},inplace=True)\n",
    "issued_zip_yearly.sort_values('count',ascending=False).head()"
   ]
  },
  {
   "cell_type": "code",
   "execution_count": null,
   "metadata": {},
   "outputs": [],
   "source": [
    "issued_yearly=issued_select2.groupby('Year').count()\n",
    "\n",
    "issued_yearly.rename(columns={'PermitNo':'count'},inplace=True)\n",
    "issued_yearly.sort_values('count',ascending=False)"
   ]
  },
  {
   "cell_type": "code",
   "execution_count": null,
   "metadata": {},
   "outputs": [],
   "source": [
    "# compute desctiptive statistics for coonstruction cost\n",
    "\n",
    "issued_select1.ConstCost.describe()"
   ]
  },
  {
   "cell_type": "code",
   "execution_count": null,
   "metadata": {},
   "outputs": [],
   "source": [
    "# find residential permits\n",
    "residential=(issued.loc[issued['PermType'].isin(['CARN','CARR'])])"
   ]
  },
  {
   "cell_type": "markdown",
   "metadata": {},
   "source": [
    "https://github.com/nss-data-science-cohort-2/data-question-4-affordable-housing-plaid-platypi-plaidypi.git\n",
    "\n",
    "\n",
    "# income groups based on Area Median income(AMI) =$ 68K (for family of 4)\n",
    "AMI=68000\n",
    "\n",
    "income_cat_1=0.30* AMI\n",
    "income_cat_2=60*AMI\n",
    "income_cat_3=0.80*AMI\n",
    "income_cat_4=1.20*AMI\n",
    "income_cat_5>=1.20*AMI\n",
    "\n",
    "\n",
    "# the families should not spend more than 30 % of their income in all categories\n",
    "# where to find income data: census tract\n",
    "# maximum spending on housing per each category\n",
    "\n",
    "cat1_spend=68000*0.3*0.3\n",
    "cat2_spend=68000*0.6*0.3\n",
    "cat3_spend=68000*0.8*0.3\n",
    "cat4_spend=68000*1.2*0.3\n",
    "\n",
    "\n"
   ]
  },
  {
   "cell_type": "code",
   "execution_count": null,
   "metadata": {},
   "outputs": [],
   "source": [
    "AMI=68000\n",
    "\n",
    "income_cat_1=0.30* AMI\n",
    "income_cat_2=60*AMI\n",
    "income_cat_3=0.80*AMI\n",
    "income_cat_4=1.20*AMI\n",
    "\n"
   ]
  },
  {
   "cell_type": "code",
   "execution_count": null,
   "metadata": {},
   "outputs": [],
   "source": [
    "print(income_cat_1)\n",
    "print(income_cat_2)\n",
    "print(income_cat_3)\n",
    "print(income_cat_4)"
   ]
  },
  {
   "cell_type": "code",
   "execution_count": null,
   "metadata": {},
   "outputs": [],
   "source": [
    "cat1_spend=income_cat_1*0.3\n",
    "cat2_spend=income_cat_2*0.3\n",
    "cat3_spend=income_cat_3*0.3\n",
    "cat4_spend=income_cat_4*0.3"
   ]
  },
  {
   "cell_type": "code",
   "execution_count": null,
   "metadata": {},
   "outputs": [],
   "source": [
    "print(cat1_spend)\n",
    "print(cat2_spend)\n",
    "print(cat4_spend)\n",
    "print(cat4_spend)"
   ]
  },
  {
   "cell_type": "code",
   "execution_count": null,
   "metadata": {},
   "outputs": [],
   "source": []
  }
 ],
 "metadata": {
  "kernelspec": {
   "display_name": "Python 3",
   "language": "python",
   "name": "python3"
  },
  "language_info": {
   "codemirror_mode": {
    "name": "ipython",
    "version": 3
   },
   "file_extension": ".py",
   "mimetype": "text/x-python",
   "name": "python",
   "nbconvert_exporter": "python",
   "pygments_lexer": "ipython3",
   "version": "3.6.4"
  }
 },
 "nbformat": 4,
 "nbformat_minor": 2
}
